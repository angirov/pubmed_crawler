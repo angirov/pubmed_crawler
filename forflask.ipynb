{
  "nbformat": 4,
  "nbformat_minor": 0,
  "metadata": {
    "colab": {
      "provenance": [],
      "authorship_tag": "ABX9TyPSOTtejEL3LyYynF54jl/y",
      "include_colab_link": true
    },
    "kernelspec": {
      "name": "python3",
      "display_name": "Python 3"
    },
    "language_info": {
      "name": "python"
    }
  },
  "cells": [
    {
      "cell_type": "markdown",
      "metadata": {
        "id": "view-in-github",
        "colab_type": "text"
      },
      "source": [
        "<a href=\"https://colab.research.google.com/github/angirov/pubmed_crawler/blob/main/forflask.ipynb\" target=\"_parent\"><img src=\"https://colab.research.google.com/assets/colab-badge.svg\" alt=\"Open In Colab\"/></a>"
      ]
    },
    {
      "cell_type": "code",
      "source": [
        "from google.colab import drive\n",
        "drive.mount('/gdrive')"
      ],
      "metadata": {
        "colab": {
          "base_uri": "https://localhost:8080/"
        },
        "id": "o4e90vleNYV3",
        "outputId": "eb704bbb-e8b9-4e65-a249-1df7fb335174"
      },
      "execution_count": 1,
      "outputs": [
        {
          "output_type": "stream",
          "name": "stdout",
          "text": [
            "Drive already mounted at /gdrive; to attempt to forcibly remount, call drive.mount(\"/gdrive\", force_remount=True).\n"
          ]
        }
      ]
    },
    {
      "cell_type": "code",
      "source": [
        "file_name = '/gdrive/MyDrive/dsr/pubmed_data/sim_df.pkl'"
      ],
      "metadata": {
        "id": "FJptBN9dNYV5"
      },
      "execution_count": 2,
      "outputs": []
    },
    {
      "cell_type": "code",
      "source": [
        "import pandas as pd\n",
        "import numpy as np\n",
        "import pickle"
      ],
      "metadata": {
        "id": "smQXr_etNafQ"
      },
      "execution_count": 3,
      "outputs": []
    },
    {
      "cell_type": "code",
      "source": [
        "df = pd.read_pickle(file_name)"
      ],
      "metadata": {
        "id": "poQ6Gn3iP70S"
      },
      "execution_count": 4,
      "outputs": []
    },
    {
      "cell_type": "code",
      "source": [
        "df"
      ],
      "metadata": {
        "id": "km5heNiARKFL"
      },
      "execution_count": null,
      "outputs": []
    },
    {
      "cell_type": "code",
      "source": [
        "with open('authors_list.pkl','rb') as f:\n",
        "    authors = pickle.load(f)"
      ],
      "metadata": {
        "id": "Qd3fNkbORFQv"
      },
      "execution_count": 6,
      "outputs": []
    },
    {
      "cell_type": "code",
      "source": [
        "def get_score(lst, author_1, author_2):\n",
        "  try:\n",
        "    id_1 = lst.index(author_1)\n",
        "    id_2 = lst.index(author_2)\n",
        "  except ValueError:\n",
        "    return \"One of the others does not exist\"\n",
        "  return str(int(df[id_1][id_2] * 100))\n",
        "\n",
        "score = get_score(authors, 'Doudna JA', 'Savage DF')\n",
        "print(score)"
      ],
      "metadata": {
        "colab": {
          "base_uri": "https://localhost:8080/"
        },
        "id": "pnUjdcJvImsF",
        "outputId": "8744a298-7fd8-4633-db03-b7a31a6f68e8"
      },
      "execution_count": 10,
      "outputs": [
        {
          "output_type": "stream",
          "name": "stdout",
          "text": [
            "62\n"
          ]
        }
      ]
    }
  ]
}