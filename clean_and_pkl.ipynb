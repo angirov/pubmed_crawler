{
  "cells": [
    {
      "cell_type": "markdown",
      "metadata": {
        "id": "view-in-github",
        "colab_type": "text"
      },
      "source": [
        "<a href=\"https://colab.research.google.com/github/angirov/pubmed_crawler/blob/main/clean_and_pkl.ipynb\" target=\"_parent\"><img src=\"https://colab.research.google.com/assets/colab-badge.svg\" alt=\"Open In Colab\"/></a>"
      ]
    },
    {
      "cell_type": "code",
      "execution_count": 1,
      "metadata": {
        "id": "8o8clUH9ffoZ"
      },
      "outputs": [],
      "source": [
        "import pandas as pd"
      ]
    },
    {
      "cell_type": "code",
      "source": [
        "from google.colab import drive\n",
        "drive.mount('/gdrive')"
      ],
      "metadata": {
        "colab": {
          "base_uri": "https://localhost:8080/"
        },
        "id": "JRQK3vVyfo1H",
        "outputId": "42ad7fe7-1af4-40c0-f114-2a060f54c7eb"
      },
      "execution_count": 2,
      "outputs": [
        {
          "output_type": "stream",
          "name": "stdout",
          "text": [
            "Mounted at /gdrive\n"
          ]
        }
      ]
    },
    {
      "cell_type": "code",
      "source": [
        "import os\n",
        "\n",
        "year = 2021\n",
        "proj_dir = \"/gdrive/MyDrive/dsr/pubmed_data/\"\n",
        "os.chdir(proj_dir)\n",
        "os.getcwd()\n",
        "\n",
        "all_year_csv = os.path.join(proj_dir, str(year) + \"_all.csv\")"
      ],
      "metadata": {
        "id": "koblO-Pvf15I"
      },
      "execution_count": 64,
      "outputs": []
    },
    {
      "cell_type": "code",
      "source": [
        "!cat {proj_dir}/text_csv/$year/*/* > {proj_dir}{year}_all.csv"
      ],
      "metadata": {
        "id": "HgNSslkNmhfM"
      },
      "execution_count": 62,
      "outputs": []
    },
    {
      "cell_type": "code",
      "execution_count": 65,
      "metadata": {
        "id": "3aYIPcRoffoc"
      },
      "outputs": [],
      "source": [
        "df = pd.read_csv(all_year_csv, header=None, names=['id', 'date', 'title', 'authors', 'keywords', 'abstract', 'references'])"
      ]
    },
    {
      "cell_type": "code",
      "source": [
        "df"
      ],
      "metadata": {
        "colab": {
          "base_uri": "https://localhost:8080/",
          "height": 641
        },
        "id": "QXgJ_ntfh5Kb",
        "outputId": "8df3768c-21d3-4cae-dfe9-ab4a773ba7ed"
      },
      "execution_count": 66,
      "outputs": [
        {
          "output_type": "execute_result",
          "data": {
            "text/plain": [
              "             id                 date  \\\n",
              "0      35391913  2021-01-01 00:00:00   \n",
              "1      35308910  2021-01-01 00:00:00   \n",
              "2      35185779  2021-01-01 00:00:00   \n",
              "3      35178368  2021-01-01 00:00:00   \n",
              "4      35157667  2021-01-01 00:00:00   \n",
              "...         ...                  ...   \n",
              "22263  34972132  2021-12-31 00:00:00   \n",
              "22264  34970696  2021-12-31 00:00:00   \n",
              "22265  34800882  2021-12-31 00:00:00   \n",
              "22266  34794035  2021-12-31 00:00:00   \n",
              "22267  34633928  2021-12-31 00:00:00   \n",
              "\n",
              "                                                   title  \\\n",
              "0      Ultrasound Image Texture Feature Learning-Base...   \n",
              "1      Extraction of Electronic Health Record Data us...   \n",
              "2      Uric Acid Mediated the Association Between BMI...   \n",
              "3      Mapping of Female Breast Cancer Incidence and ...   \n",
              "4      Breast cancer awareness among pharmacy and phy...   \n",
              "...                                                  ...   \n",
              "22263  Risk factors and pharmacotherapy for chemother...   \n",
              "22264  lnc‑MICAL2‑1 sponges miR‑25 to regulate DKK3 e...   \n",
              "22265  Ketamine suppresses proliferation and induces ...   \n",
              "22266  Contribution of branched chain amino acids to ...   \n",
              "22267  Bi-Modal Transfer Learning for Classifying Bre...   \n",
              "\n",
              "                                                 authors  \\\n",
              "0      ['Gong Huiling', 'Qian Mengjia', 'Pan Gaofeng'...   \n",
              "1      ['McGuinness Julia E', 'Zhang Tianmai M', 'Coo...   \n",
              "2      ['Feng Yue', 'Fu Ming', 'Guan Xin', 'Wang Chen...   \n",
              "3                       ['Peng Qiongle', 'Ren Xiaoling']   \n",
              "4      ['Irfan Rao', 'Memon Hisbullah', 'Umrani Ishfa...   \n",
              "...                                                  ...   \n",
              "22263  ['Hiramoto Shiori', 'Asano Hajime', 'Miyamoto ...   \n",
              "22264  ['Yao Jia', 'Li Guanqiao', 'Liu Minfeng', 'Yan...   \n",
              "22265  ['Li Huixin', 'Liu Wei', 'Zhang Xiaoyu', 'Wu F...   \n",
              "22266  ['Mikalayeva Valeryia', 'Pankevičiūtė Monika',...   \n",
              "22267  ['Misra Sampa', 'Jeon Seungwan', 'Managuli Rav...   \n",
              "\n",
              "                                                keywords  \\\n",
              "0                                                    NaN   \n",
              "1                                                    NaN   \n",
              "2      ['Mendelian randomization analysis', 'body mas...   \n",
              "3      ['breast cancer', 'incidence', 'mortality', 'p...   \n",
              "4                                                    NaN   \n",
              "...                                                  ...   \n",
              "22263                                                NaN   \n",
              "22264  ['Dickkopf 3', 'Wnt signaling pathway', 'breas...   \n",
              "22265  ['Breast cancer', 'Ferroptosis', 'GPX4', 'KAT5...   \n",
              "22266  ['Branched chain amino-acids', 'Cancer metabol...   \n",
              "22267                                                NaN   \n",
              "\n",
              "                                                abstract references  \n",
              "0      The use of ultrasound images to acquire breast...        NaN  \n",
              "1      Women at high risk for breast cancer may benef...        NaN  \n",
              "2      BACKGROUND\\nObservational epidemiological stud...        NaN  \n",
              "3      OBJECTIVES\\nBreast cancer is the leading cause...        NaN  \n",
              "4      OBJECTIVE\\nTo evaluate the knowledge and aware...        NaN  \n",
              "...                                                  ...        ...  \n",
              "22263  Chemotherapy-induced peripheral neuropathy (CI...        NaN  \n",
              "22264  The Dickkopf 3 (DKK3) protein antagonizes the ...        NaN  \n",
              "22265  Breast cancer (BC) serves as a prevalent and m...        NaN  \n",
              "22266  Leucine, isoleucine and valine, known as branc...        NaN  \n",
              "22267  Although accurate detection of breast cancer s...        NaN  \n",
              "\n",
              "[22268 rows x 7 columns]"
            ],
            "text/html": [
              "\n",
              "  <div id=\"df-a0f6b587-f2ef-479e-8bf1-71cdd0336d5b\">\n",
              "    <div class=\"colab-df-container\">\n",
              "      <div>\n",
              "<style scoped>\n",
              "    .dataframe tbody tr th:only-of-type {\n",
              "        vertical-align: middle;\n",
              "    }\n",
              "\n",
              "    .dataframe tbody tr th {\n",
              "        vertical-align: top;\n",
              "    }\n",
              "\n",
              "    .dataframe thead th {\n",
              "        text-align: right;\n",
              "    }\n",
              "</style>\n",
              "<table border=\"1\" class=\"dataframe\">\n",
              "  <thead>\n",
              "    <tr style=\"text-align: right;\">\n",
              "      <th></th>\n",
              "      <th>id</th>\n",
              "      <th>date</th>\n",
              "      <th>title</th>\n",
              "      <th>authors</th>\n",
              "      <th>keywords</th>\n",
              "      <th>abstract</th>\n",
              "      <th>references</th>\n",
              "    </tr>\n",
              "  </thead>\n",
              "  <tbody>\n",
              "    <tr>\n",
              "      <th>0</th>\n",
              "      <td>35391913</td>\n",
              "      <td>2021-01-01 00:00:00</td>\n",
              "      <td>Ultrasound Image Texture Feature Learning-Base...</td>\n",
              "      <td>['Gong Huiling', 'Qian Mengjia', 'Pan Gaofeng'...</td>\n",
              "      <td>NaN</td>\n",
              "      <td>The use of ultrasound images to acquire breast...</td>\n",
              "      <td>NaN</td>\n",
              "    </tr>\n",
              "    <tr>\n",
              "      <th>1</th>\n",
              "      <td>35308910</td>\n",
              "      <td>2021-01-01 00:00:00</td>\n",
              "      <td>Extraction of Electronic Health Record Data us...</td>\n",
              "      <td>['McGuinness Julia E', 'Zhang Tianmai M', 'Coo...</td>\n",
              "      <td>NaN</td>\n",
              "      <td>Women at high risk for breast cancer may benef...</td>\n",
              "      <td>NaN</td>\n",
              "    </tr>\n",
              "    <tr>\n",
              "      <th>2</th>\n",
              "      <td>35185779</td>\n",
              "      <td>2021-01-01 00:00:00</td>\n",
              "      <td>Uric Acid Mediated the Association Between BMI...</td>\n",
              "      <td>['Feng Yue', 'Fu Ming', 'Guan Xin', 'Wang Chen...</td>\n",
              "      <td>['Mendelian randomization analysis', 'body mas...</td>\n",
              "      <td>BACKGROUND\\nObservational epidemiological stud...</td>\n",
              "      <td>NaN</td>\n",
              "    </tr>\n",
              "    <tr>\n",
              "      <th>3</th>\n",
              "      <td>35178368</td>\n",
              "      <td>2021-01-01 00:00:00</td>\n",
              "      <td>Mapping of Female Breast Cancer Incidence and ...</td>\n",
              "      <td>['Peng Qiongle', 'Ren Xiaoling']</td>\n",
              "      <td>['breast cancer', 'incidence', 'mortality', 'p...</td>\n",
              "      <td>OBJECTIVES\\nBreast cancer is the leading cause...</td>\n",
              "      <td>NaN</td>\n",
              "    </tr>\n",
              "    <tr>\n",
              "      <th>4</th>\n",
              "      <td>35157667</td>\n",
              "      <td>2021-01-01 00:00:00</td>\n",
              "      <td>Breast cancer awareness among pharmacy and phy...</td>\n",
              "      <td>['Irfan Rao', 'Memon Hisbullah', 'Umrani Ishfa...</td>\n",
              "      <td>NaN</td>\n",
              "      <td>OBJECTIVE\\nTo evaluate the knowledge and aware...</td>\n",
              "      <td>NaN</td>\n",
              "    </tr>\n",
              "    <tr>\n",
              "      <th>...</th>\n",
              "      <td>...</td>\n",
              "      <td>...</td>\n",
              "      <td>...</td>\n",
              "      <td>...</td>\n",
              "      <td>...</td>\n",
              "      <td>...</td>\n",
              "      <td>...</td>\n",
              "    </tr>\n",
              "    <tr>\n",
              "      <th>22263</th>\n",
              "      <td>34972132</td>\n",
              "      <td>2021-12-31 00:00:00</td>\n",
              "      <td>Risk factors and pharmacotherapy for chemother...</td>\n",
              "      <td>['Hiramoto Shiori', 'Asano Hajime', 'Miyamoto ...</td>\n",
              "      <td>NaN</td>\n",
              "      <td>Chemotherapy-induced peripheral neuropathy (CI...</td>\n",
              "      <td>NaN</td>\n",
              "    </tr>\n",
              "    <tr>\n",
              "      <th>22264</th>\n",
              "      <td>34970696</td>\n",
              "      <td>2021-12-31 00:00:00</td>\n",
              "      <td>lnc‑MICAL2‑1 sponges miR‑25 to regulate DKK3 e...</td>\n",
              "      <td>['Yao Jia', 'Li Guanqiao', 'Liu Minfeng', 'Yan...</td>\n",
              "      <td>['Dickkopf 3', 'Wnt signaling pathway', 'breas...</td>\n",
              "      <td>The Dickkopf 3 (DKK3) protein antagonizes the ...</td>\n",
              "      <td>NaN</td>\n",
              "    </tr>\n",
              "    <tr>\n",
              "      <th>22265</th>\n",
              "      <td>34800882</td>\n",
              "      <td>2021-12-31 00:00:00</td>\n",
              "      <td>Ketamine suppresses proliferation and induces ...</td>\n",
              "      <td>['Li Huixin', 'Liu Wei', 'Zhang Xiaoyu', 'Wu F...</td>\n",
              "      <td>['Breast cancer', 'Ferroptosis', 'GPX4', 'KAT5...</td>\n",
              "      <td>Breast cancer (BC) serves as a prevalent and m...</td>\n",
              "      <td>NaN</td>\n",
              "    </tr>\n",
              "    <tr>\n",
              "      <th>22266</th>\n",
              "      <td>34794035</td>\n",
              "      <td>2021-12-31 00:00:00</td>\n",
              "      <td>Contribution of branched chain amino acids to ...</td>\n",
              "      <td>['Mikalayeva Valeryia', 'Pankevičiūtė Monika',...</td>\n",
              "      <td>['Branched chain amino-acids', 'Cancer metabol...</td>\n",
              "      <td>Leucine, isoleucine and valine, known as branc...</td>\n",
              "      <td>NaN</td>\n",
              "    </tr>\n",
              "    <tr>\n",
              "      <th>22267</th>\n",
              "      <td>34633928</td>\n",
              "      <td>2021-12-31 00:00:00</td>\n",
              "      <td>Bi-Modal Transfer Learning for Classifying Bre...</td>\n",
              "      <td>['Misra Sampa', 'Jeon Seungwan', 'Managuli Rav...</td>\n",
              "      <td>NaN</td>\n",
              "      <td>Although accurate detection of breast cancer s...</td>\n",
              "      <td>NaN</td>\n",
              "    </tr>\n",
              "  </tbody>\n",
              "</table>\n",
              "<p>22268 rows × 7 columns</p>\n",
              "</div>\n",
              "      <button class=\"colab-df-convert\" onclick=\"convertToInteractive('df-a0f6b587-f2ef-479e-8bf1-71cdd0336d5b')\"\n",
              "              title=\"Convert this dataframe to an interactive table.\"\n",
              "              style=\"display:none;\">\n",
              "        \n",
              "  <svg xmlns=\"http://www.w3.org/2000/svg\" height=\"24px\"viewBox=\"0 0 24 24\"\n",
              "       width=\"24px\">\n",
              "    <path d=\"M0 0h24v24H0V0z\" fill=\"none\"/>\n",
              "    <path d=\"M18.56 5.44l.94 2.06.94-2.06 2.06-.94-2.06-.94-.94-2.06-.94 2.06-2.06.94zm-11 1L8.5 8.5l.94-2.06 2.06-.94-2.06-.94L8.5 2.5l-.94 2.06-2.06.94zm10 10l.94 2.06.94-2.06 2.06-.94-2.06-.94-.94-2.06-.94 2.06-2.06.94z\"/><path d=\"M17.41 7.96l-1.37-1.37c-.4-.4-.92-.59-1.43-.59-.52 0-1.04.2-1.43.59L10.3 9.45l-7.72 7.72c-.78.78-.78 2.05 0 2.83L4 21.41c.39.39.9.59 1.41.59.51 0 1.02-.2 1.41-.59l7.78-7.78 2.81-2.81c.8-.78.8-2.07 0-2.86zM5.41 20L4 18.59l7.72-7.72 1.47 1.35L5.41 20z\"/>\n",
              "  </svg>\n",
              "      </button>\n",
              "      \n",
              "  <style>\n",
              "    .colab-df-container {\n",
              "      display:flex;\n",
              "      flex-wrap:wrap;\n",
              "      gap: 12px;\n",
              "    }\n",
              "\n",
              "    .colab-df-convert {\n",
              "      background-color: #E8F0FE;\n",
              "      border: none;\n",
              "      border-radius: 50%;\n",
              "      cursor: pointer;\n",
              "      display: none;\n",
              "      fill: #1967D2;\n",
              "      height: 32px;\n",
              "      padding: 0 0 0 0;\n",
              "      width: 32px;\n",
              "    }\n",
              "\n",
              "    .colab-df-convert:hover {\n",
              "      background-color: #E2EBFA;\n",
              "      box-shadow: 0px 1px 2px rgba(60, 64, 67, 0.3), 0px 1px 3px 1px rgba(60, 64, 67, 0.15);\n",
              "      fill: #174EA6;\n",
              "    }\n",
              "\n",
              "    [theme=dark] .colab-df-convert {\n",
              "      background-color: #3B4455;\n",
              "      fill: #D2E3FC;\n",
              "    }\n",
              "\n",
              "    [theme=dark] .colab-df-convert:hover {\n",
              "      background-color: #434B5C;\n",
              "      box-shadow: 0px 1px 3px 1px rgba(0, 0, 0, 0.15);\n",
              "      filter: drop-shadow(0px 1px 2px rgba(0, 0, 0, 0.3));\n",
              "      fill: #FFFFFF;\n",
              "    }\n",
              "  </style>\n",
              "\n",
              "      <script>\n",
              "        const buttonEl =\n",
              "          document.querySelector('#df-a0f6b587-f2ef-479e-8bf1-71cdd0336d5b button.colab-df-convert');\n",
              "        buttonEl.style.display =\n",
              "          google.colab.kernel.accessAllowed ? 'block' : 'none';\n",
              "\n",
              "        async function convertToInteractive(key) {\n",
              "          const element = document.querySelector('#df-a0f6b587-f2ef-479e-8bf1-71cdd0336d5b');\n",
              "          const dataTable =\n",
              "            await google.colab.kernel.invokeFunction('convertToInteractive',\n",
              "                                                     [key], {});\n",
              "          if (!dataTable) return;\n",
              "\n",
              "          const docLinkHtml = 'Like what you see? Visit the ' +\n",
              "            '<a target=\"_blank\" href=https://colab.research.google.com/notebooks/data_table.ipynb>data table notebook</a>'\n",
              "            + ' to learn more about interactive tables.';\n",
              "          element.innerHTML = '';\n",
              "          dataTable['output_type'] = 'display_data';\n",
              "          await google.colab.output.renderOutput(dataTable, element);\n",
              "          const docLink = document.createElement('div');\n",
              "          docLink.innerHTML = docLinkHtml;\n",
              "          element.appendChild(docLink);\n",
              "        }\n",
              "      </script>\n",
              "    </div>\n",
              "  </div>\n",
              "  "
            ]
          },
          "metadata": {},
          "execution_count": 66
        }
      ]
    },
    {
      "cell_type": "code",
      "execution_count": 67,
      "metadata": {
        "colab": {
          "base_uri": "https://localhost:8080/"
        },
        "id": "gqcBMc8pffod",
        "outputId": "0efd54f5-f377-4d4c-d431-2370f10a056f"
      },
      "outputs": [
        {
          "output_type": "execute_result",
          "data": {
            "text/plain": [
              "22268"
            ]
          },
          "metadata": {},
          "execution_count": 67
        }
      ],
      "source": [
        "len(df)"
      ]
    },
    {
      "cell_type": "code",
      "execution_count": 77,
      "metadata": {
        "id": "q05Ui9lYffog"
      },
      "outputs": [],
      "source": [
        "df_with_abstract = df[df['abstract'].notnull()]\n"
      ]
    },
    {
      "cell_type": "code",
      "execution_count": 78,
      "metadata": {
        "colab": {
          "base_uri": "https://localhost:8080/"
        },
        "id": "SUPMcffmffoh",
        "outputId": "b7eb57d8-824e-419d-8efc-7a4217412b53"
      },
      "outputs": [
        {
          "output_type": "execute_result",
          "data": {
            "text/plain": [
              "id            0.000000\n",
              "date          0.000000\n",
              "title         0.000000\n",
              "authors       0.003689\n",
              "keywords      0.274356\n",
              "abstract      0.000000\n",
              "references    0.998689\n",
              "dtype: float64"
            ]
          },
          "metadata": {},
          "execution_count": 78
        }
      ],
      "source": [
        "df_with_abstract.isnull().mean()"
      ]
    },
    {
      "cell_type": "code",
      "execution_count": 79,
      "metadata": {
        "colab": {
          "base_uri": "https://localhost:8080/"
        },
        "id": "5xhZAGdiffoi",
        "outputId": "072eeedc-a06b-4e15-bcd2-5eff61bf57dd"
      },
      "outputs": [
        {
          "output_type": "execute_result",
          "data": {
            "text/plain": [
              "20601"
            ]
          },
          "metadata": {},
          "execution_count": 79
        }
      ],
      "source": [
        "len(df_with_abstract)"
      ]
    },
    {
      "cell_type": "code",
      "source": [
        "pkl_name = os.path.join(proj_dir, str(year) + \"_all.pkl\")\n",
        "\n",
        "df.to_pickle(pkl_name)"
      ],
      "metadata": {
        "id": "dSfEZa7rssow"
      },
      "execution_count": 80,
      "outputs": []
    },
    {
      "cell_type": "code",
      "source": [
        "df_from_pkl = pd.read_pickle(pkl_name)\n",
        "df_from_pkl.head()"
      ],
      "metadata": {
        "colab": {
          "base_uri": "https://localhost:8080/",
          "height": 337
        },
        "id": "e2aSx-vRs_21",
        "outputId": "39cc945f-726b-4995-ac24-b1167ef492e3"
      },
      "execution_count": 81,
      "outputs": [
        {
          "output_type": "execute_result",
          "data": {
            "text/plain": [
              "         id                 date  \\\n",
              "0  35391913  2021-01-01 00:00:00   \n",
              "1  35308910  2021-01-01 00:00:00   \n",
              "2  35185779  2021-01-01 00:00:00   \n",
              "3  35178368  2021-01-01 00:00:00   \n",
              "4  35157667  2021-01-01 00:00:00   \n",
              "\n",
              "                                               title  \\\n",
              "0  Ultrasound Image Texture Feature Learning-Base...   \n",
              "1  Extraction of Electronic Health Record Data us...   \n",
              "2  Uric Acid Mediated the Association Between BMI...   \n",
              "3  Mapping of Female Breast Cancer Incidence and ...   \n",
              "4  Breast cancer awareness among pharmacy and phy...   \n",
              "\n",
              "                                             authors  \\\n",
              "0  ['Gong Huiling', 'Qian Mengjia', 'Pan Gaofeng'...   \n",
              "1  ['McGuinness Julia E', 'Zhang Tianmai M', 'Coo...   \n",
              "2  ['Feng Yue', 'Fu Ming', 'Guan Xin', 'Wang Chen...   \n",
              "3                   ['Peng Qiongle', 'Ren Xiaoling']   \n",
              "4  ['Irfan Rao', 'Memon Hisbullah', 'Umrani Ishfa...   \n",
              "\n",
              "                                            keywords  \\\n",
              "0                                                NaN   \n",
              "1                                                NaN   \n",
              "2  ['Mendelian randomization analysis', 'body mas...   \n",
              "3  ['breast cancer', 'incidence', 'mortality', 'p...   \n",
              "4                                                NaN   \n",
              "\n",
              "                                            abstract references  \n",
              "0  The use of ultrasound images to acquire breast...        NaN  \n",
              "1  Women at high risk for breast cancer may benef...        NaN  \n",
              "2  BACKGROUND\\nObservational epidemiological stud...        NaN  \n",
              "3  OBJECTIVES\\nBreast cancer is the leading cause...        NaN  \n",
              "4  OBJECTIVE\\nTo evaluate the knowledge and aware...        NaN  "
            ],
            "text/html": [
              "\n",
              "  <div id=\"df-a7210579-641b-4f28-a517-913f7df46bca\">\n",
              "    <div class=\"colab-df-container\">\n",
              "      <div>\n",
              "<style scoped>\n",
              "    .dataframe tbody tr th:only-of-type {\n",
              "        vertical-align: middle;\n",
              "    }\n",
              "\n",
              "    .dataframe tbody tr th {\n",
              "        vertical-align: top;\n",
              "    }\n",
              "\n",
              "    .dataframe thead th {\n",
              "        text-align: right;\n",
              "    }\n",
              "</style>\n",
              "<table border=\"1\" class=\"dataframe\">\n",
              "  <thead>\n",
              "    <tr style=\"text-align: right;\">\n",
              "      <th></th>\n",
              "      <th>id</th>\n",
              "      <th>date</th>\n",
              "      <th>title</th>\n",
              "      <th>authors</th>\n",
              "      <th>keywords</th>\n",
              "      <th>abstract</th>\n",
              "      <th>references</th>\n",
              "    </tr>\n",
              "  </thead>\n",
              "  <tbody>\n",
              "    <tr>\n",
              "      <th>0</th>\n",
              "      <td>35391913</td>\n",
              "      <td>2021-01-01 00:00:00</td>\n",
              "      <td>Ultrasound Image Texture Feature Learning-Base...</td>\n",
              "      <td>['Gong Huiling', 'Qian Mengjia', 'Pan Gaofeng'...</td>\n",
              "      <td>NaN</td>\n",
              "      <td>The use of ultrasound images to acquire breast...</td>\n",
              "      <td>NaN</td>\n",
              "    </tr>\n",
              "    <tr>\n",
              "      <th>1</th>\n",
              "      <td>35308910</td>\n",
              "      <td>2021-01-01 00:00:00</td>\n",
              "      <td>Extraction of Electronic Health Record Data us...</td>\n",
              "      <td>['McGuinness Julia E', 'Zhang Tianmai M', 'Coo...</td>\n",
              "      <td>NaN</td>\n",
              "      <td>Women at high risk for breast cancer may benef...</td>\n",
              "      <td>NaN</td>\n",
              "    </tr>\n",
              "    <tr>\n",
              "      <th>2</th>\n",
              "      <td>35185779</td>\n",
              "      <td>2021-01-01 00:00:00</td>\n",
              "      <td>Uric Acid Mediated the Association Between BMI...</td>\n",
              "      <td>['Feng Yue', 'Fu Ming', 'Guan Xin', 'Wang Chen...</td>\n",
              "      <td>['Mendelian randomization analysis', 'body mas...</td>\n",
              "      <td>BACKGROUND\\nObservational epidemiological stud...</td>\n",
              "      <td>NaN</td>\n",
              "    </tr>\n",
              "    <tr>\n",
              "      <th>3</th>\n",
              "      <td>35178368</td>\n",
              "      <td>2021-01-01 00:00:00</td>\n",
              "      <td>Mapping of Female Breast Cancer Incidence and ...</td>\n",
              "      <td>['Peng Qiongle', 'Ren Xiaoling']</td>\n",
              "      <td>['breast cancer', 'incidence', 'mortality', 'p...</td>\n",
              "      <td>OBJECTIVES\\nBreast cancer is the leading cause...</td>\n",
              "      <td>NaN</td>\n",
              "    </tr>\n",
              "    <tr>\n",
              "      <th>4</th>\n",
              "      <td>35157667</td>\n",
              "      <td>2021-01-01 00:00:00</td>\n",
              "      <td>Breast cancer awareness among pharmacy and phy...</td>\n",
              "      <td>['Irfan Rao', 'Memon Hisbullah', 'Umrani Ishfa...</td>\n",
              "      <td>NaN</td>\n",
              "      <td>OBJECTIVE\\nTo evaluate the knowledge and aware...</td>\n",
              "      <td>NaN</td>\n",
              "    </tr>\n",
              "  </tbody>\n",
              "</table>\n",
              "</div>\n",
              "      <button class=\"colab-df-convert\" onclick=\"convertToInteractive('df-a7210579-641b-4f28-a517-913f7df46bca')\"\n",
              "              title=\"Convert this dataframe to an interactive table.\"\n",
              "              style=\"display:none;\">\n",
              "        \n",
              "  <svg xmlns=\"http://www.w3.org/2000/svg\" height=\"24px\"viewBox=\"0 0 24 24\"\n",
              "       width=\"24px\">\n",
              "    <path d=\"M0 0h24v24H0V0z\" fill=\"none\"/>\n",
              "    <path d=\"M18.56 5.44l.94 2.06.94-2.06 2.06-.94-2.06-.94-.94-2.06-.94 2.06-2.06.94zm-11 1L8.5 8.5l.94-2.06 2.06-.94-2.06-.94L8.5 2.5l-.94 2.06-2.06.94zm10 10l.94 2.06.94-2.06 2.06-.94-2.06-.94-.94-2.06-.94 2.06-2.06.94z\"/><path d=\"M17.41 7.96l-1.37-1.37c-.4-.4-.92-.59-1.43-.59-.52 0-1.04.2-1.43.59L10.3 9.45l-7.72 7.72c-.78.78-.78 2.05 0 2.83L4 21.41c.39.39.9.59 1.41.59.51 0 1.02-.2 1.41-.59l7.78-7.78 2.81-2.81c.8-.78.8-2.07 0-2.86zM5.41 20L4 18.59l7.72-7.72 1.47 1.35L5.41 20z\"/>\n",
              "  </svg>\n",
              "      </button>\n",
              "      \n",
              "  <style>\n",
              "    .colab-df-container {\n",
              "      display:flex;\n",
              "      flex-wrap:wrap;\n",
              "      gap: 12px;\n",
              "    }\n",
              "\n",
              "    .colab-df-convert {\n",
              "      background-color: #E8F0FE;\n",
              "      border: none;\n",
              "      border-radius: 50%;\n",
              "      cursor: pointer;\n",
              "      display: none;\n",
              "      fill: #1967D2;\n",
              "      height: 32px;\n",
              "      padding: 0 0 0 0;\n",
              "      width: 32px;\n",
              "    }\n",
              "\n",
              "    .colab-df-convert:hover {\n",
              "      background-color: #E2EBFA;\n",
              "      box-shadow: 0px 1px 2px rgba(60, 64, 67, 0.3), 0px 1px 3px 1px rgba(60, 64, 67, 0.15);\n",
              "      fill: #174EA6;\n",
              "    }\n",
              "\n",
              "    [theme=dark] .colab-df-convert {\n",
              "      background-color: #3B4455;\n",
              "      fill: #D2E3FC;\n",
              "    }\n",
              "\n",
              "    [theme=dark] .colab-df-convert:hover {\n",
              "      background-color: #434B5C;\n",
              "      box-shadow: 0px 1px 3px 1px rgba(0, 0, 0, 0.15);\n",
              "      filter: drop-shadow(0px 1px 2px rgba(0, 0, 0, 0.3));\n",
              "      fill: #FFFFFF;\n",
              "    }\n",
              "  </style>\n",
              "\n",
              "      <script>\n",
              "        const buttonEl =\n",
              "          document.querySelector('#df-a7210579-641b-4f28-a517-913f7df46bca button.colab-df-convert');\n",
              "        buttonEl.style.display =\n",
              "          google.colab.kernel.accessAllowed ? 'block' : 'none';\n",
              "\n",
              "        async function convertToInteractive(key) {\n",
              "          const element = document.querySelector('#df-a7210579-641b-4f28-a517-913f7df46bca');\n",
              "          const dataTable =\n",
              "            await google.colab.kernel.invokeFunction('convertToInteractive',\n",
              "                                                     [key], {});\n",
              "          if (!dataTable) return;\n",
              "\n",
              "          const docLinkHtml = 'Like what you see? Visit the ' +\n",
              "            '<a target=\"_blank\" href=https://colab.research.google.com/notebooks/data_table.ipynb>data table notebook</a>'\n",
              "            + ' to learn more about interactive tables.';\n",
              "          element.innerHTML = '';\n",
              "          dataTable['output_type'] = 'display_data';\n",
              "          await google.colab.output.renderOutput(dataTable, element);\n",
              "          const docLink = document.createElement('div');\n",
              "          docLink.innerHTML = docLinkHtml;\n",
              "          element.appendChild(docLink);\n",
              "        }\n",
              "      </script>\n",
              "    </div>\n",
              "  </div>\n",
              "  "
            ]
          },
          "metadata": {},
          "execution_count": 81
        }
      ]
    }
  ],
  "metadata": {
    "kernelspec": {
      "display_name": "Python 3",
      "language": "python",
      "name": "python3"
    },
    "language_info": {
      "codemirror_mode": {
        "name": "ipython",
        "version": 3
      },
      "file_extension": ".py",
      "mimetype": "text/x-python",
      "name": "python",
      "nbconvert_exporter": "python",
      "pygments_lexer": "ipython3",
      "version": "3.8.16"
    },
    "orig_nbformat": 4,
    "colab": {
      "provenance": [],
      "include_colab_link": true
    }
  },
  "nbformat": 4,
  "nbformat_minor": 0
}