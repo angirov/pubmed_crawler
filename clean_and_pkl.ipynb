{
  "cells": [
    {
      "cell_type": "markdown",
      "metadata": {
        "id": "view-in-github",
        "colab_type": "text"
      },
      "source": [
        "<a href=\"https://colab.research.google.com/github/angirov/pubmed_crawler/blob/main/clean_and_pkl.ipynb\" target=\"_parent\"><img src=\"https://colab.research.google.com/assets/colab-badge.svg\" alt=\"Open In Colab\"/></a>"
      ]
    },
    {
      "cell_type": "code",
      "execution_count": null,
      "metadata": {
        "id": "8o8clUH9ffoZ"
      },
      "outputs": [],
      "source": [
        "import pandas as pd"
      ]
    },
    {
      "cell_type": "code",
      "source": [
        "from google.colab import drive\n",
        "drive.mount('/gdrive')"
      ],
      "metadata": {
        "colab": {
          "base_uri": "https://localhost:8080/"
        },
        "id": "JRQK3vVyfo1H",
        "outputId": "3160d8e3-87c3-47c2-d0a4-60b751bfb033"
      },
      "execution_count": null,
      "outputs": [
        {
          "output_type": "stream",
          "name": "stdout",
          "text": [
            "Drive already mounted at /gdrive; to attempt to forcibly remount, call drive.mount(\"/gdrive\", force_remount=True).\n"
          ]
        }
      ]
    },
    {
      "cell_type": "code",
      "source": [
        "import os\n",
        "\n",
        "year = 2022\n",
        "proj_dir = \"/gdrive/MyDrive/dsr/pubmed_data/\"\n",
        "os.chdir(proj_dir)\n",
        "os.getcwd()\n",
        "\n",
        "all_year_csv = os.path.join(proj_dir, str(year) + \"_all.csv\")"
      ],
      "metadata": {
        "id": "koblO-Pvf15I"
      },
      "execution_count": null,
      "outputs": []
    },
    {
      "cell_type": "code",
      "source": [
        "!cat {proj_dir}/text_csv_new/$year/*/* > {proj_dir}{year}_all_new.csv"
      ],
      "metadata": {
        "id": "HgNSslkNmhfM"
      },
      "execution_count": null,
      "outputs": []
    },
    {
      "cell_type": "code",
      "execution_count": null,
      "metadata": {
        "id": "3aYIPcRoffoc"
      },
      "outputs": [],
      "source": [
        "# df = pd.read_csv(all_year_csv, header=None, names=['id', 'date', 'title', 'authors', 'keywords', 'abstract', 'references'])"
      ]
    },
    {
      "cell_type": "code",
      "execution_count": null,
      "metadata": {
        "id": "q05Ui9lYffog"
      },
      "outputs": [],
      "source": [
        "# df_with_abstract = df[df['abstract'].notnull()]"
      ]
    },
    {
      "cell_type": "code",
      "execution_count": null,
      "metadata": {
        "id": "SUPMcffmffoh"
      },
      "outputs": [],
      "source": [
        "import ast\n",
        "from datetime import datetime\n",
        "def transform_df(df):\n",
        "  new_df = pd.DataFrame()\n",
        "  new_df['id'] = df['id']\n",
        "  new_df['date'] = df['date'].apply(lambda x: datetime.strptime(x, '%Y-%m-%d %H:%M:%S'))\n",
        "  new_df['title'] = df['title']\n",
        "  new_df['authors'] = df['authors'].apply(lambda x: ast.literal_eval(x) if isinstance(x, str) else [])\n",
        "  new_df['keywords'] = df['keywords'].apply(lambda x: ast.literal_eval(x) if isinstance(x, str) else [])\n",
        "  new_df['abstract'] = df['abstract']\n",
        "  return new_df"
      ]
    },
    {
      "cell_type": "code",
      "execution_count": null,
      "metadata": {
        "colab": {
          "base_uri": "https://localhost:8080/"
        },
        "id": "5xhZAGdiffoi",
        "outputId": "20573df9-75c7-4b85-981b-dfb2bb580a6e"
      },
      "outputs": [
        {
          "output_type": "execute_result",
          "data": {
            "text/plain": [
              "19201"
            ]
          },
          "metadata": {},
          "execution_count": 91
        }
      ],
      "source": [
        "# len(df_with_abstract)"
      ]
    },
    {
      "cell_type": "code",
      "source": [
        "pkl_name = os.path.join(proj_dir, str(year) + \"_all.pkl\")"
      ],
      "metadata": {
        "id": "8jtCvNNsyNIB"
      },
      "execution_count": null,
      "outputs": []
    },
    {
      "cell_type": "code",
      "source": [
        "# df.to_pickle(pkl_name)"
      ],
      "metadata": {
        "id": "dSfEZa7rssow"
      },
      "execution_count": null,
      "outputs": []
    },
    {
      "cell_type": "code",
      "source": [
        "df = pd.read_pickle(pkl_name)\n",
        "\n",
        "filter = df['authors'].apply(lambda x: isinstance(x, str))"
      ],
      "metadata": {
        "id": "e2aSx-vRs_21"
      },
      "execution_count": null,
      "outputs": []
    },
    {
      "cell_type": "code",
      "source": [],
      "metadata": {
        "id": "EWbf6mZqm8-v"
      },
      "execution_count": null,
      "outputs": []
    },
    {
      "cell_type": "code",
      "source": [
        "new_df = transform_df(df)"
      ],
      "metadata": {
        "id": "upfimHXvw4C4"
      },
      "execution_count": null,
      "outputs": []
    },
    {
      "cell_type": "code",
      "source": [
        "new_df['authors'][new_df['authors'].notnull()].apply(lambda x: isinstance(x, list)).mean()"
      ],
      "metadata": {
        "colab": {
          "base_uri": "https://localhost:8080/"
        },
        "id": "z2AU7kyqy4nJ",
        "outputId": "3c1ff523-6a50-46bc-9a55-623df1b167c7"
      },
      "execution_count": null,
      "outputs": [
        {
          "output_type": "execute_result",
          "data": {
            "text/plain": [
              "1.0"
            ]
          },
          "metadata": {},
          "execution_count": 87
        }
      ]
    },
    {
      "cell_type": "code",
      "source": [
        "df['keywords'][~df['keywords'].isnull()].apply(ast.literal_eval)"
      ],
      "metadata": {
        "colab": {
          "base_uri": "https://localhost:8080/"
        },
        "id": "pGNodJYcphqO",
        "outputId": "11b711ee-f68e-4379-adef-8d8167082fe2"
      },
      "execution_count": null,
      "outputs": [
        {
          "output_type": "execute_result",
          "data": {
            "text/plain": [
              "0        [BRCA1 gene, Breast cancer, finger dermatoglyp...\n",
              "1        [Idiopathic granulomatous mastitis, case repor...\n",
              "2        [LA7, adaptive immunity, breast cancer stem ce...\n",
              "3        [agreement, artificial intelligence, breast ca...\n",
              "5        [HER2., STARD3, immunohistochemistry, breast c...\n",
              "                               ...                        \n",
              "20846    [Chitosan, Photothermal therapy, Thermosensiti...\n",
              "20847    [Breast cancer, Integrative analysis, PGC-1β, ...\n",
              "20848    [HER3, IGF1R, PRCP, endocrine therapy, prognosis]\n",
              "20849    [AKT, EZH2, LncRNA DUXAP8, breast cancer, radi...\n",
              "20850    [Triple negative breast cancer, adipose-derive...\n",
              "Name: keywords, Length: 14237, dtype: object"
            ]
          },
          "metadata": {},
          "execution_count": 64
        }
      ]
    },
    {
      "cell_type": "code",
      "source": [
        "strf"
      ],
      "metadata": {
        "id": "qitOxu_gwV_2"
      },
      "execution_count": null,
      "outputs": []
    },
    {
      "cell_type": "code",
      "source": [
        "def is_str_lst(lst):\n",
        "  return isinstance(lst, list) and all(isinstance(elem, str) for elem in lst)"
      ],
      "metadata": {
        "colab": {
          "base_uri": "https://localhost:8080/",
          "height": 641
        },
        "id": "N16V1CSGgGw0",
        "outputId": "41ea167c-7313-480b-8cc9-85d910784697"
      },
      "execution_count": null,
      "outputs": [
        {
          "output_type": "execute_result",
          "data": {
            "text/plain": [
              "             id                 date  \\\n",
              "524    35859776  2022-01-01 00:00:00   \n",
              "586    35795855  2022-01-01 00:00:00   \n",
              "702    35692593  2022-01-01 00:00:00   \n",
              "1141   35155677  2022-01-01 00:00:00   \n",
              "1279   35048811  2022-01-01 00:00:00   \n",
              "...         ...                  ...   \n",
              "19217  36780467  2022-12-01 00:00:00   \n",
              "19248  36621794  2022-12-01 00:00:00   \n",
              "20226  36495991  2022-12-08 00:00:00   \n",
              "20266  36509230  2022-12-09 00:00:00   \n",
              "20396  36514004  2022-12-14 00:00:00   \n",
              "\n",
              "                                                   title authors  \\\n",
              "524    Breast Cancer Detection and Classification Emp...     NaN   \n",
              "586    Flavonoids Targeting the mTOR Signaling Cascad...     NaN   \n",
              "702    C-myc/TSPEAR-AS2 Axis Facilitates Breast Cance...     NaN   \n",
              "1141   {'i': ['In Vitro', 'In Vivo'], '#text': 'Riboc...     NaN   \n",
              "1279   Breast Cancer Risk and Human Papillomavirus In...     NaN   \n",
              "...                                                  ...     ...   \n",
              "19217  Year-end highlights in metastatic triple-negat...     NaN   \n",
              "19248  [Correlations of Androgen Receptor Expression ...     NaN   \n",
              "20226  Exploration of hemocompatibility and intratumo...     NaN   \n",
              "20266  Exploring different computational approaches f...     NaN   \n",
              "20396  Factors associated with positive cancer screen...     NaN   \n",
              "\n",
              "                                                keywords  \\\n",
              "524    ['breast cancer (BC)', 'convolutional neural n...   \n",
              "586                                                  NaN   \n",
              "702                                                  NaN   \n",
              "1141                                                 NaN   \n",
              "1279   ['Breast cancer (BC)', 'analogy', 'biological ...   \n",
              "...                                                  ...   \n",
              "19217                                                NaN   \n",
              "19248  ['Tibet region', 'Tibetan ethnic minority', 'a...   \n",
              "20226  ['Breast cancer', 'Hemocompatibility', 'Paclit...   \n",
              "20266  ['Artificial neural network', 'Breast cancer',...   \n",
              "20396  ['Breast cancer', 'Cancer screening', 'Cervica...   \n",
              "\n",
              "                                                abstract references  \n",
              "524    Cancer is a major public health issue in the m...        NaN  \n",
              "586    Cancer is one of the leading causes of death w...        NaN  \n",
              "702    A large number of facts have shown that epigen...        NaN  \n",
              "1141   PURPOSE\\nThe current investigation is on the e...        NaN  \n",
              "1279   BACKGROUND\\nThe association between human papi...        NaN  \n",
              "...                                                  ...        ...  \n",
              "19217                                                NaN        NaN  \n",
              "19248  Objective To investigate the expression of and...        NaN  \n",
              "20226  Although paclitaxel is a front-line chemothera...        NaN  \n",
              "20266  Breast cancer has been identified as one among...        NaN  \n",
              "20396  BACKGROUND\\nIn many middle-income countries, c...        NaN  \n",
              "\n",
              "[71 rows x 7 columns]"
            ],
            "text/html": [
              "\n",
              "  <div id=\"df-191e86be-dc65-4987-910d-249a4c7ccc94\">\n",
              "    <div class=\"colab-df-container\">\n",
              "      <div>\n",
              "<style scoped>\n",
              "    .dataframe tbody tr th:only-of-type {\n",
              "        vertical-align: middle;\n",
              "    }\n",
              "\n",
              "    .dataframe tbody tr th {\n",
              "        vertical-align: top;\n",
              "    }\n",
              "\n",
              "    .dataframe thead th {\n",
              "        text-align: right;\n",
              "    }\n",
              "</style>\n",
              "<table border=\"1\" class=\"dataframe\">\n",
              "  <thead>\n",
              "    <tr style=\"text-align: right;\">\n",
              "      <th></th>\n",
              "      <th>id</th>\n",
              "      <th>date</th>\n",
              "      <th>title</th>\n",
              "      <th>authors</th>\n",
              "      <th>keywords</th>\n",
              "      <th>abstract</th>\n",
              "      <th>references</th>\n",
              "    </tr>\n",
              "  </thead>\n",
              "  <tbody>\n",
              "    <tr>\n",
              "      <th>524</th>\n",
              "      <td>35859776</td>\n",
              "      <td>2022-01-01 00:00:00</td>\n",
              "      <td>Breast Cancer Detection and Classification Emp...</td>\n",
              "      <td>NaN</td>\n",
              "      <td>['breast cancer (BC)', 'convolutional neural n...</td>\n",
              "      <td>Cancer is a major public health issue in the m...</td>\n",
              "      <td>NaN</td>\n",
              "    </tr>\n",
              "    <tr>\n",
              "      <th>586</th>\n",
              "      <td>35795855</td>\n",
              "      <td>2022-01-01 00:00:00</td>\n",
              "      <td>Flavonoids Targeting the mTOR Signaling Cascad...</td>\n",
              "      <td>NaN</td>\n",
              "      <td>NaN</td>\n",
              "      <td>Cancer is one of the leading causes of death w...</td>\n",
              "      <td>NaN</td>\n",
              "    </tr>\n",
              "    <tr>\n",
              "      <th>702</th>\n",
              "      <td>35692593</td>\n",
              "      <td>2022-01-01 00:00:00</td>\n",
              "      <td>C-myc/TSPEAR-AS2 Axis Facilitates Breast Cance...</td>\n",
              "      <td>NaN</td>\n",
              "      <td>NaN</td>\n",
              "      <td>A large number of facts have shown that epigen...</td>\n",
              "      <td>NaN</td>\n",
              "    </tr>\n",
              "    <tr>\n",
              "      <th>1141</th>\n",
              "      <td>35155677</td>\n",
              "      <td>2022-01-01 00:00:00</td>\n",
              "      <td>{'i': ['In Vitro', 'In Vivo'], '#text': 'Riboc...</td>\n",
              "      <td>NaN</td>\n",
              "      <td>NaN</td>\n",
              "      <td>PURPOSE\\nThe current investigation is on the e...</td>\n",
              "      <td>NaN</td>\n",
              "    </tr>\n",
              "    <tr>\n",
              "      <th>1279</th>\n",
              "      <td>35048811</td>\n",
              "      <td>2022-01-01 00:00:00</td>\n",
              "      <td>Breast Cancer Risk and Human Papillomavirus In...</td>\n",
              "      <td>NaN</td>\n",
              "      <td>['Breast cancer (BC)', 'analogy', 'biological ...</td>\n",
              "      <td>BACKGROUND\\nThe association between human papi...</td>\n",
              "      <td>NaN</td>\n",
              "    </tr>\n",
              "    <tr>\n",
              "      <th>...</th>\n",
              "      <td>...</td>\n",
              "      <td>...</td>\n",
              "      <td>...</td>\n",
              "      <td>...</td>\n",
              "      <td>...</td>\n",
              "      <td>...</td>\n",
              "      <td>...</td>\n",
              "    </tr>\n",
              "    <tr>\n",
              "      <th>19217</th>\n",
              "      <td>36780467</td>\n",
              "      <td>2022-12-01 00:00:00</td>\n",
              "      <td>Year-end highlights in metastatic triple-negat...</td>\n",
              "      <td>NaN</td>\n",
              "      <td>NaN</td>\n",
              "      <td>NaN</td>\n",
              "      <td>NaN</td>\n",
              "    </tr>\n",
              "    <tr>\n",
              "      <th>19248</th>\n",
              "      <td>36621794</td>\n",
              "      <td>2022-12-01 00:00:00</td>\n",
              "      <td>[Correlations of Androgen Receptor Expression ...</td>\n",
              "      <td>NaN</td>\n",
              "      <td>['Tibet region', 'Tibetan ethnic minority', 'a...</td>\n",
              "      <td>Objective To investigate the expression of and...</td>\n",
              "      <td>NaN</td>\n",
              "    </tr>\n",
              "    <tr>\n",
              "      <th>20226</th>\n",
              "      <td>36495991</td>\n",
              "      <td>2022-12-08 00:00:00</td>\n",
              "      <td>Exploration of hemocompatibility and intratumo...</td>\n",
              "      <td>NaN</td>\n",
              "      <td>['Breast cancer', 'Hemocompatibility', 'Paclit...</td>\n",
              "      <td>Although paclitaxel is a front-line chemothera...</td>\n",
              "      <td>NaN</td>\n",
              "    </tr>\n",
              "    <tr>\n",
              "      <th>20266</th>\n",
              "      <td>36509230</td>\n",
              "      <td>2022-12-09 00:00:00</td>\n",
              "      <td>Exploring different computational approaches f...</td>\n",
              "      <td>NaN</td>\n",
              "      <td>['Artificial neural network', 'Breast cancer',...</td>\n",
              "      <td>Breast cancer has been identified as one among...</td>\n",
              "      <td>NaN</td>\n",
              "    </tr>\n",
              "    <tr>\n",
              "      <th>20396</th>\n",
              "      <td>36514004</td>\n",
              "      <td>2022-12-14 00:00:00</td>\n",
              "      <td>Factors associated with positive cancer screen...</td>\n",
              "      <td>NaN</td>\n",
              "      <td>['Breast cancer', 'Cancer screening', 'Cervica...</td>\n",
              "      <td>BACKGROUND\\nIn many middle-income countries, c...</td>\n",
              "      <td>NaN</td>\n",
              "    </tr>\n",
              "  </tbody>\n",
              "</table>\n",
              "<p>71 rows × 7 columns</p>\n",
              "</div>\n",
              "      <button class=\"colab-df-convert\" onclick=\"convertToInteractive('df-191e86be-dc65-4987-910d-249a4c7ccc94')\"\n",
              "              title=\"Convert this dataframe to an interactive table.\"\n",
              "              style=\"display:none;\">\n",
              "        \n",
              "  <svg xmlns=\"http://www.w3.org/2000/svg\" height=\"24px\"viewBox=\"0 0 24 24\"\n",
              "       width=\"24px\">\n",
              "    <path d=\"M0 0h24v24H0V0z\" fill=\"none\"/>\n",
              "    <path d=\"M18.56 5.44l.94 2.06.94-2.06 2.06-.94-2.06-.94-.94-2.06-.94 2.06-2.06.94zm-11 1L8.5 8.5l.94-2.06 2.06-.94-2.06-.94L8.5 2.5l-.94 2.06-2.06.94zm10 10l.94 2.06.94-2.06 2.06-.94-2.06-.94-.94-2.06-.94 2.06-2.06.94z\"/><path d=\"M17.41 7.96l-1.37-1.37c-.4-.4-.92-.59-1.43-.59-.52 0-1.04.2-1.43.59L10.3 9.45l-7.72 7.72c-.78.78-.78 2.05 0 2.83L4 21.41c.39.39.9.59 1.41.59.51 0 1.02-.2 1.41-.59l7.78-7.78 2.81-2.81c.8-.78.8-2.07 0-2.86zM5.41 20L4 18.59l7.72-7.72 1.47 1.35L5.41 20z\"/>\n",
              "  </svg>\n",
              "      </button>\n",
              "      \n",
              "  <style>\n",
              "    .colab-df-container {\n",
              "      display:flex;\n",
              "      flex-wrap:wrap;\n",
              "      gap: 12px;\n",
              "    }\n",
              "\n",
              "    .colab-df-convert {\n",
              "      background-color: #E8F0FE;\n",
              "      border: none;\n",
              "      border-radius: 50%;\n",
              "      cursor: pointer;\n",
              "      display: none;\n",
              "      fill: #1967D2;\n",
              "      height: 32px;\n",
              "      padding: 0 0 0 0;\n",
              "      width: 32px;\n",
              "    }\n",
              "\n",
              "    .colab-df-convert:hover {\n",
              "      background-color: #E2EBFA;\n",
              "      box-shadow: 0px 1px 2px rgba(60, 64, 67, 0.3), 0px 1px 3px 1px rgba(60, 64, 67, 0.15);\n",
              "      fill: #174EA6;\n",
              "    }\n",
              "\n",
              "    [theme=dark] .colab-df-convert {\n",
              "      background-color: #3B4455;\n",
              "      fill: #D2E3FC;\n",
              "    }\n",
              "\n",
              "    [theme=dark] .colab-df-convert:hover {\n",
              "      background-color: #434B5C;\n",
              "      box-shadow: 0px 1px 3px 1px rgba(0, 0, 0, 0.15);\n",
              "      filter: drop-shadow(0px 1px 2px rgba(0, 0, 0, 0.3));\n",
              "      fill: #FFFFFF;\n",
              "    }\n",
              "  </style>\n",
              "\n",
              "      <script>\n",
              "        const buttonEl =\n",
              "          document.querySelector('#df-191e86be-dc65-4987-910d-249a4c7ccc94 button.colab-df-convert');\n",
              "        buttonEl.style.display =\n",
              "          google.colab.kernel.accessAllowed ? 'block' : 'none';\n",
              "\n",
              "        async function convertToInteractive(key) {\n",
              "          const element = document.querySelector('#df-191e86be-dc65-4987-910d-249a4c7ccc94');\n",
              "          const dataTable =\n",
              "            await google.colab.kernel.invokeFunction('convertToInteractive',\n",
              "                                                     [key], {});\n",
              "          if (!dataTable) return;\n",
              "\n",
              "          const docLinkHtml = 'Like what you see? Visit the ' +\n",
              "            '<a target=\"_blank\" href=https://colab.research.google.com/notebooks/data_table.ipynb>data table notebook</a>'\n",
              "            + ' to learn more about interactive tables.';\n",
              "          element.innerHTML = '';\n",
              "          dataTable['output_type'] = 'display_data';\n",
              "          await google.colab.output.renderOutput(dataTable, element);\n",
              "          const docLink = document.createElement('div');\n",
              "          docLink.innerHTML = docLinkHtml;\n",
              "          element.appendChild(docLink);\n",
              "        }\n",
              "      </script>\n",
              "    </div>\n",
              "  </div>\n",
              "  "
            ]
          },
          "metadata": {},
          "execution_count": 38
        }
      ]
    }
  ],
  "metadata": {
    "kernelspec": {
      "display_name": "Python 3",
      "language": "python",
      "name": "python3"
    },
    "language_info": {
      "codemirror_mode": {
        "name": "ipython",
        "version": 3
      },
      "file_extension": ".py",
      "mimetype": "text/x-python",
      "name": "python",
      "nbconvert_exporter": "python",
      "pygments_lexer": "ipython3",
      "version": "3.8.16"
    },
    "orig_nbformat": 4,
    "colab": {
      "provenance": [],
      "include_colab_link": true
    }
  },
  "nbformat": 4,
  "nbformat_minor": 0
}