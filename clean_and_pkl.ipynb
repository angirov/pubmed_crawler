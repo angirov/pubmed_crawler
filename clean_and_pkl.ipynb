{
  "cells": [
    {
      "cell_type": "markdown",
      "metadata": {
        "id": "view-in-github",
        "colab_type": "text"
      },
      "source": [
        "<a href=\"https://colab.research.google.com/github/angirov/pubmed_crawler/blob/main/clean_and_pkl.ipynb\" target=\"_parent\"><img src=\"https://colab.research.google.com/assets/colab-badge.svg\" alt=\"Open In Colab\"/></a>"
      ]
    },
    {
      "cell_type": "code",
      "execution_count": 64,
      "metadata": {
        "id": "8o8clUH9ffoZ"
      },
      "outputs": [],
      "source": [
        "import pandas as pd"
      ]
    },
    {
      "cell_type": "code",
      "source": [
        "from google.colab import drive\n",
        "drive.mount('/gdrive')"
      ],
      "metadata": {
        "colab": {
          "base_uri": "https://localhost:8080/"
        },
        "id": "JRQK3vVyfo1H",
        "outputId": "d1de2779-938e-4c02-e6a3-6d6dc1181b21"
      },
      "execution_count": 65,
      "outputs": [
        {
          "output_type": "stream",
          "name": "stdout",
          "text": [
            "Drive already mounted at /gdrive; to attempt to forcibly remount, call drive.mount(\"/gdrive\", force_remount=True).\n"
          ]
        }
      ]
    },
    {
      "cell_type": "code",
      "source": [
        "import os\n",
        "\n",
        "year = 2023\n",
        "proj_dir = \"/gdrive/MyDrive/dsr/pubmed_data\"\n",
        "os.chdir(proj_dir)\n",
        "os.getcwd()\n",
        "\n",
        "all_year_csv = os.path.join(proj_dir, str(year) + \"_all.csv\")"
      ],
      "metadata": {
        "id": "koblO-Pvf15I"
      },
      "execution_count": 71,
      "outputs": []
    },
    {
      "cell_type": "code",
      "source": [
        "!cat {proj_dir}/text_csv/$year/*/* > {all_year_csv}"
      ],
      "metadata": {
        "id": "HgNSslkNmhfM"
      },
      "execution_count": 73,
      "outputs": []
    },
    {
      "cell_type": "code",
      "execution_count": 74,
      "metadata": {
        "id": "3aYIPcRoffoc"
      },
      "outputs": [],
      "source": [
        "df = pd.read_csv(all_year_csv, header=None, names=['id', 'date', 'title', 'authors', 'keywords', 'abstract', 'references'])"
      ]
    },
    {
      "cell_type": "code",
      "source": [
        "df"
      ],
      "metadata": {
        "id": "7eKwivcMzP6L",
        "outputId": "6c206560-5a45-4643-d757-e7c96b1332bf",
        "colab": {
          "base_uri": "https://localhost:8080/",
          "height": 641
        }
      },
      "execution_count": 75,
      "outputs": [
        {
          "output_type": "execute_result",
          "data": {
            "text/plain": [
              "            id                 date  \\\n",
              "0     36938720  2023-01-01 00:00:00   \n",
              "1     36938678  2023-01-01 00:00:00   \n",
              "2     36938303  2023-01-01 00:00:00   \n",
              "3     36937550  2023-01-01 00:00:00   \n",
              "4     36936167  2023-01-01 00:00:00   \n",
              "...        ...                  ...   \n",
              "3002  36937550  2023-03-11 00:00:00   \n",
              "3003  36913304  2023-03-11 00:00:00   \n",
              "3004  36906629  2023-03-11 00:00:00   \n",
              "3005  36906618  2023-03-11 00:00:00   \n",
              "3006  36906610  2023-03-11 00:00:00   \n",
              "\n",
              "                                                  title  \\\n",
              "0     The role of HMGCR expression in combination th...   \n",
              "1     LINC00460 Facilitates Cell Proliferation and I...   \n",
              "2                 COVID-19 and Breast Cancer in Brazil.   \n",
              "3     A Novel Nanoemulsion Formula for an Improved D...   \n",
              "4     A large-scale screening and functional sorting...   \n",
              "...                                                 ...   \n",
              "3002  A Novel Nanoemulsion Formula for an Improved D...   \n",
              "3003  Genomic landscape of metastatic breast cancer ...   \n",
              "3004  Longitudinal analysis of long-term outcomes of...   \n",
              "3005  Improving the robustness and stability of a ma...   \n",
              "3006  Hypomorphic Brca2 and Rad51c double mutant mic...   \n",
              "\n",
              "                                                authors  \\\n",
              "0     ['Yulian Erwin Danil', 'Siregar Nurjati Chaira...   \n",
              "1     ['Zhang Chuanqiang', 'Xu Liang', 'Li Xiaowei',...   \n",
              "2     ['Rocha Aline Ferreira Bandeira Melo', 'Freita...   \n",
              "3     ['Tawfik Noran M', 'Teiama Mohammed S', 'Iskan...   \n",
              "4     ['Xiao Bo', 'Li Mingwei', 'Cui Mingxuan', 'Yin...   \n",
              "...                                                 ...   \n",
              "3002  ['Tawfik Noran M', 'Teiama Mohammed S', 'Iskan...   \n",
              "3003  ['Bou Zerdan Maroun', 'Ashok Kumar Prashanth',...   \n",
              "3004  ['Lee Kyeong-Tae', 'Kim Jina', 'Jeon Byung Joo...   \n",
              "3005  ['Arya Nikhilanand', 'Saha Sriparna', 'Mathur ...   \n",
              "3006  ['Tomaszowski Karl-Heinz', 'Roy Sunetra', 'Gue...   \n",
              "\n",
              "                                               keywords  \\\n",
              "0     ['Breast neoplasms', 'cholesterol', 'hydroxyme...   \n",
              "1     ['LINC00460', 'MAL2', 'breast cancer', 'ferrop...   \n",
              "2     ['Brazil', 'COVID-19', 'breast cancer', 'breas...   \n",
              "3     ['antiangiogenic', 'cytotoxicity', 'docking st...   \n",
              "4     ['breast cancer', 'cell proliferation', 'miRNA...   \n",
              "...                                                 ...   \n",
              "3002  ['antiangiogenic', 'cytotoxicity', 'docking st...   \n",
              "3003       ['MTAP loss', 'breast cancer', 'metastatic']   \n",
              "3004                                                NaN   \n",
              "3005                                                NaN   \n",
              "3006                                                NaN   \n",
              "\n",
              "                                               abstract references  \n",
              "0     OBJECTIVE\\nSeveral studies have shown the role...        NaN  \n",
              "1     Emerging evidence suggests that long noncoding...        NaN  \n",
              "2     This study aimed to evaluate COVID-19 effects ...        NaN  \n",
              "3     BACKGROUND\\nThalidomide (THD) and its analogue...        NaN  \n",
              "4     PURPOSE\\nThe aim of this study was to systemat...        NaN  \n",
              "...                                                 ...        ...  \n",
              "3002  BACKGROUND\\nThalidomide (THD) and its analogue...        NaN  \n",
              "3003  INTRODUCTION\\nHomozygous deletion of  upregula...        NaN  \n",
              "3004  Two-stage tissue expander/implant (TE/I) and d...        NaN  \n",
              "3005  Breast cancer is a deadly disease with a high ...        NaN  \n",
              "3006  The prototypic cancer-predisposition disease F...        NaN  \n",
              "\n",
              "[3007 rows x 7 columns]"
            ],
            "text/html": [
              "\n",
              "  <div id=\"df-72c49324-312e-400b-b0cc-717f50c06839\">\n",
              "    <div class=\"colab-df-container\">\n",
              "      <div>\n",
              "<style scoped>\n",
              "    .dataframe tbody tr th:only-of-type {\n",
              "        vertical-align: middle;\n",
              "    }\n",
              "\n",
              "    .dataframe tbody tr th {\n",
              "        vertical-align: top;\n",
              "    }\n",
              "\n",
              "    .dataframe thead th {\n",
              "        text-align: right;\n",
              "    }\n",
              "</style>\n",
              "<table border=\"1\" class=\"dataframe\">\n",
              "  <thead>\n",
              "    <tr style=\"text-align: right;\">\n",
              "      <th></th>\n",
              "      <th>id</th>\n",
              "      <th>date</th>\n",
              "      <th>title</th>\n",
              "      <th>authors</th>\n",
              "      <th>keywords</th>\n",
              "      <th>abstract</th>\n",
              "      <th>references</th>\n",
              "    </tr>\n",
              "  </thead>\n",
              "  <tbody>\n",
              "    <tr>\n",
              "      <th>0</th>\n",
              "      <td>36938720</td>\n",
              "      <td>2023-01-01 00:00:00</td>\n",
              "      <td>The role of HMGCR expression in combination th...</td>\n",
              "      <td>['Yulian Erwin Danil', 'Siregar Nurjati Chaira...</td>\n",
              "      <td>['Breast neoplasms', 'cholesterol', 'hydroxyme...</td>\n",
              "      <td>OBJECTIVE\\nSeveral studies have shown the role...</td>\n",
              "      <td>NaN</td>\n",
              "    </tr>\n",
              "    <tr>\n",
              "      <th>1</th>\n",
              "      <td>36938678</td>\n",
              "      <td>2023-01-01 00:00:00</td>\n",
              "      <td>LINC00460 Facilitates Cell Proliferation and I...</td>\n",
              "      <td>['Zhang Chuanqiang', 'Xu Liang', 'Li Xiaowei',...</td>\n",
              "      <td>['LINC00460', 'MAL2', 'breast cancer', 'ferrop...</td>\n",
              "      <td>Emerging evidence suggests that long noncoding...</td>\n",
              "      <td>NaN</td>\n",
              "    </tr>\n",
              "    <tr>\n",
              "      <th>2</th>\n",
              "      <td>36938303</td>\n",
              "      <td>2023-01-01 00:00:00</td>\n",
              "      <td>COVID-19 and Breast Cancer in Brazil.</td>\n",
              "      <td>['Rocha Aline Ferreira Bandeira Melo', 'Freita...</td>\n",
              "      <td>['Brazil', 'COVID-19', 'breast cancer', 'breas...</td>\n",
              "      <td>This study aimed to evaluate COVID-19 effects ...</td>\n",
              "      <td>NaN</td>\n",
              "    </tr>\n",
              "    <tr>\n",
              "      <th>3</th>\n",
              "      <td>36937550</td>\n",
              "      <td>2023-01-01 00:00:00</td>\n",
              "      <td>A Novel Nanoemulsion Formula for an Improved D...</td>\n",
              "      <td>['Tawfik Noran M', 'Teiama Mohammed S', 'Iskan...</td>\n",
              "      <td>['antiangiogenic', 'cytotoxicity', 'docking st...</td>\n",
              "      <td>BACKGROUND\\nThalidomide (THD) and its analogue...</td>\n",
              "      <td>NaN</td>\n",
              "    </tr>\n",
              "    <tr>\n",
              "      <th>4</th>\n",
              "      <td>36936167</td>\n",
              "      <td>2023-01-01 00:00:00</td>\n",
              "      <td>A large-scale screening and functional sorting...</td>\n",
              "      <td>['Xiao Bo', 'Li Mingwei', 'Cui Mingxuan', 'Yin...</td>\n",
              "      <td>['breast cancer', 'cell proliferation', 'miRNA...</td>\n",
              "      <td>PURPOSE\\nThe aim of this study was to systemat...</td>\n",
              "      <td>NaN</td>\n",
              "    </tr>\n",
              "    <tr>\n",
              "      <th>...</th>\n",
              "      <td>...</td>\n",
              "      <td>...</td>\n",
              "      <td>...</td>\n",
              "      <td>...</td>\n",
              "      <td>...</td>\n",
              "      <td>...</td>\n",
              "      <td>...</td>\n",
              "    </tr>\n",
              "    <tr>\n",
              "      <th>3002</th>\n",
              "      <td>36937550</td>\n",
              "      <td>2023-03-11 00:00:00</td>\n",
              "      <td>A Novel Nanoemulsion Formula for an Improved D...</td>\n",
              "      <td>['Tawfik Noran M', 'Teiama Mohammed S', 'Iskan...</td>\n",
              "      <td>['antiangiogenic', 'cytotoxicity', 'docking st...</td>\n",
              "      <td>BACKGROUND\\nThalidomide (THD) and its analogue...</td>\n",
              "      <td>NaN</td>\n",
              "    </tr>\n",
              "    <tr>\n",
              "      <th>3003</th>\n",
              "      <td>36913304</td>\n",
              "      <td>2023-03-11 00:00:00</td>\n",
              "      <td>Genomic landscape of metastatic breast cancer ...</td>\n",
              "      <td>['Bou Zerdan Maroun', 'Ashok Kumar Prashanth',...</td>\n",
              "      <td>['MTAP loss', 'breast cancer', 'metastatic']</td>\n",
              "      <td>INTRODUCTION\\nHomozygous deletion of  upregula...</td>\n",
              "      <td>NaN</td>\n",
              "    </tr>\n",
              "    <tr>\n",
              "      <th>3004</th>\n",
              "      <td>36906629</td>\n",
              "      <td>2023-03-11 00:00:00</td>\n",
              "      <td>Longitudinal analysis of long-term outcomes of...</td>\n",
              "      <td>['Lee Kyeong-Tae', 'Kim Jina', 'Jeon Byung Joo...</td>\n",
              "      <td>NaN</td>\n",
              "      <td>Two-stage tissue expander/implant (TE/I) and d...</td>\n",
              "      <td>NaN</td>\n",
              "    </tr>\n",
              "    <tr>\n",
              "      <th>3005</th>\n",
              "      <td>36906618</td>\n",
              "      <td>2023-03-11 00:00:00</td>\n",
              "      <td>Improving the robustness and stability of a ma...</td>\n",
              "      <td>['Arya Nikhilanand', 'Saha Sriparna', 'Mathur ...</td>\n",
              "      <td>NaN</td>\n",
              "      <td>Breast cancer is a deadly disease with a high ...</td>\n",
              "      <td>NaN</td>\n",
              "    </tr>\n",
              "    <tr>\n",
              "      <th>3006</th>\n",
              "      <td>36906610</td>\n",
              "      <td>2023-03-11 00:00:00</td>\n",
              "      <td>Hypomorphic Brca2 and Rad51c double mutant mic...</td>\n",
              "      <td>['Tomaszowski Karl-Heinz', 'Roy Sunetra', 'Gue...</td>\n",
              "      <td>NaN</td>\n",
              "      <td>The prototypic cancer-predisposition disease F...</td>\n",
              "      <td>NaN</td>\n",
              "    </tr>\n",
              "  </tbody>\n",
              "</table>\n",
              "<p>3007 rows × 7 columns</p>\n",
              "</div>\n",
              "      <button class=\"colab-df-convert\" onclick=\"convertToInteractive('df-72c49324-312e-400b-b0cc-717f50c06839')\"\n",
              "              title=\"Convert this dataframe to an interactive table.\"\n",
              "              style=\"display:none;\">\n",
              "        \n",
              "  <svg xmlns=\"http://www.w3.org/2000/svg\" height=\"24px\"viewBox=\"0 0 24 24\"\n",
              "       width=\"24px\">\n",
              "    <path d=\"M0 0h24v24H0V0z\" fill=\"none\"/>\n",
              "    <path d=\"M18.56 5.44l.94 2.06.94-2.06 2.06-.94-2.06-.94-.94-2.06-.94 2.06-2.06.94zm-11 1L8.5 8.5l.94-2.06 2.06-.94-2.06-.94L8.5 2.5l-.94 2.06-2.06.94zm10 10l.94 2.06.94-2.06 2.06-.94-2.06-.94-.94-2.06-.94 2.06-2.06.94z\"/><path d=\"M17.41 7.96l-1.37-1.37c-.4-.4-.92-.59-1.43-.59-.52 0-1.04.2-1.43.59L10.3 9.45l-7.72 7.72c-.78.78-.78 2.05 0 2.83L4 21.41c.39.39.9.59 1.41.59.51 0 1.02-.2 1.41-.59l7.78-7.78 2.81-2.81c.8-.78.8-2.07 0-2.86zM5.41 20L4 18.59l7.72-7.72 1.47 1.35L5.41 20z\"/>\n",
              "  </svg>\n",
              "      </button>\n",
              "      \n",
              "  <style>\n",
              "    .colab-df-container {\n",
              "      display:flex;\n",
              "      flex-wrap:wrap;\n",
              "      gap: 12px;\n",
              "    }\n",
              "\n",
              "    .colab-df-convert {\n",
              "      background-color: #E8F0FE;\n",
              "      border: none;\n",
              "      border-radius: 50%;\n",
              "      cursor: pointer;\n",
              "      display: none;\n",
              "      fill: #1967D2;\n",
              "      height: 32px;\n",
              "      padding: 0 0 0 0;\n",
              "      width: 32px;\n",
              "    }\n",
              "\n",
              "    .colab-df-convert:hover {\n",
              "      background-color: #E2EBFA;\n",
              "      box-shadow: 0px 1px 2px rgba(60, 64, 67, 0.3), 0px 1px 3px 1px rgba(60, 64, 67, 0.15);\n",
              "      fill: #174EA6;\n",
              "    }\n",
              "\n",
              "    [theme=dark] .colab-df-convert {\n",
              "      background-color: #3B4455;\n",
              "      fill: #D2E3FC;\n",
              "    }\n",
              "\n",
              "    [theme=dark] .colab-df-convert:hover {\n",
              "      background-color: #434B5C;\n",
              "      box-shadow: 0px 1px 3px 1px rgba(0, 0, 0, 0.15);\n",
              "      filter: drop-shadow(0px 1px 2px rgba(0, 0, 0, 0.3));\n",
              "      fill: #FFFFFF;\n",
              "    }\n",
              "  </style>\n",
              "\n",
              "      <script>\n",
              "        const buttonEl =\n",
              "          document.querySelector('#df-72c49324-312e-400b-b0cc-717f50c06839 button.colab-df-convert');\n",
              "        buttonEl.style.display =\n",
              "          google.colab.kernel.accessAllowed ? 'block' : 'none';\n",
              "\n",
              "        async function convertToInteractive(key) {\n",
              "          const element = document.querySelector('#df-72c49324-312e-400b-b0cc-717f50c06839');\n",
              "          const dataTable =\n",
              "            await google.colab.kernel.invokeFunction('convertToInteractive',\n",
              "                                                     [key], {});\n",
              "          if (!dataTable) return;\n",
              "\n",
              "          const docLinkHtml = 'Like what you see? Visit the ' +\n",
              "            '<a target=\"_blank\" href=https://colab.research.google.com/notebooks/data_table.ipynb>data table notebook</a>'\n",
              "            + ' to learn more about interactive tables.';\n",
              "          element.innerHTML = '';\n",
              "          dataTable['output_type'] = 'display_data';\n",
              "          await google.colab.output.renderOutput(dataTable, element);\n",
              "          const docLink = document.createElement('div');\n",
              "          docLink.innerHTML = docLinkHtml;\n",
              "          element.appendChild(docLink);\n",
              "        }\n",
              "      </script>\n",
              "    </div>\n",
              "  </div>\n",
              "  "
            ]
          },
          "metadata": {},
          "execution_count": 75
        }
      ]
    },
    {
      "cell_type": "code",
      "source": [
        "df.title[df.title.apply(lambda x: (x[0] == \"{\") | (x[0] == \"[\"))].apply(lambda x: x[:5] + \" ... \" + x[-5:]) #'#text' in x).mean()"
      ],
      "metadata": {
        "id": "TOhwoOz4t274",
        "outputId": "6378c610-1884-446a-acb3-d464b747b8ac",
        "colab": {
          "base_uri": "https://localhost:8080/"
        }
      },
      "execution_count": 79,
      "outputs": [
        {
          "output_type": "execute_result",
          "data": {
            "text/plain": [
              "64      [SENT ... ort].\n",
              "66      [Esti ... ata].\n",
              "104     [Expr ... mas].\n",
              "108     [Five ... ant].\n",
              "109     [Chal ... ies].\n",
              "186     [Prep ... lls].\n",
              "205     [COVI ... ods].\n",
              "326     [Fert ... sk?].\n",
              "444     [Brea ... sis].\n",
              "537     [Ther ... cer].\n",
              "556     [Muci ... oma].\n",
              "559     [How  ... ts?].\n",
              "624     [A su ... oma].\n",
              "690     [Morb ... aps].\n",
              "732     [Sati ... ion].\n",
              "759     [Infl ... iew].\n",
              "775     [Impa ... ure].\n",
              "872     [Asso ... cer].\n",
              "898     [Trip ... ors].\n",
              "933     [Meth ... ion].\n",
              "1118    [Clin ... cer].\n",
              "1134    [B3 l ... ate].\n",
              "1177    [The  ... ity].\n",
              "1351    [Quan ... its].\n",
              "1383    [Init ... ort].\n",
              "1384    [A Ca ... ses].\n",
              "1385    [The  ... cer].\n",
              "1386    [Deci ... cer].\n",
              "1387    [Inte ... ort].\n",
              "1417    [Peri ... dy.].\n",
              "1445    [Appl ... ent].\n",
              "1446    [A re ... cer].\n",
              "1447    [Retr ... MRI].\n",
              "1448    [Deve ... cer].\n",
              "1508    [B3 l ... ate].\n",
              "1518    [Clin ... cer].\n",
              "1528    [Expe ... er?].\n",
              "1556    [Trip ... ors].\n",
              "1595    [Immu ... ics].\n",
              "1625    [Bisp ... sis].\n",
              "2016    [From ... oma].\n",
              "2046    [Scre ... 014].\n",
              "2047    [Exer ... cer].\n",
              "2109    [Unme ... ion].\n",
              "2171    [Tran ... ase].\n",
              "2172    [Path ... sis].\n",
              "2208    [Diag ... ors].\n",
              "2297    [Expe ... on)].\n",
              "2312    [Rena ... tus].\n",
              "2400    [Esti ... ata].\n",
              "2458    [A Ca ... ion].\n",
              "2459    [A Ca ... can].\n",
              "2460    [Effi ... nts].\n",
              "2480    [Brea ... men].\n",
              "2546    [Diag ... ors].\n",
              "2596    [Use  ... ogy].\n",
              "2820    [Meta ... sia].\n",
              "Name: title, dtype: object"
            ]
          },
          "metadata": {},
          "execution_count": 79
        }
      ]
    },
    {
      "cell_type": "code",
      "execution_count": 83,
      "metadata": {
        "id": "SUPMcffmffoh"
      },
      "outputs": [],
      "source": [
        "import ast\n",
        "from datetime import datetime\n",
        "def transform_df(df):\n",
        "  new_df = pd.DataFrame()\n",
        "  new_df['id'] = df['id']\n",
        "  new_df['date'] = df['date'].apply(lambda x: datetime.strptime(x, '%Y-%m-%d %H:%M:%S'))\n",
        "  new_df['title'] = df['title']\n",
        "  new_df['authors'] = df['authors'].apply(lambda x: ast.literal_eval(x) if isinstance(x, str) else [])\n",
        "  new_df['keywords'] = df['keywords'].apply(lambda x: ast.literal_eval(x) if isinstance(x, str) else [])\n",
        "  new_df['abstract'] = df['abstract']\n",
        "  return new_df\n",
        "\n",
        "\n",
        "def is_str_lst(lst):\n",
        "  return isinstance(lst, list) and all(isinstance(elem, str) for elem in lst)"
      ]
    },
    {
      "cell_type": "code",
      "source": [
        "new_df = transform_df(df)\n",
        "print(new_df['title'][new_df['title'].notnull()].apply(lambda x: isinstance(x, str)).mean())\n",
        "print(new_df['authors'][new_df['authors'].notnull()].apply(is_str_lst).mean())\n",
        "print(new_df['keywords'][new_df['keywords'].notnull()].apply(is_str_lst).mean())"
      ],
      "metadata": {
        "id": "08VhJeUZ4RES",
        "outputId": "e689c2ce-6a93-4747-da42-043b7ad49ae5",
        "colab": {
          "base_uri": "https://localhost:8080/"
        }
      },
      "execution_count": 82,
      "outputs": [
        {
          "output_type": "stream",
          "name": "stdout",
          "text": [
            "1.0\n",
            "1.0\n",
            "1.0\n"
          ]
        }
      ]
    },
    {
      "cell_type": "code",
      "source": [
        "pkl_name = os.path.join(proj_dir, str(year) + \"_all.pkl\")"
      ],
      "metadata": {
        "id": "8jtCvNNsyNIB"
      },
      "execution_count": 84,
      "outputs": []
    },
    {
      "cell_type": "code",
      "source": [
        "df.to_pickle(pkl_name)"
      ],
      "metadata": {
        "id": "dSfEZa7rssow"
      },
      "execution_count": 85,
      "outputs": []
    },
    {
      "cell_type": "code",
      "source": [
        "# df = pd.read_pickle(pkl_name)"
      ],
      "metadata": {
        "id": "e2aSx-vRs_21"
      },
      "execution_count": null,
      "outputs": []
    }
  ],
  "metadata": {
    "kernelspec": {
      "display_name": "Python 3",
      "language": "python",
      "name": "python3"
    },
    "language_info": {
      "codemirror_mode": {
        "name": "ipython",
        "version": 3
      },
      "file_extension": ".py",
      "mimetype": "text/x-python",
      "name": "python",
      "nbconvert_exporter": "python",
      "pygments_lexer": "ipython3",
      "version": "3.8.16"
    },
    "orig_nbformat": 4,
    "colab": {
      "provenance": [],
      "include_colab_link": true
    }
  },
  "nbformat": 4,
  "nbformat_minor": 0
}