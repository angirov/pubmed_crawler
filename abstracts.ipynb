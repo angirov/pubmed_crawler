{
 "cells": [
  {
   "cell_type": "code",
   "execution_count": 1,
   "metadata": {},
   "outputs": [
    {
     "name": "stderr",
     "output_type": "stream",
     "text": [
      " 44%|████▍     | 37/84 [00:31<00:40,  1.15it/s]"
     ]
    }
   ],
   "source": [
    "from Crawler import Crawler\n",
    "\n",
    "email = \"your-email@example.com\"\n",
    "names = [\"Romagnani C\"]\n",
    "clr = Crawler(names, email)\n",
    "ids = clr.get_authors_pmids(names[0])\n",
    "abstract_list = clr.get_abstracts(ids)\n",
    "print(abstract_list)"
   ]
  }
 ],
 "metadata": {
  "kernelspec": {
   "display_name": "rl",
   "language": "python",
   "name": "python3"
  },
  "language_info": {
   "codemirror_mode": {
    "name": "ipython",
    "version": 3
   },
   "file_extension": ".py",
   "mimetype": "text/x-python",
   "name": "python",
   "nbconvert_exporter": "python",
   "pygments_lexer": "ipython3",
   "version": "3.8.16"
  },
  "orig_nbformat": 4
 },
 "nbformat": 4,
 "nbformat_minor": 2
}
