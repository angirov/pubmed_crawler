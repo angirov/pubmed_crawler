{
  "cells": [
    {
      "cell_type": "markdown",
      "metadata": {
        "id": "view-in-github",
        "colab_type": "text"
      },
      "source": [
        "<a href=\"https://colab.research.google.com/github/angirov/pubmed_crawler/blob/main/process_xml.ipynb\" target=\"_parent\"><img src=\"https://colab.research.google.com/assets/colab-badge.svg\" alt=\"Open In Colab\"/></a>"
      ]
    },
    {
      "cell_type": "code",
      "source": [
        "from google.colab import drive\n",
        "drive.mount('/gdrive')"
      ],
      "metadata": {
        "id": "uj5wt1vDocYV",
        "outputId": "d25e1c3c-41b5-4baa-9a10-b7532e1fae9d",
        "colab": {
          "base_uri": "https://localhost:8080/"
        }
      },
      "execution_count": 1,
      "outputs": [
        {
          "output_type": "stream",
          "name": "stdout",
          "text": [
            "Mounted at /gdrive\n"
          ]
        }
      ]
    },
    {
      "cell_type": "code",
      "source": [
        "import os\n",
        "\n",
        "proj_dir = \"/gdrive/MyDrive/dsr/pubmed_data/\"\n",
        "os.chdir(proj_dir)\n",
        "os.getcwd()"
      ],
      "metadata": {
        "colab": {
          "base_uri": "https://localhost:8080/",
          "height": 35
        },
        "id": "QpzgFsBKUyQ5",
        "outputId": "e0654cde-d77c-4692-ff51-d9bb6ac0ec7e"
      },
      "execution_count": 2,
      "outputs": [
        {
          "output_type": "execute_result",
          "data": {
            "text/plain": [
              "'/gdrive/MyDrive/dsr/pubmed_data'"
            ],
            "application/vnd.google.colaboratory.intrinsic+json": {
              "type": "string"
            }
          },
          "metadata": {},
          "execution_count": 2
        }
      ]
    },
    {
      "cell_type": "code",
      "execution_count": 3,
      "metadata": {
        "id": "PvXoYTrlSlAe"
      },
      "outputs": [],
      "source": [
        "import os\n",
        "from tqdm import tqdm\n",
        "import pandas as pd\n",
        "\n",
        "from urllib.error import HTTPError\n",
        "from pathlib import Path"
      ]
    },
    {
      "cell_type": "code",
      "source": [
        "class color:\n",
        "   PURPLE = '\\033[95m'\n",
        "   CYAN = '\\033[96m'\n",
        "   DARKCYAN = '\\033[36m'\n",
        "   BLUE = '\\033[94m'\n",
        "   GREEN = '\\033[92m'\n",
        "   YELLOW = '\\033[93m'\n",
        "   RED = '\\033[91m'\n",
        "   BOLD = '\\033[1m'\n",
        "   UNDERLINE = '\\033[4m'\n",
        "   END = '\\033[0m'\n",
        "# print(color.BOLD + 'Hello, World!' + color.END)"
      ],
      "metadata": {
        "id": "VUgupcK0yLGL"
      },
      "execution_count": 4,
      "outputs": []
    },
    {
      "cell_type": "code",
      "source": [
        "from collections.abc import Mapping\n",
        "\n",
        "def get_authors(dict) -> list:\n",
        "  try:\n",
        "    authors = dict['PubmedArticleSet']['PubmedArticle']['MedlineCitation']['Article']['AuthorList']['Author']\n",
        "    if isinstance(authors, list):\n",
        "      lst = []\n",
        "      for author in authors:\n",
        "        try:\n",
        "          lst += [author['LastName'] + \" \" + author['ForeName']]\n",
        "        except KeyError:\n",
        "          lst += [author['CollectiveName']]\n",
        "      return lst\n",
        "    elif isinstance(authors, Mapping):\n",
        "      try:\n",
        "        return [authors['LastName'] + \" \" + authors['ForeName']]\n",
        "      except KeyError:\n",
        "        return [authors['CollectiveName']]\n",
        "    else:\n",
        "      assert False\n",
        "  except KeyError:\n",
        "    return []\n",
        "\n",
        "  \n",
        "def get_text(obj):\n",
        "  if isinstance(obj, str):\n",
        "    return obj\n",
        "  elif isinstance(obj, list):\n",
        "    text = \"\"\n",
        "    for el in obj:\n",
        "      text += get_text(el)\n",
        "      if el != obj[-1]:\n",
        "        text += \" \"\n",
        "  elif isinstance(obj, Mapping):\n",
        "    try:\n",
        "      return get_text(obj['#text'])\n",
        "    except KeyError:\n",
        "      return \"\"\n",
        "  return \"\"\n",
        "\n",
        "\n",
        "def get_title(dict) -> str:\n",
        "  title = dict['PubmedArticleSet']['PubmedArticle']['MedlineCitation']['Article']['ArticleTitle']\n",
        "  return get_text(title)\n",
        "\n",
        "def dict2abstract(dct):\n",
        "  if isinstance(dct, str):\n",
        "    return dct\n",
        "  kws = [\"#text\", \"i\", \"b\"]\n",
        "  for i, kw in enumerate(kws):\n",
        "    try:\n",
        "      return dict2abstract(dct[kw])\n",
        "      break\n",
        "    except KeyError:\n",
        "      if i < len(kws):\n",
        "        continue\n",
        "      else:\n",
        "        assert False, \"Unknown keyword in abstract\"\n",
        "\n",
        "def get_abstract(dict) -> str:\n",
        "  text = \"\"\n",
        "  try:\n",
        "    abstract =  dict['PubmedArticleSet']['PubmedArticle']['MedlineCitation']['Article']['Abstract']['AbstractText']\n",
        "  except KeyError as e:\n",
        "    return \"\"\n",
        "  if isinstance(abstract, list):\n",
        "    for el in abstract:\n",
        "      text += el[\"#text\"]  # el[\"@Label\"] + \"\\n\" + el[\"#text\"]\n",
        "      if el != abstract[-1]:\n",
        "         text += \"\\n\"\n",
        "  elif isinstance(abstract, Mapping):\n",
        "    text = dict2abstract(abstract)\n",
        "  assert isinstance(text, str), f\"Abstract type: {type(abstract)}\"\n",
        "  return text\n",
        "\n",
        "\n",
        "def get_keywords(dict) -> list:\n",
        "  try:\n",
        "    return [el['#text'] for el in dict['PubmedArticleSet']['PubmedArticle']['MedlineCitation']['KeywordList']['Keyword']]\n",
        "  except:\n",
        "    return []\n",
        "\n",
        "\n",
        "def get_refs(dict) -> list:\n",
        "  global global_special_ref_counter\n",
        "  cites = []\n",
        "  try:\n",
        "    refs = dict['PubmedArticleSet']['PubmedArticle']['PubmedData']['ReferenceList']['Reference']\n",
        "    if not isinstance(refs, list):\n",
        "      refs = [refs]\n",
        "    for el in refs:\n",
        "      try:\n",
        "        for id in el['ArticleIdList'][\"ArticleId\"]:\n",
        "          try:\n",
        "            if isinstance(id, Mapping) and id['@IdType'] == \"pubmed\":\n",
        "              cites += [id['#text']]\n",
        "            else:\n",
        "              return [] ############################################################\n",
        "          except KeyError as e:\n",
        "            continue\n",
        "      except KeyError as e:\n",
        "        continue\n",
        "  except KeyError as e:\n",
        "    return []\n",
        "  except TypeError:\n",
        "    global_special_ref_counter += 1\n",
        "    return dict['PubmedArticleSet']['PubmedArticle']['PubmedData']['ReferenceList']\n",
        "  return cites"
      ],
      "metadata": {
        "id": "rjy4f5ifv7mX"
      },
      "execution_count": 41,
      "outputs": []
    },
    {
      "cell_type": "code",
      "source": [
        "import csv\n",
        "\n",
        "from pathlib import Path\n",
        "from datetime import datetime\n",
        "\n",
        "def save_row(csv_writer, file_name, paper_id, xml_str):\n",
        "    row = raw2row(file_name, paper_id, xml_str)\n",
        "    csv_writer.writerow(row)\n",
        "\n",
        "\n",
        "\n",
        "def save_new_file(old_file_path, save_dir):\n",
        "    global global_failure_counter\n",
        "    df = pd.read_csv(old_file_path, header=None)\n",
        "    length = len(df)\n",
        "    stem = Path(old_file_path).stem\n",
        "    date = datetime.strptime(stem, '%Y_%m_%d')\n",
        "    new_file_path = os.path.join(save_dir, stem + \"_text.csv\")\n",
        "    with open(new_file_path,'a+') as out:\n",
        "        csv_writer=csv.writer(out, dialect='unix')\n",
        "        for idx in range(length):\n",
        "            paper_id = df[0][idx]\n",
        "            xml_str = df[1][idx]\n",
        "            # print(paper_id)\n",
        "            # print(xml_str)\n",
        "            try:\n",
        "              title, authors, keywords, abstract, references = process_xml(file_name, paper_id, xml_str)\n",
        "            except KeyError as e:\n",
        "              global_failure_counter += 1\n",
        "              print(color.BOLD + color.RED + f'>>>>>>>> Failed to process {paper_id} [{stem}] <<<<<<<<<' + color.END)\n",
        "            except:\n",
        "              print(f\"Finished to process {paper_id} [{stem}]\")\n",
        "              assert False\n",
        "            csv_writer.writerow([paper_id, date, title, authors, keywords, abstract, references])\n",
        "    print(f\"Processed {length} papers published on {stem}.\")\n",
        "    pass"
      ],
      "metadata": {
        "id": "dwbC99AQ0r1B"
      },
      "execution_count": 32,
      "outputs": []
    },
    {
      "cell_type": "code",
      "source": [
        "! pip install xmltodict\n",
        "import xmltodict\n",
        "\n",
        "def process_xml(file_name, paper_id, xml_str):\n",
        "    dict = xmltodict.parse(xml_str)\n",
        "    authors = get_authors(dict)\n",
        "    title = get_title(dict)\n",
        "    abstract = get_abstract(dict)\n",
        "    keywords = get_keywords(dict)\n",
        "    references = get_refs(dict)\n",
        "    # print(f\"Failed to process {paper_id}\")\n",
        "    result_list = [title, authors, keywords, abstract, references]\n",
        "    for i, _ in enumerate(result_list):\n",
        "      if result_list[i] == []:\n",
        "        result_list[i] = \"\"\n",
        "    return result_list"
      ],
      "metadata": {
        "id": "EDDCkfmb5MDW",
        "colab": {
          "base_uri": "https://localhost:8080/"
        },
        "outputId": "9511d047-3511-4244-9ccb-01abc86b2969"
      },
      "execution_count": 33,
      "outputs": [
        {
          "output_type": "stream",
          "name": "stdout",
          "text": [
            "Looking in indexes: https://pypi.org/simple, https://us-python.pkg.dev/colab-wheels/public/simple/\n",
            "Requirement already satisfied: xmltodict in /usr/local/lib/python3.9/dist-packages (0.13.0)\n"
          ]
        }
      ]
    },
    {
      "cell_type": "code",
      "source": [
        "year = \"2019\"\n",
        "# month = 12\n",
        "global_special_ref_counter = 0\n",
        "global_failure_counter = 0\n",
        "for m in range(1, 13):\n",
        "\n",
        "        month = f\"{m:02}\"\n",
        "        xml_dir = os.path.join(proj_dir, \"xmls\", year, month)\n",
        "        save_dir = Path(os.path.join(proj_dir, \"text_csv\", year, month))\n",
        "        save_dir.mkdir(parents=True, exist_ok=True)\n",
        "\n",
        "        for file_name in os.listdir(xml_dir):\n",
        "            save_new_file(os.path.join(xml_dir, file_name), save_dir)\n",
        "print(f\"global_special_ref_counter: {global_special_ref_counter}\")\n",
        "print(f\"global_failure_counter: {global_failure_counter}\")"
      ],
      "metadata": {
        "id": "kBxmRgZSNo3a"
      },
      "execution_count": null,
      "outputs": []
    },
    {
      "cell_type": "markdown",
      "source": [
        "# Inspecting the errors"
      ],
      "metadata": {
        "id": "1oPLWU6mhW4F"
      }
    },
    {
      "cell_type": "code",
      "source": [
        "# df = pd.read_csv(\"/gdrive/MyDrive/dsr/pubmed_data/xmls/2020/04/2020_04_20.csv\", header=None)\n",
        "# problem_id = 31618128\n",
        "\n",
        "# xml_str = df[df[0] == problem_id].iloc[0, 1]\n",
        "# dict = xmltodict.parse(xml_str)\n",
        "# dict['PubmedArticleSet']['PubmedArticle']['MedlineCitation']['Article']['Abstract']['AbstractText']\n",
        "# # dict"
      ],
      "metadata": {
        "id": "m0McdWRLpIjm"
      },
      "execution_count": null,
      "outputs": []
    },
    {
      "cell_type": "code",
      "source": [
        "# !rm -rf text_csv/2020/03"
      ],
      "metadata": {
        "id": "jsPNX23i8VMm"
      },
      "execution_count": 45,
      "outputs": []
    }
  ],
  "metadata": {
    "kernelspec": {
      "display_name": "rl",
      "language": "python",
      "name": "python3"
    },
    "language_info": {
      "codemirror_mode": {
        "name": "ipython",
        "version": 3
      },
      "file_extension": ".py",
      "mimetype": "text/x-python",
      "name": "python",
      "nbconvert_exporter": "python",
      "pygments_lexer": "ipython3",
      "version": "3.10.6"
    },
    "orig_nbformat": 4,
    "colab": {
      "provenance": [],
      "include_colab_link": true
    }
  },
  "nbformat": 4,
  "nbformat_minor": 0
}