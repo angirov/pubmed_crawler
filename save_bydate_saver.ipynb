{
  "cells": [
    {
      "cell_type": "markdown",
      "metadata": {
        "id": "view-in-github",
        "colab_type": "text"
      },
      "source": [
        "<a href=\"https://colab.research.google.com/github/angirov/pubmed_crawler/blob/main/save_bydate_saver.ipynb\" target=\"_parent\"><img src=\"https://colab.research.google.com/assets/colab-badge.svg\" alt=\"Open In Colab\"/></a>"
      ]
    },
    {
      "cell_type": "code",
      "source": [
        "!python3 --version\n",
        "!pip install Bio"
      ],
      "metadata": {
        "id": "wlPm4ht3Snae"
      },
      "execution_count": null,
      "outputs": []
    },
    {
      "cell_type": "code",
      "source": [
        "from google.colab import drive\n",
        "drive.mount('/gdrive')"
      ],
      "metadata": {
        "colab": {
          "base_uri": "https://localhost:8080/"
        },
        "id": "kbyN33DrTpNY",
        "outputId": "84ddd83b-c2b9-4535-9518-21cb46da236e"
      },
      "execution_count": 2,
      "outputs": [
        {
          "output_type": "stream",
          "name": "stdout",
          "text": [
            "Mounted at /gdrive\n"
          ]
        }
      ]
    },
    {
      "cell_type": "code",
      "source": [
        "import os\n",
        "\n",
        "dir = \"/content/drive/MyDrive/dsr/pubmed_data/\"\n",
        "os.chdir(dir)\n",
        "os.getcwd()"
      ],
      "metadata": {
        "colab": {
          "base_uri": "https://localhost:8080/",
          "height": 35
        },
        "id": "QpzgFsBKUyQ5",
        "outputId": "34d1edcf-bc0b-4040-a123-93153b0cac63"
      },
      "execution_count": 32,
      "outputs": [
        {
          "output_type": "execute_result",
          "data": {
            "text/plain": [
              "'/content/drive/MyDrive/dsr/pubmed_data'"
            ],
            "application/vnd.google.colaboratory.intrinsic+json": {
              "type": "string"
            }
          },
          "metadata": {},
          "execution_count": 32
        }
      ]
    },
    {
      "cell_type": "code",
      "execution_count": 33,
      "metadata": {
        "id": "PvXoYTrlSlAe"
      },
      "outputs": [],
      "source": [
        "import os\n",
        "from tqdm import tqdm\n",
        "import pandas as pd\n",
        "from Bio import Entrez\n",
        "Entrez.email = \"example@example.com\"\n",
        "from urllib.error import HTTPError\n",
        "from pathlib import Path"
      ]
    },
    {
      "cell_type": "code",
      "execution_count": 37,
      "metadata": {
        "id": "aEsrjiIUSlAg"
      },
      "outputs": [],
      "source": [
        "def get_pmids_from_one_day(topic, date):\n",
        "    handle = Entrez.esearch(db=\"pubmed\", \n",
        "                            term= topic + \"[MeSH Terms]\", \n",
        "                            retmax=10000,\n",
        "                            datetype=\"pdat\", \n",
        "                            mindate=date, \n",
        "                            maxdate=date, )\n",
        "    record = Entrez.read(handle)\n",
        "    ids = record[\"IdList\"]\n",
        "    return ids\n",
        "\n",
        "\n",
        "class color:\n",
        "   PURPLE = '\\033[95m'\n",
        "   CYAN = '\\033[96m'\n",
        "   DARKCYAN = '\\033[36m'\n",
        "   BLUE = '\\033[94m'\n",
        "   GREEN = '\\033[92m'\n",
        "   YELLOW = '\\033[93m'\n",
        "   RED = '\\033[91m'\n",
        "   BOLD = '\\033[1m'\n",
        "   UNDERLINE = '\\033[4m'\n",
        "   END = '\\033[0m'\n",
        "# print(color.BOLD + 'Hello, World!' + color.END)\n",
        "\n",
        "\n",
        "def print_err(text):\n",
        "    err_text = color.BOLD + color.RED + text + color.END\n",
        "    print(err_text)\n",
        "    return err_text\n",
        "\n",
        "\n",
        "def get_pmids_from_period(topic, span):\n",
        "    handle = Entrez.esearch(db=\"pubmed\", \n",
        "                            term= topic + \"[MeSH Terms]\",\n",
        "                            retmax=1000,\n",
        "                            datetype=\"pdat\",\n",
        "                            mindate=span[0],\n",
        "                            maxdate=span[1], )\n",
        "    record = Entrez.read(handle)\n",
        "    ids = record[\"IdList\"]\n",
        "    return ids\n",
        "\n",
        "\n",
        "import time\n",
        "def get_xml(id):\n",
        "    attempt = 1\n",
        "    while attempt <= 5:\n",
        "        try:\n",
        "            handle = Entrez.efetch(db=\"pubmed\", \n",
        "                            id=id, \n",
        "                            retmode=\"xml\", \n",
        "                            rettype=\"abstract\")\n",
        "            xml = handle.read()\n",
        "            return xml\n",
        "        except HTTPError as err:\n",
        "            if 500 <= err.code <= 599:\n",
        "                print_err(f\">>>>> Attempt {attempt}: Received error from server {err}\")\n",
        "                attempt += 1\n",
        "                time.sleep(15)\n",
        "            else:\n",
        "                attempt += 1\n",
        "                time.sleep(15)\n",
        "    print_err(f\">>>>> Failed to download {id}. Error: {err}\")\n",
        "    return \"\"\n",
        "\n",
        "    # pp = pprint.PrettyPrinter(indent=4)\n",
        "    # pp.pprint(json.dumps(xmltodict.parse(xml)))\n",
        "\n",
        "\n",
        "def get_xmls_ids(ids):\n",
        "    pairs = []\n",
        "    for id in tqdm(ids):\n",
        "        xml = get_xml(id)\n",
        "        pairs += [(id, xml)]\n",
        "    return pairs\n",
        "\n",
        "\n",
        "def save_pair(csv_writer, id, xml):\n",
        "    row = id, xml\n",
        "    csv_writer.writerow(row)\n",
        "    # print(f\"Saved paper {id}.\")\n",
        "\n",
        "\n",
        "def save_xmls_ids(file_name, date, ids):\n",
        "    with open(file_name,'a+') as out:\n",
        "        csv_writer=csv.writer(out, dialect='unix')\n",
        "        for id in tqdm(ids):\n",
        "            xml = get_xml(id)\n",
        "            save_pair(csv_writer, id, xml)\n",
        "    print(f\"Saved {len(ids)} papers published on {date}.\")\n",
        "    return file_name\n",
        "\n",
        "\n",
        "import csv\n",
        "def save_span(span, list_of_pairs):\n",
        "    file_name = span[0].replace(\"/\", \"_\") + \"__\" + span[1].replace(\"/\", \"_\") + \".csv\"\n",
        "    with open(file_name,'a+') as out:\n",
        "        csv_out=csv.writer(out, dialect='unix')\n",
        "        # csv_out.writerow(['name','num'])\n",
        "        # for row in list_of_pairs:\n",
        "        #     csv_out.writerow(row)\n",
        "        csv_out.writerows(list_of_pairs)\n",
        "    return file_name\n",
        "\n",
        "\n",
        "def save_date(date, list_of_pairs):\n",
        "    file_name = date2filename(date)\n",
        "    with open(file_name,'a+') as out:\n",
        "        csv_out=csv.writer(out, dialect='unix')\n",
        "        # csv_out.writerow(['name','num'])\n",
        "        # for row in list_of_pairs:\n",
        "        #     csv_out.writerow(row)\n",
        "        csv_out.writerows(list_of_pairs)\n",
        "        # print(f\"Saved {len(list_of_pairs)} papers published on {date}.\")\n",
        "    return file_name\n",
        "\n",
        "\n",
        "def ymd2date(year, month, day):\n",
        "    return f'{year}/{month:02}/{day:02}'\n",
        "\n",
        "\n",
        "def date2ymd(date):\n",
        "    year, month, day = str.split(date, sep=\"/\")\n",
        "    return year, month, day\n",
        "\n",
        "\n",
        "def date2filename(dir, date):\n",
        "    year, month, _ = date2ymd(date)\n",
        "    filename = year + \"/\" + month + \"/\" + date.replace(\"/\", \"_\") + \".csv\"\n",
        "    print(f\"File name: {filename}\")\n",
        "    return filename\n"
      ]
    },
    {
      "cell_type": "code",
      "execution_count": 53,
      "metadata": {
        "colab": {
          "base_uri": "https://localhost:8080/"
        },
        "id": "dY6K3vdVSlAh",
        "outputId": "5f888207-6e61-4800-c096-67fd1d880d27"
      },
      "outputs": [
        {
          "output_type": "stream",
          "name": "stdout",
          "text": [
            "Number of papers published on  2022/11/28': 35\n",
            "File name: 2022/11/2022_11_28.csv\n",
            "['36638314', '36621399', '36518248', '36500393', '36500383', '36499224', '36497066', '36479042', '36476677', '36464602', '36463702', '36462440', '36456385', '36455802', '36455743', '36455683', '36455505', '36455483', '36455408', '36450322', '36450315', '36449787', '36449765', '36449762', '36443878', '36443711', '36443538', '36443508', '36443319', '36441723', '36441271', '36437424', '36397195', '36347024', '36310371']\n",
            "=================\n",
            "File 2022/11/2022_11_28.csv already exists.\n",
            "DONE:\n",
            "['36455483', '36455408', '36450322', '36450315', '36449787', '36449765', '36449762', '36443878', '36443711', '36443538']\n",
            "=================\n",
            "Number of papers already saved': 10. To save: 25\n",
            "['36638314', '36621399', '36518248', '36500393', '36500383', '36499224', '36497066', '36479042', '36476677', '36464602', '36463702', '36462440', '36456385', '36455802', '36455743', '36455683', '36455505', '36443508', '36443319', '36441723', '36441271', '36437424', '36397195', '36347024', '36310371']\n"
          ]
        },
        {
          "output_type": "stream",
          "name": "stderr",
          "text": [
            "100%|██████████| 25/25 [00:09<00:00,  2.69it/s]\n"
          ]
        },
        {
          "output_type": "stream",
          "name": "stdout",
          "text": [
            "Saved 25 papers published on 2022/11/28.\n",
            "Number of papers published on  2022/11/29': 19\n",
            "File name: 2022/11/2022_11_29.csv\n",
            "['36730355', '36730330', '36730147', '36730128', '36531979', '36524129', '36499265', '36497078', '36495783', '36470073', '36463642', '36455759', '36446827', '36446780', '36446754', '36446608', '36446386', '36446052', '36445561']\n",
            "=================\n",
            "File 2022/11/2022_11_29.csv already exists.\n",
            "DONE:\n",
            "['36730355', '36730330', '36730147', '36730128', '36531979', '36524129', '36499265', '36497078', '36495783', '36470073', '36463642', '36455759', '36446827', '36446780', '36446754', '36446608', '36446386', '36446052', '36445561']\n",
            "=================\n",
            "Number of papers already saved': 19. To save: 0\n",
            "[]\n"
          ]
        },
        {
          "output_type": "stream",
          "name": "stderr",
          "text": [
            "0it [00:00, ?it/s]"
          ]
        },
        {
          "output_type": "stream",
          "name": "stdout",
          "text": [
            "Saved 0 papers published on 2022/11/29.\n"
          ]
        },
        {
          "output_type": "stream",
          "name": "stderr",
          "text": [
            "\n"
          ]
        },
        {
          "output_type": "stream",
          "name": "stdout",
          "text": [
            "Number of papers published on  2022/11/30': 29\n",
            "File name: 2022/11/2022_11_30.csv\n",
            "['36657935', '36547151', '36547150', '36547148', '36506936', '36506911', '36481356', '36465484', '36462594', '36462463', '36462381', '36460099', '36451297', '36451243', '36451239', '36451108', '36451034', '36450882', '36449636', '36449489', '36448998', '36448918', '36447408', '36408915', '36385461', '36346290', '36130642', '36084874', '36049568']\n",
            "=================\n",
            "File 2022/11/2022_11_30.csv already exists.\n",
            "DONE:\n",
            "['36657935', '36547151', '36547150', '36547148', '36506936', '36506911', '36481356', '36465484', '36462594', '36462463', '36462381', '36460099', '36451297', '36451243', '36451239', '36451108', '36451034', '36450882', '36449636', '36449489', '36448998', '36448918', '36447408', '36408915', '36385461', '36346290', '36130642', '36084874', '36049568']\n",
            "=================\n",
            "Number of papers already saved': 29. To save: 0\n",
            "[]\n"
          ]
        },
        {
          "output_type": "stream",
          "name": "stderr",
          "text": [
            "0it [00:00, ?it/s]"
          ]
        },
        {
          "output_type": "stream",
          "name": "stdout",
          "text": [
            "Saved 0 papers published on 2022/11/30.\n"
          ]
        },
        {
          "output_type": "stream",
          "name": "stderr",
          "text": [
            "\n"
          ]
        },
        {
          "output_type": "stream",
          "name": "stdout",
          "text": [
            "Number of papers published on  2022/11/31': 0\n"
          ]
        }
      ],
      "source": [
        "year = 2022\n",
        "month = 11\n",
        "\n",
        "\n",
        "for day in range(28, 32):\n",
        "    date = ymd2date(year, month, day)\n",
        "\n",
        "    ids = get_pmids_from_one_day(\"breast cancer\", date)\n",
        "    print(f\"Number of papers published on  {date}': {len(ids)}\")\n",
        "    if len(ids) == 0:\n",
        "        break\n",
        "\n",
        "    file_name = Path(date2filename(dir, date))\n",
        "    path = Path(dir + \"/\" + f\"{year}\" + \"/\" + f\"{month:03}\" + \"/\")\n",
        "    path.mkdir(parents=True, exist_ok=True)\n",
        "    \n",
        "    print(ids)\n",
        "    print(\"=================\")\n",
        "\n",
        "    if file_name.absolute().is_file():\n",
        "        print(f\"File {file_name} already exists.\")\n",
        "        df = pd.read_csv(file_name, header=None, names=['id', 'xml'])\n",
        "        ids_done = df.id.astype(int).astype(str).to_list()\n",
        "        print(\"DONE:\")\n",
        "        print(ids_done)\n",
        "        print(\"=================\")\n",
        "        ids = [id for id in ids if id not in ids_done]\n",
        "        print(f\"Number of papers already saved': {len(ids_done)}. To save: {len(ids)}\")\n",
        "\n",
        "    print(ids)\n",
        "    save_xmls_ids(file_name, date, ids)\n"
      ]
    },
    {
      "cell_type": "code",
      "source": [
        "year = 2022\n",
        "\n",
        "for month in range(10, 13):\n",
        "    for day in range(1, 32):\n",
        "        date = ymd2date(year, month, day)\n",
        "\n",
        "        ids = get_pmids_from_one_day(\"breast cancer\", date)\n",
        "        print(f\"Number of papers published on  {date}': {len(ids)}\")\n",
        "        if len(ids) == 0:\n",
        "            break\n",
        "\n",
        "        file_name = Path(date2filename(dir, date))\n",
        "        path = Path(dir + \"/\" + f'{year}' + \"/\" + f\"{month:02}\" + \"/\")\n",
        "        path.mkdir(parents=True, exist_ok=True)\n",
        "\n",
        "        if file_name.is_file():\n",
        "            df = pd.read_csv(file_name, header=None, names=['id', 'xml'])\n",
        "            ids_done = df.id.to_list()\n",
        "            ids = [id for id in ids if id not in ids_done]\n",
        "            print(f\"Number of papers already saved': {len(ids_done)}. To save: {len(ids)}\")\n",
        "\n",
        "        save_xmls_ids(file_name, date, ids)\n"
      ],
      "metadata": {
        "colab": {
          "base_uri": "https://localhost:8080/",
          "height": 1000
        },
        "id": "d2RwblASeYaY",
        "outputId": "b5c80def-2c44-43ba-ca4a-8d7082946e2c"
      },
      "execution_count": 39,
      "outputs": [
        {
          "output_type": "stream",
          "name": "stdout",
          "text": [
            "Number of papers published on  2022/10/01': 756\n",
            "File name: 2022/10/2022_10_01.csv\n"
          ]
        },
        {
          "output_type": "stream",
          "name": "stderr",
          "text": [
            "100%|██████████| 756/756 [06:23<00:00,  1.97it/s]\n"
          ]
        },
        {
          "output_type": "stream",
          "name": "stdout",
          "text": [
            "Saved 756 papers published on 2022/10/01.\n",
            "Number of papers published on  2022/10/02': 7\n",
            "File name: 2022/10/2022_10_02.csv\n"
          ]
        },
        {
          "output_type": "stream",
          "name": "stderr",
          "text": [
            "100%|██████████| 7/7 [00:02<00:00,  2.77it/s]\n"
          ]
        },
        {
          "output_type": "stream",
          "name": "stdout",
          "text": [
            "Saved 7 papers published on 2022/10/02.\n",
            "Number of papers published on  2022/10/03': 40\n",
            "File name: 2022/10/2022_10_03.csv\n"
          ]
        },
        {
          "output_type": "stream",
          "name": "stderr",
          "text": [
            "100%|██████████| 40/40 [00:31<00:00,  1.27it/s]\n"
          ]
        },
        {
          "output_type": "stream",
          "name": "stdout",
          "text": [
            "Saved 40 papers published on 2022/10/03.\n",
            "Number of papers published on  2022/10/04': 44\n",
            "File name: 2022/10/2022_10_04.csv\n"
          ]
        },
        {
          "output_type": "stream",
          "name": "stderr",
          "text": [
            "100%|██████████| 44/44 [00:17<00:00,  2.52it/s]\n"
          ]
        },
        {
          "output_type": "stream",
          "name": "stdout",
          "text": [
            "Saved 44 papers published on 2022/10/04.\n",
            "Number of papers published on  2022/10/05': 41\n",
            "File name: 2022/10/2022_10_05.csv\n"
          ]
        },
        {
          "output_type": "stream",
          "name": "stderr",
          "text": [
            "100%|██████████| 41/41 [00:14<00:00,  2.74it/s]\n"
          ]
        },
        {
          "output_type": "stream",
          "name": "stdout",
          "text": [
            "Saved 41 papers published on 2022/10/05.\n",
            "Number of papers published on  2022/10/06': 42\n",
            "File name: 2022/10/2022_10_06.csv\n"
          ]
        },
        {
          "output_type": "stream",
          "name": "stderr",
          "text": [
            "100%|██████████| 42/42 [00:15<00:00,  2.70it/s]\n"
          ]
        },
        {
          "output_type": "stream",
          "name": "stdout",
          "text": [
            "Saved 42 papers published on 2022/10/06.\n",
            "Number of papers published on  2022/10/07': 32\n",
            "File name: 2022/10/2022_10_07.csv\n"
          ]
        },
        {
          "output_type": "stream",
          "name": "stderr",
          "text": [
            "100%|██████████| 32/32 [00:13<00:00,  2.34it/s]\n"
          ]
        },
        {
          "output_type": "stream",
          "name": "stdout",
          "text": [
            "Saved 32 papers published on 2022/10/07.\n",
            "Number of papers published on  2022/10/08': 20\n",
            "File name: 2022/10/2022_10_08.csv\n"
          ]
        },
        {
          "output_type": "stream",
          "name": "stderr",
          "text": [
            "100%|██████████| 20/20 [00:07<00:00,  2.59it/s]\n"
          ]
        },
        {
          "output_type": "stream",
          "name": "stdout",
          "text": [
            "Saved 20 papers published on 2022/10/08.\n",
            "Number of papers published on  2022/10/09': 5\n",
            "File name: 2022/10/2022_10_09.csv\n"
          ]
        },
        {
          "output_type": "stream",
          "name": "stderr",
          "text": [
            "100%|██████████| 5/5 [00:01<00:00,  3.15it/s]\n"
          ]
        },
        {
          "output_type": "stream",
          "name": "stdout",
          "text": [
            "Saved 5 papers published on 2022/10/09.\n",
            "Number of papers published on  2022/10/10': 35\n",
            "File name: 2022/10/2022_10_10.csv\n"
          ]
        },
        {
          "output_type": "stream",
          "name": "stderr",
          "text": [
            "100%|██████████| 35/35 [00:27<00:00,  1.25it/s]\n"
          ]
        },
        {
          "output_type": "stream",
          "name": "stdout",
          "text": [
            "Saved 35 papers published on 2022/10/10.\n",
            "Number of papers published on  2022/10/11': 21\n",
            "File name: 2022/10/2022_10_11.csv\n"
          ]
        },
        {
          "output_type": "stream",
          "name": "stderr",
          "text": [
            "100%|██████████| 21/21 [00:08<00:00,  2.55it/s]\n"
          ]
        },
        {
          "output_type": "stream",
          "name": "stdout",
          "text": [
            "Saved 21 papers published on 2022/10/11.\n",
            "Number of papers published on  2022/10/12': 37\n",
            "File name: 2022/10/2022_10_12.csv\n"
          ]
        },
        {
          "output_type": "stream",
          "name": "stderr",
          "text": [
            "100%|██████████| 37/37 [00:13<00:00,  2.67it/s]\n"
          ]
        },
        {
          "output_type": "stream",
          "name": "stdout",
          "text": [
            "Saved 37 papers published on 2022/10/12.\n",
            "Number of papers published on  2022/10/13': 42\n",
            "File name: 2022/10/2022_10_13.csv\n"
          ]
        },
        {
          "output_type": "stream",
          "name": "stderr",
          "text": [
            "100%|██████████| 42/42 [00:18<00:00,  2.30it/s]\n"
          ]
        },
        {
          "output_type": "stream",
          "name": "stdout",
          "text": [
            "Saved 42 papers published on 2022/10/13.\n",
            "Number of papers published on  2022/10/14': 34\n",
            "File name: 2022/10/2022_10_14.csv\n"
          ]
        },
        {
          "output_type": "stream",
          "name": "stderr",
          "text": [
            "100%|██████████| 34/34 [00:12<00:00,  2.76it/s]\n"
          ]
        },
        {
          "output_type": "stream",
          "name": "stdout",
          "text": [
            "Saved 34 papers published on 2022/10/14.\n",
            "Number of papers published on  2022/10/15': 23\n",
            "File name: 2022/10/2022_10_15.csv\n"
          ]
        },
        {
          "output_type": "stream",
          "name": "stderr",
          "text": [
            "100%|██████████| 23/23 [00:08<00:00,  2.79it/s]\n"
          ]
        },
        {
          "output_type": "stream",
          "name": "stdout",
          "text": [
            "Saved 23 papers published on 2022/10/15.\n",
            "Number of papers published on  2022/10/16': 5\n",
            "File name: 2022/10/2022_10_16.csv\n"
          ]
        },
        {
          "output_type": "stream",
          "name": "stderr",
          "text": [
            "100%|██████████| 5/5 [00:01<00:00,  3.03it/s]\n"
          ]
        },
        {
          "output_type": "stream",
          "name": "stdout",
          "text": [
            "Saved 5 papers published on 2022/10/16.\n",
            "Number of papers published on  2022/10/17': 58\n",
            "File name: 2022/10/2022_10_17.csv\n"
          ]
        },
        {
          "output_type": "stream",
          "name": "stderr",
          "text": [
            "100%|██████████| 58/58 [00:36<00:00,  1.57it/s]\n"
          ]
        },
        {
          "output_type": "stream",
          "name": "stdout",
          "text": [
            "Saved 58 papers published on 2022/10/17.\n",
            "Number of papers published on  2022/10/18': 43\n",
            "File name: 2022/10/2022_10_18.csv\n"
          ]
        },
        {
          "output_type": "stream",
          "name": "stderr",
          "text": [
            "100%|██████████| 43/43 [00:15<00:00,  2.72it/s]\n"
          ]
        },
        {
          "output_type": "stream",
          "name": "stdout",
          "text": [
            "Saved 43 papers published on 2022/10/18.\n",
            "Number of papers published on  2022/10/19': 31\n",
            "File name: 2022/10/2022_10_19.csv\n"
          ]
        },
        {
          "output_type": "stream",
          "name": "stderr",
          "text": [
            "100%|██████████| 31/31 [00:11<00:00,  2.73it/s]\n"
          ]
        },
        {
          "output_type": "stream",
          "name": "stdout",
          "text": [
            "Saved 31 papers published on 2022/10/19.\n",
            "Number of papers published on  2022/10/20': 43\n",
            "File name: 2022/10/2022_10_20.csv\n"
          ]
        },
        {
          "output_type": "stream",
          "name": "stderr",
          "text": [
            "100%|██████████| 43/43 [00:16<00:00,  2.68it/s]\n"
          ]
        },
        {
          "output_type": "stream",
          "name": "stdout",
          "text": [
            "Saved 43 papers published on 2022/10/20.\n",
            "Number of papers published on  2022/10/21': 33\n",
            "File name: 2022/10/2022_10_21.csv\n"
          ]
        },
        {
          "output_type": "stream",
          "name": "stderr",
          "text": [
            "100%|██████████| 33/33 [00:12<00:00,  2.69it/s]\n"
          ]
        },
        {
          "output_type": "stream",
          "name": "stdout",
          "text": [
            "Saved 33 papers published on 2022/10/21.\n",
            "Number of papers published on  2022/10/22': 16\n",
            "File name: 2022/10/2022_10_22.csv\n"
          ]
        },
        {
          "output_type": "stream",
          "name": "stderr",
          "text": [
            "100%|██████████| 16/16 [00:06<00:00,  2.55it/s]\n"
          ]
        },
        {
          "output_type": "stream",
          "name": "stdout",
          "text": [
            "Saved 16 papers published on 2022/10/22.\n",
            "Number of papers published on  2022/10/23': 9\n",
            "File name: 2022/10/2022_10_23.csv\n"
          ]
        },
        {
          "output_type": "stream",
          "name": "stderr",
          "text": [
            "100%|██████████| 9/9 [00:03<00:00,  2.78it/s]\n"
          ]
        },
        {
          "output_type": "stream",
          "name": "stdout",
          "text": [
            "Saved 9 papers published on 2022/10/23.\n",
            "Number of papers published on  2022/10/24': 18\n",
            "File name: 2022/10/2022_10_24.csv\n"
          ]
        },
        {
          "output_type": "stream",
          "name": "stderr",
          "text": [
            "100%|██████████| 18/18 [00:16<00:00,  1.10it/s]\n"
          ]
        },
        {
          "output_type": "stream",
          "name": "stdout",
          "text": [
            "Saved 18 papers published on 2022/10/24.\n",
            "Number of papers published on  2022/10/25': 37\n",
            "File name: 2022/10/2022_10_25.csv\n"
          ]
        },
        {
          "output_type": "stream",
          "name": "stderr",
          "text": [
            "100%|██████████| 37/37 [00:13<00:00,  2.72it/s]\n"
          ]
        },
        {
          "output_type": "stream",
          "name": "stdout",
          "text": [
            "Saved 37 papers published on 2022/10/25.\n",
            "Number of papers published on  2022/10/26': 31\n",
            "File name: 2022/10/2022_10_26.csv\n"
          ]
        },
        {
          "output_type": "stream",
          "name": "stderr",
          "text": [
            "100%|██████████| 31/31 [00:11<00:00,  2.72it/s]\n"
          ]
        },
        {
          "output_type": "stream",
          "name": "stdout",
          "text": [
            "Saved 31 papers published on 2022/10/26.\n",
            "Number of papers published on  2022/10/27': 32\n",
            "File name: 2022/10/2022_10_27.csv\n"
          ]
        },
        {
          "output_type": "stream",
          "name": "stderr",
          "text": [
            "100%|██████████| 32/32 [00:11<00:00,  2.77it/s]\n"
          ]
        },
        {
          "output_type": "stream",
          "name": "stdout",
          "text": [
            "Saved 32 papers published on 2022/10/27.\n",
            "Number of papers published on  2022/10/28': 35\n",
            "File name: 2022/10/2022_10_28.csv\n"
          ]
        },
        {
          "output_type": "stream",
          "name": "stderr",
          "text": [
            "100%|██████████| 35/35 [00:12<00:00,  2.72it/s]\n"
          ]
        },
        {
          "output_type": "stream",
          "name": "stdout",
          "text": [
            "Saved 35 papers published on 2022/10/28.\n",
            "Number of papers published on  2022/10/29': 18\n",
            "File name: 2022/10/2022_10_29.csv\n"
          ]
        },
        {
          "output_type": "stream",
          "name": "stderr",
          "text": [
            "100%|██████████| 18/18 [00:06<00:00,  2.74it/s]\n"
          ]
        },
        {
          "output_type": "stream",
          "name": "stdout",
          "text": [
            "Saved 18 papers published on 2022/10/29.\n",
            "Number of papers published on  2022/10/30': 8\n",
            "File name: 2022/10/2022_10_30.csv\n"
          ]
        },
        {
          "output_type": "stream",
          "name": "stderr",
          "text": [
            "100%|██████████| 8/8 [00:02<00:00,  2.80it/s]\n"
          ]
        },
        {
          "output_type": "stream",
          "name": "stdout",
          "text": [
            "Saved 8 papers published on 2022/10/30.\n",
            "Number of papers published on  2022/10/31': 22\n",
            "File name: 2022/10/2022_10_31.csv\n"
          ]
        },
        {
          "output_type": "stream",
          "name": "stderr",
          "text": [
            "100%|██████████| 22/22 [00:08<00:00,  2.74it/s]\n"
          ]
        },
        {
          "output_type": "stream",
          "name": "stdout",
          "text": [
            "Saved 22 papers published on 2022/10/31.\n",
            "Number of papers published on  2022/11/01': 703\n",
            "File name: 2022/11/2022_11_01.csv\n"
          ]
        },
        {
          "output_type": "stream",
          "name": "stderr",
          "text": [
            "100%|██████████| 703/703 [08:43<00:00,  1.34it/s]\n"
          ]
        },
        {
          "output_type": "stream",
          "name": "stdout",
          "text": [
            "Saved 703 papers published on 2022/11/01.\n",
            "Number of papers published on  2022/11/02': 46\n",
            "File name: 2022/11/2022_11_02.csv\n"
          ]
        },
        {
          "output_type": "stream",
          "name": "stderr",
          "text": [
            "100%|██████████| 46/46 [00:35<00:00,  1.31it/s]\n"
          ]
        },
        {
          "output_type": "stream",
          "name": "stdout",
          "text": [
            "Saved 46 papers published on 2022/11/02.\n",
            "Number of papers published on  2022/11/03': 40\n",
            "File name: 2022/11/2022_11_03.csv\n"
          ]
        },
        {
          "output_type": "stream",
          "name": "stderr",
          "text": [
            "100%|██████████| 40/40 [00:33<00:00,  1.20it/s]\n"
          ]
        },
        {
          "output_type": "stream",
          "name": "stdout",
          "text": [
            "Saved 40 papers published on 2022/11/03.\n",
            "Number of papers published on  2022/11/04': 21\n",
            "File name: 2022/11/2022_11_04.csv\n"
          ]
        },
        {
          "output_type": "stream",
          "name": "stderr",
          "text": [
            "100%|██████████| 21/21 [00:25<00:00,  1.19s/it]\n"
          ]
        },
        {
          "output_type": "stream",
          "name": "stdout",
          "text": [
            "Saved 21 papers published on 2022/11/04.\n",
            "Number of papers published on  2022/11/05': 24\n",
            "File name: 2022/11/2022_11_05.csv\n"
          ]
        },
        {
          "output_type": "stream",
          "name": "stderr",
          "text": [
            "100%|██████████| 24/24 [00:30<00:00,  1.26s/it]\n"
          ]
        },
        {
          "output_type": "stream",
          "name": "stdout",
          "text": [
            "Saved 24 papers published on 2022/11/05.\n",
            "Number of papers published on  2022/11/06': 9\n",
            "File name: 2022/11/2022_11_06.csv\n"
          ]
        },
        {
          "output_type": "stream",
          "name": "stderr",
          "text": [
            "100%|██████████| 9/9 [00:05<00:00,  1.80it/s]\n"
          ]
        },
        {
          "output_type": "stream",
          "name": "stdout",
          "text": [
            "Saved 9 papers published on 2022/11/06.\n",
            "Number of papers published on  2022/11/07': 35\n",
            "File name: 2022/11/2022_11_07.csv\n"
          ]
        },
        {
          "output_type": "stream",
          "name": "stderr",
          "text": [
            "100%|██████████| 35/35 [00:28<00:00,  1.21it/s]\n"
          ]
        },
        {
          "output_type": "stream",
          "name": "stdout",
          "text": [
            "Saved 35 papers published on 2022/11/07.\n",
            "Number of papers published on  2022/11/08': 32\n",
            "File name: 2022/11/2022_11_08.csv\n"
          ]
        },
        {
          "output_type": "stream",
          "name": "stderr",
          "text": [
            "100%|██████████| 32/32 [00:11<00:00,  2.67it/s]\n"
          ]
        },
        {
          "output_type": "stream",
          "name": "stdout",
          "text": [
            "Saved 32 papers published on 2022/11/08.\n",
            "Number of papers published on  2022/11/09': 36\n",
            "File name: 2022/11/2022_11_09.csv\n"
          ]
        },
        {
          "output_type": "stream",
          "name": "stderr",
          "text": [
            "100%|██████████| 36/36 [00:31<00:00,  1.15it/s]\n"
          ]
        },
        {
          "output_type": "stream",
          "name": "stdout",
          "text": [
            "Saved 36 papers published on 2022/11/09.\n",
            "Number of papers published on  2022/11/10': 26\n",
            "File name: 2022/11/2022_11_10.csv\n"
          ]
        },
        {
          "output_type": "stream",
          "name": "stderr",
          "text": [
            "100%|██████████| 26/26 [00:12<00:00,  2.03it/s]\n"
          ]
        },
        {
          "output_type": "stream",
          "name": "stdout",
          "text": [
            "Saved 26 papers published on 2022/11/10.\n",
            "Number of papers published on  2022/11/11': 36\n",
            "File name: 2022/11/2022_11_11.csv\n"
          ]
        },
        {
          "output_type": "stream",
          "name": "stderr",
          "text": [
            "100%|██████████| 36/36 [00:33<00:00,  1.08it/s]\n"
          ]
        },
        {
          "output_type": "stream",
          "name": "stdout",
          "text": [
            "Saved 36 papers published on 2022/11/11.\n",
            "Number of papers published on  2022/11/12': 21\n",
            "File name: 2022/11/2022_11_12.csv\n"
          ]
        },
        {
          "output_type": "stream",
          "name": "stderr",
          "text": [
            "100%|██████████| 21/21 [00:09<00:00,  2.23it/s]\n"
          ]
        },
        {
          "output_type": "stream",
          "name": "stdout",
          "text": [
            "Saved 21 papers published on 2022/11/12.\n",
            "Number of papers published on  2022/11/13': 13\n",
            "File name: 2022/11/2022_11_13.csv\n"
          ]
        },
        {
          "output_type": "stream",
          "name": "stderr",
          "text": [
            "100%|██████████| 13/13 [00:06<00:00,  2.00it/s]\n"
          ]
        },
        {
          "output_type": "stream",
          "name": "stdout",
          "text": [
            "Saved 13 papers published on 2022/11/13.\n",
            "Number of papers published on  2022/11/14': 35\n",
            "File name: 2022/11/2022_11_14.csv\n"
          ]
        },
        {
          "output_type": "stream",
          "name": "stderr",
          "text": [
            "100%|██████████| 35/35 [00:13<00:00,  2.68it/s]\n"
          ]
        },
        {
          "output_type": "stream",
          "name": "stdout",
          "text": [
            "Saved 35 papers published on 2022/11/14.\n",
            "Number of papers published on  2022/11/15': 49\n",
            "File name: 2022/11/2022_11_15.csv\n"
          ]
        },
        {
          "output_type": "stream",
          "name": "stderr",
          "text": [
            "100%|██████████| 49/49 [00:20<00:00,  2.45it/s]\n"
          ]
        },
        {
          "output_type": "stream",
          "name": "stdout",
          "text": [
            "Saved 49 papers published on 2022/11/15.\n",
            "Number of papers published on  2022/11/16': 30\n",
            "File name: 2022/11/2022_11_16.csv\n"
          ]
        },
        {
          "output_type": "stream",
          "name": "stderr",
          "text": [
            "100%|██████████| 30/30 [00:11<00:00,  2.71it/s]\n"
          ]
        },
        {
          "output_type": "stream",
          "name": "stdout",
          "text": [
            "Saved 30 papers published on 2022/11/16.\n",
            "Number of papers published on  2022/11/17': 37\n",
            "File name: 2022/11/2022_11_17.csv\n"
          ]
        },
        {
          "output_type": "stream",
          "name": "stderr",
          "text": [
            "100%|██████████| 37/37 [00:36<00:00,  1.01it/s]\n"
          ]
        },
        {
          "output_type": "stream",
          "name": "stdout",
          "text": [
            "Saved 37 papers published on 2022/11/17.\n",
            "Number of papers published on  2022/11/18': 27\n",
            "File name: 2022/11/2022_11_18.csv\n"
          ]
        },
        {
          "output_type": "stream",
          "name": "stderr",
          "text": [
            "100%|██████████| 27/27 [00:29<00:00,  1.09s/it]\n"
          ]
        },
        {
          "output_type": "stream",
          "name": "stdout",
          "text": [
            "Saved 27 papers published on 2022/11/18.\n",
            "Number of papers published on  2022/11/19': 21\n",
            "File name: 2022/11/2022_11_19.csv\n"
          ]
        },
        {
          "output_type": "stream",
          "name": "stderr",
          "text": [
            "100%|██████████| 21/21 [00:07<00:00,  2.66it/s]\n"
          ]
        },
        {
          "output_type": "stream",
          "name": "stdout",
          "text": [
            "Saved 21 papers published on 2022/11/19.\n",
            "Number of papers published on  2022/11/20': 15\n",
            "File name: 2022/11/2022_11_20.csv\n"
          ]
        },
        {
          "output_type": "stream",
          "name": "stderr",
          "text": [
            "100%|██████████| 15/15 [00:20<00:00,  1.37s/it]\n"
          ]
        },
        {
          "output_type": "stream",
          "name": "stdout",
          "text": [
            "Saved 15 papers published on 2022/11/20.\n",
            "Number of papers published on  2022/11/21': 36\n",
            "File name: 2022/11/2022_11_21.csv\n"
          ]
        },
        {
          "output_type": "stream",
          "name": "stderr",
          "text": [
            "100%|██████████| 36/36 [00:28<00:00,  1.26it/s]\n"
          ]
        },
        {
          "output_type": "stream",
          "name": "stdout",
          "text": [
            "Saved 36 papers published on 2022/11/21.\n",
            "Number of papers published on  2022/11/22': 36\n",
            "File name: 2022/11/2022_11_22.csv\n"
          ]
        },
        {
          "output_type": "stream",
          "name": "stderr",
          "text": [
            "100%|██████████| 36/36 [00:29<00:00,  1.24it/s]\n"
          ]
        },
        {
          "output_type": "stream",
          "name": "stdout",
          "text": [
            "Saved 36 papers published on 2022/11/22.\n",
            "Number of papers published on  2022/11/23': 33\n",
            "File name: 2022/11/2022_11_23.csv\n"
          ]
        },
        {
          "output_type": "stream",
          "name": "stderr",
          "text": [
            "100%|██████████| 33/33 [00:21<00:00,  1.55it/s]\n"
          ]
        },
        {
          "output_type": "stream",
          "name": "stdout",
          "text": [
            "Saved 33 papers published on 2022/11/23.\n",
            "Number of papers published on  2022/11/24': 25\n",
            "File name: 2022/11/2022_11_24.csv\n"
          ]
        },
        {
          "output_type": "stream",
          "name": "stderr",
          "text": [
            "100%|██████████| 25/25 [00:25<00:00,  1.00s/it]\n"
          ]
        },
        {
          "output_type": "stream",
          "name": "stdout",
          "text": [
            "Saved 25 papers published on 2022/11/24.\n",
            "Number of papers published on  2022/11/25': 28\n",
            "File name: 2022/11/2022_11_25.csv\n"
          ]
        },
        {
          "output_type": "stream",
          "name": "stderr",
          "text": [
            "100%|██████████| 28/28 [00:26<00:00,  1.07it/s]\n"
          ]
        },
        {
          "output_type": "stream",
          "name": "stdout",
          "text": [
            "Saved 28 papers published on 2022/11/25.\n",
            "Number of papers published on  2022/11/26': 15\n",
            "File name: 2022/11/2022_11_26.csv\n"
          ]
        },
        {
          "output_type": "stream",
          "name": "stderr",
          "text": [
            "100%|██████████| 15/15 [00:37<00:00,  2.49s/it]\n"
          ]
        },
        {
          "output_type": "stream",
          "name": "stdout",
          "text": [
            "Saved 15 papers published on 2022/11/26.\n",
            "Number of papers published on  2022/11/27': 8\n",
            "File name: 2022/11/2022_11_27.csv\n"
          ]
        },
        {
          "output_type": "stream",
          "name": "stderr",
          "text": [
            "100%|██████████| 8/8 [00:18<00:00,  2.32s/it]\n"
          ]
        },
        {
          "output_type": "stream",
          "name": "stdout",
          "text": [
            "Saved 8 papers published on 2022/11/27.\n",
            "Number of papers published on  2022/11/28': 35\n",
            "File name: 2022/11/2022_11_28.csv\n"
          ]
        },
        {
          "output_type": "stream",
          "name": "stderr",
          "text": [
            "100%|██████████| 35/35 [00:13<00:00,  2.58it/s]\n"
          ]
        },
        {
          "output_type": "stream",
          "name": "stdout",
          "text": [
            "Saved 35 papers published on 2022/11/28.\n"
          ]
        },
        {
          "output_type": "error",
          "ename": "HTTPError",
          "evalue": "ignored",
          "traceback": [
            "\u001b[0;31m---------------------------------------------------------------------------\u001b[0m",
            "\u001b[0;31mHTTPError\u001b[0m                                 Traceback (most recent call last)",
            "\u001b[0;32m<ipython-input-39-c3890a30d3dd>\u001b[0m in \u001b[0;36m<module>\u001b[0;34m\u001b[0m\n\u001b[1;32m      5\u001b[0m         \u001b[0mdate\u001b[0m \u001b[0;34m=\u001b[0m \u001b[0mymd2date\u001b[0m\u001b[0;34m(\u001b[0m\u001b[0myear\u001b[0m\u001b[0;34m,\u001b[0m \u001b[0mmonth\u001b[0m\u001b[0;34m,\u001b[0m \u001b[0mday\u001b[0m\u001b[0;34m)\u001b[0m\u001b[0;34m\u001b[0m\u001b[0;34m\u001b[0m\u001b[0m\n\u001b[1;32m      6\u001b[0m \u001b[0;34m\u001b[0m\u001b[0m\n\u001b[0;32m----> 7\u001b[0;31m         \u001b[0mids\u001b[0m \u001b[0;34m=\u001b[0m \u001b[0mget_pmids_from_one_day\u001b[0m\u001b[0;34m(\u001b[0m\u001b[0;34m\"breast cancer\"\u001b[0m\u001b[0;34m,\u001b[0m \u001b[0mdate\u001b[0m\u001b[0;34m)\u001b[0m\u001b[0;34m\u001b[0m\u001b[0;34m\u001b[0m\u001b[0m\n\u001b[0m\u001b[1;32m      8\u001b[0m         \u001b[0mprint\u001b[0m\u001b[0;34m(\u001b[0m\u001b[0;34mf\"Number of papers published on  {date}': {len(ids)}\"\u001b[0m\u001b[0;34m)\u001b[0m\u001b[0;34m\u001b[0m\u001b[0;34m\u001b[0m\u001b[0m\n\u001b[1;32m      9\u001b[0m         \u001b[0;32mif\u001b[0m \u001b[0mlen\u001b[0m\u001b[0;34m(\u001b[0m\u001b[0mids\u001b[0m\u001b[0;34m)\u001b[0m \u001b[0;34m==\u001b[0m \u001b[0;36m0\u001b[0m\u001b[0;34m:\u001b[0m\u001b[0;34m\u001b[0m\u001b[0;34m\u001b[0m\u001b[0m\n",
            "\u001b[0;32m<ipython-input-37-a3d00ebea280>\u001b[0m in \u001b[0;36mget_pmids_from_one_day\u001b[0;34m(topic, date)\u001b[0m\n\u001b[1;32m      1\u001b[0m \u001b[0;32mdef\u001b[0m \u001b[0mget_pmids_from_one_day\u001b[0m\u001b[0;34m(\u001b[0m\u001b[0mtopic\u001b[0m\u001b[0;34m,\u001b[0m \u001b[0mdate\u001b[0m\u001b[0;34m)\u001b[0m\u001b[0;34m:\u001b[0m\u001b[0;34m\u001b[0m\u001b[0;34m\u001b[0m\u001b[0m\n\u001b[0;32m----> 2\u001b[0;31m     handle = Entrez.esearch(db=\"pubmed\", \n\u001b[0m\u001b[1;32m      3\u001b[0m                             \u001b[0mterm\u001b[0m\u001b[0;34m=\u001b[0m \u001b[0mtopic\u001b[0m \u001b[0;34m+\u001b[0m \u001b[0;34m\"[MeSH Terms]\"\u001b[0m\u001b[0;34m,\u001b[0m\u001b[0;34m\u001b[0m\u001b[0;34m\u001b[0m\u001b[0m\n\u001b[1;32m      4\u001b[0m                             \u001b[0mretmax\u001b[0m\u001b[0;34m=\u001b[0m\u001b[0;36m10000\u001b[0m\u001b[0;34m,\u001b[0m\u001b[0;34m\u001b[0m\u001b[0;34m\u001b[0m\u001b[0m\n\u001b[1;32m      5\u001b[0m                             \u001b[0mdatetype\u001b[0m\u001b[0;34m=\u001b[0m\u001b[0;34m\"pdat\"\u001b[0m\u001b[0;34m,\u001b[0m\u001b[0;34m\u001b[0m\u001b[0;34m\u001b[0m\u001b[0m\n",
            "\u001b[0;32m/usr/local/lib/python3.9/dist-packages/Bio/Entrez/__init__.py\u001b[0m in \u001b[0;36mesearch\u001b[0;34m(db, term, **keywds)\u001b[0m\n\u001b[1;32m    228\u001b[0m     \u001b[0mvariables\u001b[0m\u001b[0;34m.\u001b[0m\u001b[0mupdate\u001b[0m\u001b[0;34m(\u001b[0m\u001b[0mkeywds\u001b[0m\u001b[0;34m)\u001b[0m\u001b[0;34m\u001b[0m\u001b[0;34m\u001b[0m\u001b[0m\n\u001b[1;32m    229\u001b[0m     \u001b[0mrequest\u001b[0m \u001b[0;34m=\u001b[0m \u001b[0m_build_request\u001b[0m\u001b[0;34m(\u001b[0m\u001b[0mcgi\u001b[0m\u001b[0;34m,\u001b[0m \u001b[0mvariables\u001b[0m\u001b[0;34m)\u001b[0m\u001b[0;34m\u001b[0m\u001b[0;34m\u001b[0m\u001b[0m\n\u001b[0;32m--> 230\u001b[0;31m     \u001b[0;32mreturn\u001b[0m \u001b[0m_open\u001b[0m\u001b[0;34m(\u001b[0m\u001b[0mrequest\u001b[0m\u001b[0;34m)\u001b[0m\u001b[0;34m\u001b[0m\u001b[0;34m\u001b[0m\u001b[0m\n\u001b[0m\u001b[1;32m    231\u001b[0m \u001b[0;34m\u001b[0m\u001b[0m\n\u001b[1;32m    232\u001b[0m \u001b[0;34m\u001b[0m\u001b[0m\n",
            "\u001b[0;32m/usr/local/lib/python3.9/dist-packages/Bio/Entrez/__init__.py\u001b[0m in \u001b[0;36m_open\u001b[0;34m(request)\u001b[0m\n\u001b[1;32m    592\u001b[0m     \u001b[0;32mfor\u001b[0m \u001b[0mi\u001b[0m \u001b[0;32min\u001b[0m \u001b[0mrange\u001b[0m\u001b[0;34m(\u001b[0m\u001b[0mmax_tries\u001b[0m\u001b[0;34m)\u001b[0m\u001b[0;34m:\u001b[0m\u001b[0;34m\u001b[0m\u001b[0;34m\u001b[0m\u001b[0m\n\u001b[1;32m    593\u001b[0m         \u001b[0;32mtry\u001b[0m\u001b[0;34m:\u001b[0m\u001b[0;34m\u001b[0m\u001b[0;34m\u001b[0m\u001b[0m\n\u001b[0;32m--> 594\u001b[0;31m             \u001b[0mhandle\u001b[0m \u001b[0;34m=\u001b[0m \u001b[0murlopen\u001b[0m\u001b[0;34m(\u001b[0m\u001b[0mrequest\u001b[0m\u001b[0;34m)\u001b[0m\u001b[0;34m\u001b[0m\u001b[0;34m\u001b[0m\u001b[0m\n\u001b[0m\u001b[1;32m    595\u001b[0m         \u001b[0;32mexcept\u001b[0m \u001b[0mHTTPError\u001b[0m \u001b[0;32mas\u001b[0m \u001b[0mexception\u001b[0m\u001b[0;34m:\u001b[0m\u001b[0;34m\u001b[0m\u001b[0;34m\u001b[0m\u001b[0m\n\u001b[1;32m    596\u001b[0m             \u001b[0;31m# Reraise if the final try fails\u001b[0m\u001b[0;34m\u001b[0m\u001b[0;34m\u001b[0m\u001b[0m\n",
            "\u001b[0;32m/usr/lib/python3.9/urllib/request.py\u001b[0m in \u001b[0;36murlopen\u001b[0;34m(url, data, timeout, cafile, capath, cadefault, context)\u001b[0m\n\u001b[1;32m    212\u001b[0m     \u001b[0;32melse\u001b[0m\u001b[0;34m:\u001b[0m\u001b[0;34m\u001b[0m\u001b[0;34m\u001b[0m\u001b[0m\n\u001b[1;32m    213\u001b[0m         \u001b[0mopener\u001b[0m \u001b[0;34m=\u001b[0m \u001b[0m_opener\u001b[0m\u001b[0;34m\u001b[0m\u001b[0;34m\u001b[0m\u001b[0m\n\u001b[0;32m--> 214\u001b[0;31m     \u001b[0;32mreturn\u001b[0m \u001b[0mopener\u001b[0m\u001b[0;34m.\u001b[0m\u001b[0mopen\u001b[0m\u001b[0;34m(\u001b[0m\u001b[0murl\u001b[0m\u001b[0;34m,\u001b[0m \u001b[0mdata\u001b[0m\u001b[0;34m,\u001b[0m \u001b[0mtimeout\u001b[0m\u001b[0;34m)\u001b[0m\u001b[0;34m\u001b[0m\u001b[0;34m\u001b[0m\u001b[0m\n\u001b[0m\u001b[1;32m    215\u001b[0m \u001b[0;34m\u001b[0m\u001b[0m\n\u001b[1;32m    216\u001b[0m \u001b[0;32mdef\u001b[0m \u001b[0minstall_opener\u001b[0m\u001b[0;34m(\u001b[0m\u001b[0mopener\u001b[0m\u001b[0;34m)\u001b[0m\u001b[0;34m:\u001b[0m\u001b[0;34m\u001b[0m\u001b[0;34m\u001b[0m\u001b[0m\n",
            "\u001b[0;32m/usr/lib/python3.9/urllib/request.py\u001b[0m in \u001b[0;36mopen\u001b[0;34m(self, fullurl, data, timeout)\u001b[0m\n\u001b[1;32m    521\u001b[0m         \u001b[0;32mfor\u001b[0m \u001b[0mprocessor\u001b[0m \u001b[0;32min\u001b[0m \u001b[0mself\u001b[0m\u001b[0;34m.\u001b[0m\u001b[0mprocess_response\u001b[0m\u001b[0;34m.\u001b[0m\u001b[0mget\u001b[0m\u001b[0;34m(\u001b[0m\u001b[0mprotocol\u001b[0m\u001b[0;34m,\u001b[0m \u001b[0;34m[\u001b[0m\u001b[0;34m]\u001b[0m\u001b[0;34m)\u001b[0m\u001b[0;34m:\u001b[0m\u001b[0;34m\u001b[0m\u001b[0;34m\u001b[0m\u001b[0m\n\u001b[1;32m    522\u001b[0m             \u001b[0mmeth\u001b[0m \u001b[0;34m=\u001b[0m \u001b[0mgetattr\u001b[0m\u001b[0;34m(\u001b[0m\u001b[0mprocessor\u001b[0m\u001b[0;34m,\u001b[0m \u001b[0mmeth_name\u001b[0m\u001b[0;34m)\u001b[0m\u001b[0;34m\u001b[0m\u001b[0;34m\u001b[0m\u001b[0m\n\u001b[0;32m--> 523\u001b[0;31m             \u001b[0mresponse\u001b[0m \u001b[0;34m=\u001b[0m \u001b[0mmeth\u001b[0m\u001b[0;34m(\u001b[0m\u001b[0mreq\u001b[0m\u001b[0;34m,\u001b[0m \u001b[0mresponse\u001b[0m\u001b[0;34m)\u001b[0m\u001b[0;34m\u001b[0m\u001b[0;34m\u001b[0m\u001b[0m\n\u001b[0m\u001b[1;32m    524\u001b[0m \u001b[0;34m\u001b[0m\u001b[0m\n\u001b[1;32m    525\u001b[0m         \u001b[0;32mreturn\u001b[0m \u001b[0mresponse\u001b[0m\u001b[0;34m\u001b[0m\u001b[0;34m\u001b[0m\u001b[0m\n",
            "\u001b[0;32m/usr/lib/python3.9/urllib/request.py\u001b[0m in \u001b[0;36mhttp_response\u001b[0;34m(self, request, response)\u001b[0m\n\u001b[1;32m    630\u001b[0m         \u001b[0;31m# request was successfully received, understood, and accepted.\u001b[0m\u001b[0;34m\u001b[0m\u001b[0;34m\u001b[0m\u001b[0m\n\u001b[1;32m    631\u001b[0m         \u001b[0;32mif\u001b[0m \u001b[0;32mnot\u001b[0m \u001b[0;34m(\u001b[0m\u001b[0;36m200\u001b[0m \u001b[0;34m<=\u001b[0m \u001b[0mcode\u001b[0m \u001b[0;34m<\u001b[0m \u001b[0;36m300\u001b[0m\u001b[0;34m)\u001b[0m\u001b[0;34m:\u001b[0m\u001b[0;34m\u001b[0m\u001b[0;34m\u001b[0m\u001b[0m\n\u001b[0;32m--> 632\u001b[0;31m             response = self.parent.error(\n\u001b[0m\u001b[1;32m    633\u001b[0m                 'http', request, response, code, msg, hdrs)\n\u001b[1;32m    634\u001b[0m \u001b[0;34m\u001b[0m\u001b[0m\n",
            "\u001b[0;32m/usr/lib/python3.9/urllib/request.py\u001b[0m in \u001b[0;36merror\u001b[0;34m(self, proto, *args)\u001b[0m\n\u001b[1;32m    559\u001b[0m         \u001b[0;32mif\u001b[0m \u001b[0mhttp_err\u001b[0m\u001b[0;34m:\u001b[0m\u001b[0;34m\u001b[0m\u001b[0;34m\u001b[0m\u001b[0m\n\u001b[1;32m    560\u001b[0m             \u001b[0margs\u001b[0m \u001b[0;34m=\u001b[0m \u001b[0;34m(\u001b[0m\u001b[0mdict\u001b[0m\u001b[0;34m,\u001b[0m \u001b[0;34m'default'\u001b[0m\u001b[0;34m,\u001b[0m \u001b[0;34m'http_error_default'\u001b[0m\u001b[0;34m)\u001b[0m \u001b[0;34m+\u001b[0m \u001b[0morig_args\u001b[0m\u001b[0;34m\u001b[0m\u001b[0;34m\u001b[0m\u001b[0m\n\u001b[0;32m--> 561\u001b[0;31m             \u001b[0;32mreturn\u001b[0m \u001b[0mself\u001b[0m\u001b[0;34m.\u001b[0m\u001b[0m_call_chain\u001b[0m\u001b[0;34m(\u001b[0m\u001b[0;34m*\u001b[0m\u001b[0margs\u001b[0m\u001b[0;34m)\u001b[0m\u001b[0;34m\u001b[0m\u001b[0;34m\u001b[0m\u001b[0m\n\u001b[0m\u001b[1;32m    562\u001b[0m \u001b[0;34m\u001b[0m\u001b[0m\n\u001b[1;32m    563\u001b[0m \u001b[0;31m# XXX probably also want an abstract factory that knows when it makes\u001b[0m\u001b[0;34m\u001b[0m\u001b[0;34m\u001b[0m\u001b[0m\n",
            "\u001b[0;32m/usr/lib/python3.9/urllib/request.py\u001b[0m in \u001b[0;36m_call_chain\u001b[0;34m(self, chain, kind, meth_name, *args)\u001b[0m\n\u001b[1;32m    492\u001b[0m         \u001b[0;32mfor\u001b[0m \u001b[0mhandler\u001b[0m \u001b[0;32min\u001b[0m \u001b[0mhandlers\u001b[0m\u001b[0;34m:\u001b[0m\u001b[0;34m\u001b[0m\u001b[0;34m\u001b[0m\u001b[0m\n\u001b[1;32m    493\u001b[0m             \u001b[0mfunc\u001b[0m \u001b[0;34m=\u001b[0m \u001b[0mgetattr\u001b[0m\u001b[0;34m(\u001b[0m\u001b[0mhandler\u001b[0m\u001b[0;34m,\u001b[0m \u001b[0mmeth_name\u001b[0m\u001b[0;34m)\u001b[0m\u001b[0;34m\u001b[0m\u001b[0;34m\u001b[0m\u001b[0m\n\u001b[0;32m--> 494\u001b[0;31m             \u001b[0mresult\u001b[0m \u001b[0;34m=\u001b[0m \u001b[0mfunc\u001b[0m\u001b[0;34m(\u001b[0m\u001b[0;34m*\u001b[0m\u001b[0margs\u001b[0m\u001b[0;34m)\u001b[0m\u001b[0;34m\u001b[0m\u001b[0;34m\u001b[0m\u001b[0m\n\u001b[0m\u001b[1;32m    495\u001b[0m             \u001b[0;32mif\u001b[0m \u001b[0mresult\u001b[0m \u001b[0;32mis\u001b[0m \u001b[0;32mnot\u001b[0m \u001b[0;32mNone\u001b[0m\u001b[0;34m:\u001b[0m\u001b[0;34m\u001b[0m\u001b[0;34m\u001b[0m\u001b[0m\n\u001b[1;32m    496\u001b[0m                 \u001b[0;32mreturn\u001b[0m \u001b[0mresult\u001b[0m\u001b[0;34m\u001b[0m\u001b[0;34m\u001b[0m\u001b[0m\n",
            "\u001b[0;32m/usr/lib/python3.9/urllib/request.py\u001b[0m in \u001b[0;36mhttp_error_default\u001b[0;34m(self, req, fp, code, msg, hdrs)\u001b[0m\n\u001b[1;32m    639\u001b[0m \u001b[0;32mclass\u001b[0m \u001b[0mHTTPDefaultErrorHandler\u001b[0m\u001b[0;34m(\u001b[0m\u001b[0mBaseHandler\u001b[0m\u001b[0;34m)\u001b[0m\u001b[0;34m:\u001b[0m\u001b[0;34m\u001b[0m\u001b[0;34m\u001b[0m\u001b[0m\n\u001b[1;32m    640\u001b[0m     \u001b[0;32mdef\u001b[0m \u001b[0mhttp_error_default\u001b[0m\u001b[0;34m(\u001b[0m\u001b[0mself\u001b[0m\u001b[0;34m,\u001b[0m \u001b[0mreq\u001b[0m\u001b[0;34m,\u001b[0m \u001b[0mfp\u001b[0m\u001b[0;34m,\u001b[0m \u001b[0mcode\u001b[0m\u001b[0;34m,\u001b[0m \u001b[0mmsg\u001b[0m\u001b[0;34m,\u001b[0m \u001b[0mhdrs\u001b[0m\u001b[0;34m)\u001b[0m\u001b[0;34m:\u001b[0m\u001b[0;34m\u001b[0m\u001b[0;34m\u001b[0m\u001b[0m\n\u001b[0;32m--> 641\u001b[0;31m         \u001b[0;32mraise\u001b[0m \u001b[0mHTTPError\u001b[0m\u001b[0;34m(\u001b[0m\u001b[0mreq\u001b[0m\u001b[0;34m.\u001b[0m\u001b[0mfull_url\u001b[0m\u001b[0;34m,\u001b[0m \u001b[0mcode\u001b[0m\u001b[0;34m,\u001b[0m \u001b[0mmsg\u001b[0m\u001b[0;34m,\u001b[0m \u001b[0mhdrs\u001b[0m\u001b[0;34m,\u001b[0m \u001b[0mfp\u001b[0m\u001b[0;34m)\u001b[0m\u001b[0;34m\u001b[0m\u001b[0;34m\u001b[0m\u001b[0m\n\u001b[0m\u001b[1;32m    642\u001b[0m \u001b[0;34m\u001b[0m\u001b[0m\n\u001b[1;32m    643\u001b[0m \u001b[0;32mclass\u001b[0m \u001b[0mHTTPRedirectHandler\u001b[0m\u001b[0;34m(\u001b[0m\u001b[0mBaseHandler\u001b[0m\u001b[0;34m)\u001b[0m\u001b[0;34m:\u001b[0m\u001b[0;34m\u001b[0m\u001b[0;34m\u001b[0m\u001b[0m\n",
            "\u001b[0;31mHTTPError\u001b[0m: HTTP Error 429: Too Many Requests"
          ]
        }
      ]
    },
    {
      "cell_type": "code",
      "execution_count": null,
      "metadata": {
        "id": "V41Wcwm-SlAi"
      },
      "outputs": [],
      "source": [
        "# from pathlib import Path\n",
        "\n",
        "# year = \"2022\"\n",
        "# month = '04'\n",
        "# day = '01'\n",
        "\n",
        "# date = ymd2date(year, month, day)\n",
        "# file_name = Path(date2filename)\n",
        "# if file_name.is_file():\n",
        "#     df = pd.read_csv(file_name, header=None, names=['id', 'xml'])\n",
        "#     ids_done = df.id.to_list()\n",
        "#     ids = \n"
      ]
    }
  ],
  "metadata": {
    "kernelspec": {
      "display_name": "rl",
      "language": "python",
      "name": "python3"
    },
    "language_info": {
      "codemirror_mode": {
        "name": "ipython",
        "version": 3
      },
      "file_extension": ".py",
      "mimetype": "text/x-python",
      "name": "python",
      "nbconvert_exporter": "python",
      "pygments_lexer": "ipython3",
      "version": "3.10.6"
    },
    "orig_nbformat": 4,
    "colab": {
      "provenance": [],
      "include_colab_link": true
    }
  },
  "nbformat": 4,
  "nbformat_minor": 0
}