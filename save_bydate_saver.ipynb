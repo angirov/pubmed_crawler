{
  "cells": [
    {
      "cell_type": "markdown",
      "metadata": {
        "id": "view-in-github",
        "colab_type": "text"
      },
      "source": [
        "<a href=\"https://colab.research.google.com/github/angirov/pubmed_crawler/blob/main/save_bydate_saver.ipynb\" target=\"_parent\"><img src=\"https://colab.research.google.com/assets/colab-badge.svg\" alt=\"Open In Colab\"/></a>"
      ]
    },
    {
      "cell_type": "code",
      "source": [
        "!python3 --version\n",
        "!pip install Bio"
      ],
      "metadata": {
        "id": "wlPm4ht3Snae"
      },
      "execution_count": null,
      "outputs": []
    },
    {
      "cell_type": "code",
      "source": [
        "from google.colab import drive\n",
        "drive.mount('/gdrive')"
      ],
      "metadata": {
        "colab": {
          "base_uri": "https://localhost:8080/"
        },
        "id": "kbyN33DrTpNY",
        "outputId": "84ddd83b-c2b9-4535-9518-21cb46da236e"
      },
      "execution_count": 2,
      "outputs": [
        {
          "output_type": "stream",
          "name": "stdout",
          "text": [
            "Mounted at /gdrive\n"
          ]
        }
      ]
    },
    {
      "cell_type": "code",
      "source": [
        "import os\n",
        "\n",
        "dir = \"/content/drive/MyDrive/dsr/pubmed_data/\"\n",
        "os.chdir(dir)\n",
        "os.getcwd()"
      ],
      "metadata": {
        "colab": {
          "base_uri": "https://localhost:8080/",
          "height": 35
        },
        "id": "QpzgFsBKUyQ5",
        "outputId": "34d1edcf-bc0b-4040-a123-93153b0cac63"
      },
      "execution_count": 32,
      "outputs": [
        {
          "output_type": "execute_result",
          "data": {
            "text/plain": [
              "'/content/drive/MyDrive/dsr/pubmed_data'"
            ],
            "application/vnd.google.colaboratory.intrinsic+json": {
              "type": "string"
            }
          },
          "metadata": {},
          "execution_count": 32
        }
      ]
    },
    {
      "cell_type": "code",
      "execution_count": 33,
      "metadata": {
        "id": "PvXoYTrlSlAe"
      },
      "outputs": [],
      "source": [
        "import os\n",
        "from tqdm import tqdm\n",
        "import pandas as pd\n",
        "from Bio import Entrez\n",
        "Entrez.email = \"example@example.com\"\n",
        "from urllib.error import HTTPError\n",
        "from pathlib import Path"
      ]
    },
    {
      "cell_type": "code",
      "execution_count": 37,
      "metadata": {
        "id": "aEsrjiIUSlAg"
      },
      "outputs": [],
      "source": [
        "def get_pmids_from_one_day(topic, date):\n",
        "    handle = Entrez.esearch(db=\"pubmed\", \n",
        "                            term= topic + \"[MeSH Terms]\", \n",
        "                            retmax=10000,\n",
        "                            datetype=\"pdat\", \n",
        "                            mindate=date, \n",
        "                            maxdate=date, )\n",
        "    record = Entrez.read(handle)\n",
        "    ids = record[\"IdList\"]\n",
        "    return ids\n",
        "\n",
        "\n",
        "class color:\n",
        "   PURPLE = '\\033[95m'\n",
        "   CYAN = '\\033[96m'\n",
        "   DARKCYAN = '\\033[36m'\n",
        "   BLUE = '\\033[94m'\n",
        "   GREEN = '\\033[92m'\n",
        "   YELLOW = '\\033[93m'\n",
        "   RED = '\\033[91m'\n",
        "   BOLD = '\\033[1m'\n",
        "   UNDERLINE = '\\033[4m'\n",
        "   END = '\\033[0m'\n",
        "# print(color.BOLD + 'Hello, World!' + color.END)\n",
        "\n",
        "\n",
        "def print_err(text):\n",
        "    err_text = color.BOLD + color.RED + text + color.END\n",
        "    print(err_text)\n",
        "    return err_text\n",
        "\n",
        "\n",
        "def get_pmids_from_period(topic, span):\n",
        "    handle = Entrez.esearch(db=\"pubmed\", \n",
        "                            term= topic + \"[MeSH Terms]\",\n",
        "                            retmax=1000,\n",
        "                            datetype=\"pdat\",\n",
        "                            mindate=span[0],\n",
        "                            maxdate=span[1], )\n",
        "    record = Entrez.read(handle)\n",
        "    ids = record[\"IdList\"]\n",
        "    return ids\n",
        "\n",
        "\n",
        "import time\n",
        "def get_xml(id):\n",
        "    attempt = 1\n",
        "    while attempt <= 5:\n",
        "        try:\n",
        "            handle = Entrez.efetch(db=\"pubmed\", \n",
        "                            id=id, \n",
        "                            retmode=\"xml\", \n",
        "                            rettype=\"abstract\")\n",
        "            xml = handle.read()\n",
        "            return xml\n",
        "        except HTTPError as err:\n",
        "            if 500 <= err.code <= 599:\n",
        "                print_err(f\">>>>> Attempt {attempt}: Received error from server {err}\")\n",
        "                attempt += 1\n",
        "                time.sleep(15)\n",
        "            else:\n",
        "                attempt += 1\n",
        "                time.sleep(15)\n",
        "    print_err(f\">>>>> Failed to download {id}. Error: {err}\")\n",
        "    return \"\"\n",
        "\n",
        "    # pp = pprint.PrettyPrinter(indent=4)\n",
        "    # pp.pprint(json.dumps(xmltodict.parse(xml)))\n",
        "\n",
        "\n",
        "def get_xmls_ids(ids):\n",
        "    pairs = []\n",
        "    for id in tqdm(ids):\n",
        "        xml = get_xml(id)\n",
        "        pairs += [(id, xml)]\n",
        "    return pairs\n",
        "\n",
        "\n",
        "def save_pair(csv_writer, id, xml):\n",
        "    row = id, xml\n",
        "    csv_writer.writerow(row)\n",
        "    # print(f\"Saved paper {id}.\")\n",
        "\n",
        "\n",
        "def save_xmls_ids(file_name, date, ids):\n",
        "    with open(file_name,'w+') as out:\n",
        "        csv_writer=csv.writer(out, dialect='unix')\n",
        "        for id in tqdm(ids):\n",
        "            xml = get_xml(id)\n",
        "            save_pair(csv_writer, id, xml)\n",
        "    print(f\"Saved {len(ids)} papers published on {date}.\")\n",
        "    return file_name\n",
        "\n",
        "\n",
        "import csv\n",
        "def save_span(span, list_of_pairs):\n",
        "    file_name = span[0].replace(\"/\", \"_\") + \"__\" + span[1].replace(\"/\", \"_\") + \".csv\"\n",
        "    with open(file_name,'w+') as out:\n",
        "        csv_out=csv.writer(out, dialect='unix')\n",
        "        # csv_out.writerow(['name','num'])\n",
        "        # for row in list_of_pairs:\n",
        "        #     csv_out.writerow(row)\n",
        "        csv_out.writerows(list_of_pairs)\n",
        "    return file_name\n",
        "\n",
        "\n",
        "def save_date(date, list_of_pairs):\n",
        "    file_name = date2filename(date)\n",
        "    with open(file_name,'w+') as out:\n",
        "        csv_out=csv.writer(out, dialect='unix')\n",
        "        # csv_out.writerow(['name','num'])\n",
        "        # for row in list_of_pairs:\n",
        "        #     csv_out.writerow(row)\n",
        "        csv_out.writerows(list_of_pairs)\n",
        "        # print(f\"Saved {len(list_of_pairs)} papers published on {date}.\")\n",
        "    return file_name\n",
        "\n",
        "\n",
        "def ymd2date(year, month, day):\n",
        "    return f'{year}/{month:02}/{day:02}'\n",
        "\n",
        "\n",
        "def date2ymd(date):\n",
        "    year, month, day = str.split(date, sep=\"/\")\n",
        "    return year, month, day\n",
        "\n",
        "\n",
        "def date2filename(dir, date):\n",
        "    year, month, _ = date2ymd(date)\n",
        "    filename = year + \"/\" + month + \"/\" + date.replace(\"/\", \"_\") + \".csv\"\n",
        "    print(f\"File name: {filename}\")\n",
        "    return filename\n"
      ]
    },
    {
      "cell_type": "code",
      "execution_count": 35,
      "metadata": {
        "colab": {
          "base_uri": "https://localhost:8080/"
        },
        "id": "dY6K3vdVSlAh",
        "outputId": "f7cc5f79-cf80-42db-cd1d-e7980bf54d5e"
      },
      "outputs": [
        {
          "output_type": "stream",
          "name": "stdout",
          "text": [
            "Number of papers published on  2022/09/01': 699\n",
            "File name: 2022/09/2022_09_01.csv\n"
          ]
        },
        {
          "output_type": "stream",
          "name": "stderr",
          "text": [
            "100%|██████████| 699/699 [06:31<00:00,  1.79it/s]\n"
          ]
        },
        {
          "output_type": "stream",
          "name": "stdout",
          "text": [
            "Saved 699 papers published on 2022/09/01.\n",
            "Number of papers published on  2022/09/02': 47\n",
            "File name: 2022/09/2022_09_02.csv\n"
          ]
        },
        {
          "output_type": "stream",
          "name": "stderr",
          "text": [
            "100%|██████████| 47/47 [00:39<00:00,  1.19it/s]\n"
          ]
        },
        {
          "output_type": "stream",
          "name": "stdout",
          "text": [
            "Saved 47 papers published on 2022/09/02.\n",
            "Number of papers published on  2022/09/03': 14\n",
            "File name: 2022/09/2022_09_03.csv\n"
          ]
        },
        {
          "output_type": "stream",
          "name": "stderr",
          "text": [
            "100%|██████████| 14/14 [00:05<00:00,  2.75it/s]\n"
          ]
        },
        {
          "output_type": "stream",
          "name": "stdout",
          "text": [
            "Saved 14 papers published on 2022/09/03.\n",
            "Number of papers published on  2022/09/04': 5\n",
            "File name: 2022/09/2022_09_04.csv\n"
          ]
        },
        {
          "output_type": "stream",
          "name": "stderr",
          "text": [
            "100%|██████████| 5/5 [00:01<00:00,  2.85it/s]\n"
          ]
        },
        {
          "output_type": "stream",
          "name": "stdout",
          "text": [
            "Saved 5 papers published on 2022/09/04.\n",
            "Number of papers published on  2022/09/05': 34\n",
            "File name: 2022/09/2022_09_05.csv\n"
          ]
        },
        {
          "output_type": "stream",
          "name": "stderr",
          "text": [
            "100%|██████████| 34/34 [00:12<00:00,  2.72it/s]\n"
          ]
        },
        {
          "output_type": "stream",
          "name": "stdout",
          "text": [
            "Saved 34 papers published on 2022/09/05.\n",
            "Number of papers published on  2022/09/06': 43\n",
            "File name: 2022/09/2022_09_06.csv\n"
          ]
        },
        {
          "output_type": "stream",
          "name": "stderr",
          "text": [
            "100%|██████████| 43/43 [00:15<00:00,  2.72it/s]\n"
          ]
        },
        {
          "output_type": "stream",
          "name": "stdout",
          "text": [
            "Saved 43 papers published on 2022/09/06.\n",
            "Number of papers published on  2022/09/07': 39\n",
            "File name: 2022/09/2022_09_07.csv\n"
          ]
        },
        {
          "output_type": "stream",
          "name": "stderr",
          "text": [
            "100%|██████████| 39/39 [00:17<00:00,  2.21it/s]\n"
          ]
        },
        {
          "output_type": "stream",
          "name": "stdout",
          "text": [
            "Saved 39 papers published on 2022/09/07.\n",
            "Number of papers published on  2022/09/08': 33\n",
            "File name: 2022/09/2022_09_08.csv\n"
          ]
        },
        {
          "output_type": "stream",
          "name": "stderr",
          "text": [
            "100%|██████████| 33/33 [00:12<00:00,  2.74it/s]\n"
          ]
        },
        {
          "output_type": "stream",
          "name": "stdout",
          "text": [
            "Saved 33 papers published on 2022/09/08.\n",
            "Number of papers published on  2022/09/09': 32\n",
            "File name: 2022/09/2022_09_09.csv\n"
          ]
        },
        {
          "output_type": "stream",
          "name": "stderr",
          "text": [
            "100%|██████████| 32/32 [00:11<00:00,  2.73it/s]\n"
          ]
        },
        {
          "output_type": "stream",
          "name": "stdout",
          "text": [
            "Saved 32 papers published on 2022/09/09.\n",
            "Number of papers published on  2022/09/10': 27\n",
            "File name: 2022/09/2022_09_10.csv\n"
          ]
        },
        {
          "output_type": "stream",
          "name": "stderr",
          "text": [
            "100%|██████████| 27/27 [00:25<00:00,  1.08it/s]\n"
          ]
        },
        {
          "output_type": "stream",
          "name": "stdout",
          "text": [
            "Saved 27 papers published on 2022/09/10.\n",
            "Number of papers published on  2022/09/11': 7\n",
            "File name: 2022/09/2022_09_11.csv\n"
          ]
        },
        {
          "output_type": "stream",
          "name": "stderr",
          "text": [
            "100%|██████████| 7/7 [00:02<00:00,  2.85it/s]\n"
          ]
        },
        {
          "output_type": "stream",
          "name": "stdout",
          "text": [
            "Saved 7 papers published on 2022/09/11.\n",
            "Number of papers published on  2022/09/12': 36\n",
            "File name: 2022/09/2022_09_12.csv\n"
          ]
        },
        {
          "output_type": "stream",
          "name": "stderr",
          "text": [
            "100%|██████████| 36/36 [00:28<00:00,  1.26it/s]\n"
          ]
        },
        {
          "output_type": "stream",
          "name": "stdout",
          "text": [
            "Saved 36 papers published on 2022/09/12.\n",
            "Number of papers published on  2022/09/13': 28\n",
            "File name: 2022/09/2022_09_13.csv\n"
          ]
        },
        {
          "output_type": "stream",
          "name": "stderr",
          "text": [
            "100%|██████████| 28/28 [00:10<00:00,  2.72it/s]\n"
          ]
        },
        {
          "output_type": "stream",
          "name": "stdout",
          "text": [
            "Saved 28 papers published on 2022/09/13.\n",
            "Number of papers published on  2022/09/14': 28\n",
            "File name: 2022/09/2022_09_14.csv\n"
          ]
        },
        {
          "output_type": "stream",
          "name": "stderr",
          "text": [
            "100%|██████████| 28/28 [00:10<00:00,  2.75it/s]\n"
          ]
        },
        {
          "output_type": "stream",
          "name": "stdout",
          "text": [
            "Saved 28 papers published on 2022/09/14.\n",
            "Number of papers published on  2022/09/15': 54\n",
            "File name: 2022/09/2022_09_15.csv\n"
          ]
        },
        {
          "output_type": "stream",
          "name": "stderr",
          "text": [
            "100%|██████████| 54/54 [00:42<00:00,  1.29it/s]\n"
          ]
        },
        {
          "output_type": "stream",
          "name": "stdout",
          "text": [
            "Saved 54 papers published on 2022/09/15.\n",
            "Number of papers published on  2022/09/16': 32\n",
            "File name: 2022/09/2022_09_16.csv\n"
          ]
        },
        {
          "output_type": "stream",
          "name": "stderr",
          "text": [
            "100%|██████████| 32/32 [00:17<00:00,  1.85it/s]\n"
          ]
        },
        {
          "output_type": "stream",
          "name": "stdout",
          "text": [
            "Saved 32 papers published on 2022/09/16.\n",
            "Number of papers published on  2022/09/17': 21\n",
            "File name: 2022/09/2022_09_17.csv\n"
          ]
        },
        {
          "output_type": "stream",
          "name": "stderr",
          "text": [
            "100%|██████████| 21/21 [00:07<00:00,  2.80it/s]\n"
          ]
        },
        {
          "output_type": "stream",
          "name": "stdout",
          "text": [
            "Saved 21 papers published on 2022/09/17.\n",
            "Number of papers published on  2022/09/18': 9\n",
            "File name: 2022/09/2022_09_18.csv\n"
          ]
        },
        {
          "output_type": "stream",
          "name": "stderr",
          "text": [
            "100%|██████████| 9/9 [00:03<00:00,  2.39it/s]\n"
          ]
        },
        {
          "output_type": "stream",
          "name": "stdout",
          "text": [
            "Saved 9 papers published on 2022/09/18.\n",
            "Number of papers published on  2022/09/19': 27\n",
            "File name: 2022/09/2022_09_19.csv\n"
          ]
        },
        {
          "output_type": "stream",
          "name": "stderr",
          "text": [
            "100%|██████████| 27/27 [00:25<00:00,  1.08it/s]\n"
          ]
        },
        {
          "output_type": "stream",
          "name": "stdout",
          "text": [
            "Saved 27 papers published on 2022/09/19.\n",
            "Number of papers published on  2022/09/20': 49\n",
            "File name: 2022/09/2022_09_20.csv\n"
          ]
        },
        {
          "output_type": "stream",
          "name": "stderr",
          "text": [
            "100%|██████████| 49/49 [00:45<00:00,  1.08it/s]\n"
          ]
        },
        {
          "output_type": "stream",
          "name": "stdout",
          "text": [
            "Saved 49 papers published on 2022/09/20.\n",
            "Number of papers published on  2022/09/21': 34\n",
            "File name: 2022/09/2022_09_21.csv\n"
          ]
        },
        {
          "output_type": "stream",
          "name": "stderr",
          "text": [
            "100%|██████████| 34/34 [00:29<00:00,  1.16it/s]\n"
          ]
        },
        {
          "output_type": "stream",
          "name": "stdout",
          "text": [
            "Saved 34 papers published on 2022/09/21.\n",
            "Number of papers published on  2022/09/22': 32\n",
            "File name: 2022/09/2022_09_22.csv\n"
          ]
        },
        {
          "output_type": "stream",
          "name": "stderr",
          "text": [
            "100%|██████████| 32/32 [00:11<00:00,  2.74it/s]\n"
          ]
        },
        {
          "output_type": "stream",
          "name": "stdout",
          "text": [
            "Saved 32 papers published on 2022/09/22.\n",
            "Number of papers published on  2022/09/23': 25\n",
            "File name: 2022/09/2022_09_23.csv\n"
          ]
        },
        {
          "output_type": "stream",
          "name": "stderr",
          "text": [
            "100%|██████████| 25/25 [00:09<00:00,  2.73it/s]\n"
          ]
        },
        {
          "output_type": "stream",
          "name": "stdout",
          "text": [
            "Saved 25 papers published on 2022/09/23.\n",
            "Number of papers published on  2022/09/24': 28\n",
            "File name: 2022/09/2022_09_24.csv\n"
          ]
        },
        {
          "output_type": "stream",
          "name": "stderr",
          "text": [
            "100%|██████████| 28/28 [00:10<00:00,  2.69it/s]\n"
          ]
        },
        {
          "output_type": "stream",
          "name": "stdout",
          "text": [
            "Saved 28 papers published on 2022/09/24.\n",
            "Number of papers published on  2022/09/25': 15\n",
            "File name: 2022/09/2022_09_25.csv\n"
          ]
        },
        {
          "output_type": "stream",
          "name": "stderr",
          "text": [
            "100%|██████████| 15/15 [00:06<00:00,  2.18it/s]\n"
          ]
        },
        {
          "output_type": "stream",
          "name": "stdout",
          "text": [
            "Saved 15 papers published on 2022/09/25.\n",
            "Number of papers published on  2022/09/26': 38\n",
            "File name: 2022/09/2022_09_26.csv\n"
          ]
        },
        {
          "output_type": "stream",
          "name": "stderr",
          "text": [
            "100%|██████████| 38/38 [00:27<00:00,  1.38it/s]\n"
          ]
        },
        {
          "output_type": "stream",
          "name": "stdout",
          "text": [
            "Saved 38 papers published on 2022/09/26.\n",
            "Number of papers published on  2022/09/27': 31\n",
            "File name: 2022/09/2022_09_27.csv\n"
          ]
        },
        {
          "output_type": "stream",
          "name": "stderr",
          "text": [
            "100%|██████████| 31/31 [00:18<00:00,  1.70it/s]\n"
          ]
        },
        {
          "output_type": "stream",
          "name": "stdout",
          "text": [
            "Saved 31 papers published on 2022/09/27.\n",
            "Number of papers published on  2022/09/28': 52\n",
            "File name: 2022/09/2022_09_28.csv\n"
          ]
        },
        {
          "output_type": "stream",
          "name": "stderr",
          "text": [
            "100%|██████████| 52/52 [01:17<00:00,  1.49s/it]\n"
          ]
        },
        {
          "output_type": "stream",
          "name": "stdout",
          "text": [
            "Saved 52 papers published on 2022/09/28.\n",
            "Number of papers published on  2022/09/29': 46\n",
            "File name: 2022/09/2022_09_29.csv\n"
          ]
        },
        {
          "output_type": "stream",
          "name": "stderr",
          "text": [
            "100%|██████████| 46/46 [00:32<00:00,  1.41it/s]\n"
          ]
        },
        {
          "output_type": "stream",
          "name": "stdout",
          "text": [
            "Saved 46 papers published on 2022/09/29.\n",
            "Number of papers published on  2022/09/30': 31\n",
            "File name: 2022/09/2022_09_30.csv\n"
          ]
        },
        {
          "output_type": "stream",
          "name": "stderr",
          "text": [
            "100%|██████████| 31/31 [00:12<00:00,  2.51it/s]\n"
          ]
        },
        {
          "output_type": "stream",
          "name": "stdout",
          "text": [
            "Saved 31 papers published on 2022/09/30.\n",
            "Number of papers published on  2022/09/31': 0\n"
          ]
        }
      ],
      "source": [
        "year = \"2022\"\n",
        "month = '09'\n",
        "\n",
        "\n",
        "for day in range(1, 32):\n",
        "    date = ymd2date(year, month, day)\n",
        "\n",
        "    ids = get_pmids_from_one_day(\"breast cancer\", date)\n",
        "    print(f\"Number of papers published on  {date}': {len(ids)}\")\n",
        "    if len(ids) == 0:\n",
        "        break\n",
        "\n",
        "    file_name = Path(date2filename(dir, date))\n",
        "    path = Path(dir + \"/\" + year + \"/\" + month + \"/\")\n",
        "    path.mkdir(parents=True, exist_ok=True)\n",
        "\n",
        "    if file_name.is_file():\n",
        "        df = pd.read_csv(file_name, header=None, names=['id', 'xml'])\n",
        "        ids_done = df.id.to_list()\n",
        "        ids = [id for id in ids if id not in ids_done]\n",
        "        print(f\"Number of papers already saved': {len(ids_done)}. To save: {len(ids)}\")\n",
        "\n",
        "    save_xmls_ids(file_name, date, ids)\n"
      ]
    },
    {
      "cell_type": "code",
      "source": [
        "year = 2022\n",
        "\n",
        "for month in range(10, 13):\n",
        "    for day in range(1, 32):\n",
        "        date = ymd2date(year, month, day)\n",
        "\n",
        "        ids = get_pmids_from_one_day(\"breast cancer\", date)\n",
        "        print(f\"Number of papers published on  {date}': {len(ids)}\")\n",
        "        if len(ids) == 0:\n",
        "            break\n",
        "\n",
        "        file_name = Path(date2filename(dir, date))\n",
        "        path = Path(dir + \"/\" + f'{year}' + \"/\" + f\"{month:02}\" + \"/\")\n",
        "        path.mkdir(parents=True, exist_ok=True)\n",
        "\n",
        "        if file_name.is_file():\n",
        "            df = pd.read_csv(file_name, header=None, names=['id', 'xml'])\n",
        "            ids_done = df.id.to_list()\n",
        "            ids = [id for id in ids if id not in ids_done]\n",
        "            print(f\"Number of papers already saved': {len(ids_done)}. To save: {len(ids)}\")\n",
        "\n",
        "        save_xmls_ids(file_name, date, ids)\n"
      ],
      "metadata": {
        "colab": {
          "base_uri": "https://localhost:8080/"
        },
        "id": "d2RwblASeYaY",
        "outputId": "b5c80def-2c44-43ba-ca4a-8d7082946e2c"
      },
      "execution_count": null,
      "outputs": [
        {
          "output_type": "stream",
          "name": "stdout",
          "text": [
            "Number of papers published on  2022/10/01': 756\n",
            "File name: 2022/10/2022_10_01.csv\n"
          ]
        },
        {
          "output_type": "stream",
          "name": "stderr",
          "text": [
            "100%|██████████| 756/756 [06:23<00:00,  1.97it/s]\n"
          ]
        },
        {
          "output_type": "stream",
          "name": "stdout",
          "text": [
            "Saved 756 papers published on 2022/10/01.\n",
            "Number of papers published on  2022/10/02': 7\n",
            "File name: 2022/10/2022_10_02.csv\n"
          ]
        },
        {
          "output_type": "stream",
          "name": "stderr",
          "text": [
            "100%|██████████| 7/7 [00:02<00:00,  2.77it/s]\n"
          ]
        },
        {
          "output_type": "stream",
          "name": "stdout",
          "text": [
            "Saved 7 papers published on 2022/10/02.\n",
            "Number of papers published on  2022/10/03': 40\n",
            "File name: 2022/10/2022_10_03.csv\n"
          ]
        },
        {
          "output_type": "stream",
          "name": "stderr",
          "text": [
            "100%|██████████| 40/40 [00:31<00:00,  1.27it/s]\n"
          ]
        },
        {
          "output_type": "stream",
          "name": "stdout",
          "text": [
            "Saved 40 papers published on 2022/10/03.\n",
            "Number of papers published on  2022/10/04': 44\n",
            "File name: 2022/10/2022_10_04.csv\n"
          ]
        },
        {
          "output_type": "stream",
          "name": "stderr",
          "text": [
            "100%|██████████| 44/44 [00:17<00:00,  2.52it/s]\n"
          ]
        },
        {
          "output_type": "stream",
          "name": "stdout",
          "text": [
            "Saved 44 papers published on 2022/10/04.\n",
            "Number of papers published on  2022/10/05': 41\n",
            "File name: 2022/10/2022_10_05.csv\n"
          ]
        },
        {
          "output_type": "stream",
          "name": "stderr",
          "text": [
            "100%|██████████| 41/41 [00:14<00:00,  2.74it/s]\n"
          ]
        },
        {
          "output_type": "stream",
          "name": "stdout",
          "text": [
            "Saved 41 papers published on 2022/10/05.\n",
            "Number of papers published on  2022/10/06': 42\n",
            "File name: 2022/10/2022_10_06.csv\n"
          ]
        },
        {
          "output_type": "stream",
          "name": "stderr",
          "text": [
            "100%|██████████| 42/42 [00:15<00:00,  2.70it/s]\n"
          ]
        },
        {
          "output_type": "stream",
          "name": "stdout",
          "text": [
            "Saved 42 papers published on 2022/10/06.\n",
            "Number of papers published on  2022/10/07': 32\n",
            "File name: 2022/10/2022_10_07.csv\n"
          ]
        },
        {
          "output_type": "stream",
          "name": "stderr",
          "text": [
            "100%|██████████| 32/32 [00:13<00:00,  2.34it/s]\n"
          ]
        },
        {
          "output_type": "stream",
          "name": "stdout",
          "text": [
            "Saved 32 papers published on 2022/10/07.\n",
            "Number of papers published on  2022/10/08': 20\n",
            "File name: 2022/10/2022_10_08.csv\n"
          ]
        },
        {
          "output_type": "stream",
          "name": "stderr",
          "text": [
            "100%|██████████| 20/20 [00:07<00:00,  2.59it/s]\n"
          ]
        },
        {
          "output_type": "stream",
          "name": "stdout",
          "text": [
            "Saved 20 papers published on 2022/10/08.\n",
            "Number of papers published on  2022/10/09': 5\n",
            "File name: 2022/10/2022_10_09.csv\n"
          ]
        },
        {
          "output_type": "stream",
          "name": "stderr",
          "text": [
            "100%|██████████| 5/5 [00:01<00:00,  3.15it/s]\n"
          ]
        },
        {
          "output_type": "stream",
          "name": "stdout",
          "text": [
            "Saved 5 papers published on 2022/10/09.\n",
            "Number of papers published on  2022/10/10': 35\n",
            "File name: 2022/10/2022_10_10.csv\n"
          ]
        },
        {
          "output_type": "stream",
          "name": "stderr",
          "text": [
            "100%|██████████| 35/35 [00:27<00:00,  1.25it/s]\n"
          ]
        },
        {
          "output_type": "stream",
          "name": "stdout",
          "text": [
            "Saved 35 papers published on 2022/10/10.\n",
            "Number of papers published on  2022/10/11': 21\n",
            "File name: 2022/10/2022_10_11.csv\n"
          ]
        },
        {
          "output_type": "stream",
          "name": "stderr",
          "text": [
            "100%|██████████| 21/21 [00:08<00:00,  2.55it/s]\n"
          ]
        },
        {
          "output_type": "stream",
          "name": "stdout",
          "text": [
            "Saved 21 papers published on 2022/10/11.\n",
            "Number of papers published on  2022/10/12': 37\n",
            "File name: 2022/10/2022_10_12.csv\n"
          ]
        },
        {
          "output_type": "stream",
          "name": "stderr",
          "text": [
            "100%|██████████| 37/37 [00:13<00:00,  2.67it/s]\n"
          ]
        },
        {
          "output_type": "stream",
          "name": "stdout",
          "text": [
            "Saved 37 papers published on 2022/10/12.\n",
            "Number of papers published on  2022/10/13': 42\n",
            "File name: 2022/10/2022_10_13.csv\n"
          ]
        },
        {
          "output_type": "stream",
          "name": "stderr",
          "text": [
            "100%|██████████| 42/42 [00:18<00:00,  2.30it/s]\n"
          ]
        },
        {
          "output_type": "stream",
          "name": "stdout",
          "text": [
            "Saved 42 papers published on 2022/10/13.\n",
            "Number of papers published on  2022/10/14': 34\n",
            "File name: 2022/10/2022_10_14.csv\n"
          ]
        },
        {
          "output_type": "stream",
          "name": "stderr",
          "text": [
            "100%|██████████| 34/34 [00:12<00:00,  2.76it/s]\n"
          ]
        },
        {
          "output_type": "stream",
          "name": "stdout",
          "text": [
            "Saved 34 papers published on 2022/10/14.\n",
            "Number of papers published on  2022/10/15': 23\n",
            "File name: 2022/10/2022_10_15.csv\n"
          ]
        },
        {
          "output_type": "stream",
          "name": "stderr",
          "text": [
            "100%|██████████| 23/23 [00:08<00:00,  2.79it/s]\n"
          ]
        },
        {
          "output_type": "stream",
          "name": "stdout",
          "text": [
            "Saved 23 papers published on 2022/10/15.\n",
            "Number of papers published on  2022/10/16': 5\n",
            "File name: 2022/10/2022_10_16.csv\n"
          ]
        },
        {
          "output_type": "stream",
          "name": "stderr",
          "text": [
            "100%|██████████| 5/5 [00:01<00:00,  3.03it/s]\n"
          ]
        },
        {
          "output_type": "stream",
          "name": "stdout",
          "text": [
            "Saved 5 papers published on 2022/10/16.\n",
            "Number of papers published on  2022/10/17': 58\n",
            "File name: 2022/10/2022_10_17.csv\n"
          ]
        },
        {
          "output_type": "stream",
          "name": "stderr",
          "text": [
            "100%|██████████| 58/58 [00:36<00:00,  1.57it/s]\n"
          ]
        },
        {
          "output_type": "stream",
          "name": "stdout",
          "text": [
            "Saved 58 papers published on 2022/10/17.\n",
            "Number of papers published on  2022/10/18': 43\n",
            "File name: 2022/10/2022_10_18.csv\n"
          ]
        },
        {
          "output_type": "stream",
          "name": "stderr",
          "text": [
            "100%|██████████| 43/43 [00:15<00:00,  2.72it/s]\n"
          ]
        },
        {
          "output_type": "stream",
          "name": "stdout",
          "text": [
            "Saved 43 papers published on 2022/10/18.\n",
            "Number of papers published on  2022/10/19': 31\n",
            "File name: 2022/10/2022_10_19.csv\n"
          ]
        },
        {
          "output_type": "stream",
          "name": "stderr",
          "text": [
            "100%|██████████| 31/31 [00:11<00:00,  2.73it/s]\n"
          ]
        },
        {
          "output_type": "stream",
          "name": "stdout",
          "text": [
            "Saved 31 papers published on 2022/10/19.\n",
            "Number of papers published on  2022/10/20': 43\n",
            "File name: 2022/10/2022_10_20.csv\n"
          ]
        },
        {
          "output_type": "stream",
          "name": "stderr",
          "text": [
            "100%|██████████| 43/43 [00:16<00:00,  2.68it/s]\n"
          ]
        },
        {
          "output_type": "stream",
          "name": "stdout",
          "text": [
            "Saved 43 papers published on 2022/10/20.\n",
            "Number of papers published on  2022/10/21': 33\n",
            "File name: 2022/10/2022_10_21.csv\n"
          ]
        },
        {
          "output_type": "stream",
          "name": "stderr",
          "text": [
            "100%|██████████| 33/33 [00:12<00:00,  2.69it/s]\n"
          ]
        },
        {
          "output_type": "stream",
          "name": "stdout",
          "text": [
            "Saved 33 papers published on 2022/10/21.\n",
            "Number of papers published on  2022/10/22': 16\n",
            "File name: 2022/10/2022_10_22.csv\n"
          ]
        },
        {
          "output_type": "stream",
          "name": "stderr",
          "text": [
            "100%|██████████| 16/16 [00:06<00:00,  2.55it/s]\n"
          ]
        },
        {
          "output_type": "stream",
          "name": "stdout",
          "text": [
            "Saved 16 papers published on 2022/10/22.\n",
            "Number of papers published on  2022/10/23': 9\n",
            "File name: 2022/10/2022_10_23.csv\n"
          ]
        },
        {
          "output_type": "stream",
          "name": "stderr",
          "text": [
            "100%|██████████| 9/9 [00:03<00:00,  2.78it/s]\n"
          ]
        },
        {
          "output_type": "stream",
          "name": "stdout",
          "text": [
            "Saved 9 papers published on 2022/10/23.\n",
            "Number of papers published on  2022/10/24': 18\n",
            "File name: 2022/10/2022_10_24.csv\n"
          ]
        },
        {
          "output_type": "stream",
          "name": "stderr",
          "text": [
            "100%|██████████| 18/18 [00:16<00:00,  1.10it/s]\n"
          ]
        },
        {
          "output_type": "stream",
          "name": "stdout",
          "text": [
            "Saved 18 papers published on 2022/10/24.\n",
            "Number of papers published on  2022/10/25': 37\n",
            "File name: 2022/10/2022_10_25.csv\n"
          ]
        },
        {
          "output_type": "stream",
          "name": "stderr",
          "text": [
            "100%|██████████| 37/37 [00:13<00:00,  2.72it/s]\n"
          ]
        },
        {
          "output_type": "stream",
          "name": "stdout",
          "text": [
            "Saved 37 papers published on 2022/10/25.\n",
            "Number of papers published on  2022/10/26': 31\n",
            "File name: 2022/10/2022_10_26.csv\n"
          ]
        },
        {
          "output_type": "stream",
          "name": "stderr",
          "text": [
            "100%|██████████| 31/31 [00:11<00:00,  2.72it/s]\n"
          ]
        },
        {
          "output_type": "stream",
          "name": "stdout",
          "text": [
            "Saved 31 papers published on 2022/10/26.\n",
            "Number of papers published on  2022/10/27': 32\n",
            "File name: 2022/10/2022_10_27.csv\n"
          ]
        },
        {
          "output_type": "stream",
          "name": "stderr",
          "text": [
            "100%|██████████| 32/32 [00:11<00:00,  2.77it/s]\n"
          ]
        },
        {
          "output_type": "stream",
          "name": "stdout",
          "text": [
            "Saved 32 papers published on 2022/10/27.\n",
            "Number of papers published on  2022/10/28': 35\n",
            "File name: 2022/10/2022_10_28.csv\n"
          ]
        },
        {
          "output_type": "stream",
          "name": "stderr",
          "text": [
            "100%|██████████| 35/35 [00:12<00:00,  2.72it/s]\n"
          ]
        },
        {
          "output_type": "stream",
          "name": "stdout",
          "text": [
            "Saved 35 papers published on 2022/10/28.\n",
            "Number of papers published on  2022/10/29': 18\n",
            "File name: 2022/10/2022_10_29.csv\n"
          ]
        },
        {
          "output_type": "stream",
          "name": "stderr",
          "text": [
            "100%|██████████| 18/18 [00:06<00:00,  2.74it/s]\n"
          ]
        },
        {
          "output_type": "stream",
          "name": "stdout",
          "text": [
            "Saved 18 papers published on 2022/10/29.\n",
            "Number of papers published on  2022/10/30': 8\n",
            "File name: 2022/10/2022_10_30.csv\n"
          ]
        },
        {
          "output_type": "stream",
          "name": "stderr",
          "text": [
            "100%|██████████| 8/8 [00:02<00:00,  2.80it/s]\n"
          ]
        },
        {
          "output_type": "stream",
          "name": "stdout",
          "text": [
            "Saved 8 papers published on 2022/10/30.\n",
            "Number of papers published on  2022/10/31': 22\n",
            "File name: 2022/10/2022_10_31.csv\n"
          ]
        },
        {
          "output_type": "stream",
          "name": "stderr",
          "text": [
            "100%|██████████| 22/22 [00:08<00:00,  2.74it/s]\n"
          ]
        },
        {
          "output_type": "stream",
          "name": "stdout",
          "text": [
            "Saved 22 papers published on 2022/10/31.\n",
            "Number of papers published on  2022/11/01': 703\n",
            "File name: 2022/11/2022_11_01.csv\n"
          ]
        },
        {
          "output_type": "stream",
          "name": "stderr",
          "text": [
            "100%|██████████| 703/703 [08:43<00:00,  1.34it/s]\n"
          ]
        },
        {
          "output_type": "stream",
          "name": "stdout",
          "text": [
            "Saved 703 papers published on 2022/11/01.\n",
            "Number of papers published on  2022/11/02': 46\n",
            "File name: 2022/11/2022_11_02.csv\n"
          ]
        },
        {
          "output_type": "stream",
          "name": "stderr",
          "text": [
            "100%|██████████| 46/46 [00:35<00:00,  1.31it/s]\n"
          ]
        },
        {
          "output_type": "stream",
          "name": "stdout",
          "text": [
            "Saved 46 papers published on 2022/11/02.\n",
            "Number of papers published on  2022/11/03': 40\n",
            "File name: 2022/11/2022_11_03.csv\n"
          ]
        },
        {
          "output_type": "stream",
          "name": "stderr",
          "text": [
            "100%|██████████| 40/40 [00:33<00:00,  1.20it/s]\n"
          ]
        },
        {
          "output_type": "stream",
          "name": "stdout",
          "text": [
            "Saved 40 papers published on 2022/11/03.\n",
            "Number of papers published on  2022/11/04': 21\n",
            "File name: 2022/11/2022_11_04.csv\n"
          ]
        },
        {
          "output_type": "stream",
          "name": "stderr",
          "text": [
            "100%|██████████| 21/21 [00:25<00:00,  1.19s/it]\n"
          ]
        },
        {
          "output_type": "stream",
          "name": "stdout",
          "text": [
            "Saved 21 papers published on 2022/11/04.\n",
            "Number of papers published on  2022/11/05': 24\n",
            "File name: 2022/11/2022_11_05.csv\n"
          ]
        },
        {
          "output_type": "stream",
          "name": "stderr",
          "text": [
            "100%|██████████| 24/24 [00:30<00:00,  1.26s/it]\n"
          ]
        },
        {
          "output_type": "stream",
          "name": "stdout",
          "text": [
            "Saved 24 papers published on 2022/11/05.\n",
            "Number of papers published on  2022/11/06': 9\n",
            "File name: 2022/11/2022_11_06.csv\n"
          ]
        },
        {
          "output_type": "stream",
          "name": "stderr",
          "text": [
            "100%|██████████| 9/9 [00:05<00:00,  1.80it/s]\n"
          ]
        },
        {
          "output_type": "stream",
          "name": "stdout",
          "text": [
            "Saved 9 papers published on 2022/11/06.\n",
            "Number of papers published on  2022/11/07': 35\n",
            "File name: 2022/11/2022_11_07.csv\n"
          ]
        },
        {
          "output_type": "stream",
          "name": "stderr",
          "text": [
            "100%|██████████| 35/35 [00:28<00:00,  1.21it/s]\n"
          ]
        },
        {
          "output_type": "stream",
          "name": "stdout",
          "text": [
            "Saved 35 papers published on 2022/11/07.\n",
            "Number of papers published on  2022/11/08': 32\n",
            "File name: 2022/11/2022_11_08.csv\n"
          ]
        },
        {
          "output_type": "stream",
          "name": "stderr",
          "text": [
            "100%|██████████| 32/32 [00:11<00:00,  2.67it/s]\n"
          ]
        },
        {
          "output_type": "stream",
          "name": "stdout",
          "text": [
            "Saved 32 papers published on 2022/11/08.\n",
            "Number of papers published on  2022/11/09': 36\n",
            "File name: 2022/11/2022_11_09.csv\n"
          ]
        },
        {
          "output_type": "stream",
          "name": "stderr",
          "text": [
            "100%|██████████| 36/36 [00:31<00:00,  1.15it/s]\n"
          ]
        },
        {
          "output_type": "stream",
          "name": "stdout",
          "text": [
            "Saved 36 papers published on 2022/11/09.\n",
            "Number of papers published on  2022/11/10': 26\n",
            "File name: 2022/11/2022_11_10.csv\n"
          ]
        },
        {
          "output_type": "stream",
          "name": "stderr",
          "text": [
            "100%|██████████| 26/26 [00:12<00:00,  2.03it/s]\n"
          ]
        },
        {
          "output_type": "stream",
          "name": "stdout",
          "text": [
            "Saved 26 papers published on 2022/11/10.\n",
            "Number of papers published on  2022/11/11': 36\n",
            "File name: 2022/11/2022_11_11.csv\n"
          ]
        },
        {
          "output_type": "stream",
          "name": "stderr",
          "text": [
            "100%|██████████| 36/36 [00:33<00:00,  1.08it/s]\n"
          ]
        },
        {
          "output_type": "stream",
          "name": "stdout",
          "text": [
            "Saved 36 papers published on 2022/11/11.\n",
            "Number of papers published on  2022/11/12': 21\n",
            "File name: 2022/11/2022_11_12.csv\n"
          ]
        },
        {
          "output_type": "stream",
          "name": "stderr",
          "text": [
            "100%|██████████| 21/21 [00:09<00:00,  2.23it/s]\n"
          ]
        },
        {
          "output_type": "stream",
          "name": "stdout",
          "text": [
            "Saved 21 papers published on 2022/11/12.\n",
            "Number of papers published on  2022/11/13': 13\n",
            "File name: 2022/11/2022_11_13.csv\n"
          ]
        },
        {
          "output_type": "stream",
          "name": "stderr",
          "text": [
            "100%|██████████| 13/13 [00:06<00:00,  2.00it/s]\n"
          ]
        },
        {
          "output_type": "stream",
          "name": "stdout",
          "text": [
            "Saved 13 papers published on 2022/11/13.\n",
            "Number of papers published on  2022/11/14': 35\n",
            "File name: 2022/11/2022_11_14.csv\n"
          ]
        },
        {
          "output_type": "stream",
          "name": "stderr",
          "text": [
            "100%|██████████| 35/35 [00:13<00:00,  2.68it/s]\n"
          ]
        },
        {
          "output_type": "stream",
          "name": "stdout",
          "text": [
            "Saved 35 papers published on 2022/11/14.\n",
            "Number of papers published on  2022/11/15': 49\n",
            "File name: 2022/11/2022_11_15.csv\n"
          ]
        },
        {
          "output_type": "stream",
          "name": "stderr",
          "text": [
            "100%|██████████| 49/49 [00:20<00:00,  2.45it/s]\n"
          ]
        },
        {
          "output_type": "stream",
          "name": "stdout",
          "text": [
            "Saved 49 papers published on 2022/11/15.\n",
            "Number of papers published on  2022/11/16': 30\n",
            "File name: 2022/11/2022_11_16.csv\n"
          ]
        },
        {
          "output_type": "stream",
          "name": "stderr",
          "text": [
            "100%|██████████| 30/30 [00:11<00:00,  2.71it/s]\n"
          ]
        },
        {
          "output_type": "stream",
          "name": "stdout",
          "text": [
            "Saved 30 papers published on 2022/11/16.\n",
            "Number of papers published on  2022/11/17': 37\n",
            "File name: 2022/11/2022_11_17.csv\n"
          ]
        },
        {
          "output_type": "stream",
          "name": "stderr",
          "text": [
            "100%|██████████| 37/37 [00:36<00:00,  1.01it/s]\n"
          ]
        },
        {
          "output_type": "stream",
          "name": "stdout",
          "text": [
            "Saved 37 papers published on 2022/11/17.\n",
            "Number of papers published on  2022/11/18': 27\n",
            "File name: 2022/11/2022_11_18.csv\n"
          ]
        },
        {
          "output_type": "stream",
          "name": "stderr",
          "text": [
            "100%|██████████| 27/27 [00:29<00:00,  1.09s/it]\n"
          ]
        },
        {
          "output_type": "stream",
          "name": "stdout",
          "text": [
            "Saved 27 papers published on 2022/11/18.\n",
            "Number of papers published on  2022/11/19': 21\n",
            "File name: 2022/11/2022_11_19.csv\n"
          ]
        },
        {
          "output_type": "stream",
          "name": "stderr",
          "text": [
            "100%|██████████| 21/21 [00:07<00:00,  2.66it/s]\n"
          ]
        },
        {
          "output_type": "stream",
          "name": "stdout",
          "text": [
            "Saved 21 papers published on 2022/11/19.\n",
            "Number of papers published on  2022/11/20': 15\n",
            "File name: 2022/11/2022_11_20.csv\n"
          ]
        },
        {
          "output_type": "stream",
          "name": "stderr",
          "text": [
            "100%|██████████| 15/15 [00:20<00:00,  1.37s/it]\n"
          ]
        },
        {
          "output_type": "stream",
          "name": "stdout",
          "text": [
            "Saved 15 papers published on 2022/11/20.\n",
            "Number of papers published on  2022/11/21': 36\n",
            "File name: 2022/11/2022_11_21.csv\n"
          ]
        },
        {
          "output_type": "stream",
          "name": "stderr",
          "text": [
            "100%|██████████| 36/36 [00:28<00:00,  1.26it/s]\n"
          ]
        },
        {
          "output_type": "stream",
          "name": "stdout",
          "text": [
            "Saved 36 papers published on 2022/11/21.\n",
            "Number of papers published on  2022/11/22': 36\n",
            "File name: 2022/11/2022_11_22.csv\n"
          ]
        },
        {
          "output_type": "stream",
          "name": "stderr",
          "text": [
            "100%|██████████| 36/36 [00:29<00:00,  1.24it/s]\n"
          ]
        },
        {
          "output_type": "stream",
          "name": "stdout",
          "text": [
            "Saved 36 papers published on 2022/11/22.\n",
            "Number of papers published on  2022/11/23': 33\n",
            "File name: 2022/11/2022_11_23.csv\n"
          ]
        },
        {
          "output_type": "stream",
          "name": "stderr",
          "text": [
            "100%|██████████| 33/33 [00:21<00:00,  1.55it/s]\n"
          ]
        },
        {
          "output_type": "stream",
          "name": "stdout",
          "text": [
            "Saved 33 papers published on 2022/11/23.\n",
            "Number of papers published on  2022/11/24': 25\n",
            "File name: 2022/11/2022_11_24.csv\n"
          ]
        },
        {
          "output_type": "stream",
          "name": "stderr",
          "text": [
            "100%|██████████| 25/25 [00:25<00:00,  1.00s/it]\n"
          ]
        },
        {
          "output_type": "stream",
          "name": "stdout",
          "text": [
            "Saved 25 papers published on 2022/11/24.\n",
            "Number of papers published on  2022/11/25': 28\n",
            "File name: 2022/11/2022_11_25.csv\n"
          ]
        },
        {
          "output_type": "stream",
          "name": "stderr",
          "text": [
            "100%|██████████| 28/28 [00:26<00:00,  1.07it/s]\n"
          ]
        },
        {
          "output_type": "stream",
          "name": "stdout",
          "text": [
            "Saved 28 papers published on 2022/11/25.\n",
            "Number of papers published on  2022/11/26': 15\n",
            "File name: 2022/11/2022_11_26.csv\n"
          ]
        },
        {
          "output_type": "stream",
          "name": "stderr",
          "text": [
            "100%|██████████| 15/15 [00:37<00:00,  2.49s/it]\n"
          ]
        },
        {
          "output_type": "stream",
          "name": "stdout",
          "text": [
            "Saved 15 papers published on 2022/11/26.\n",
            "Number of papers published on  2022/11/27': 8\n",
            "File name: 2022/11/2022_11_27.csv\n"
          ]
        },
        {
          "output_type": "stream",
          "name": "stderr",
          "text": [
            "100%|██████████| 8/8 [00:18<00:00,  2.32s/it]\n"
          ]
        },
        {
          "output_type": "stream",
          "name": "stdout",
          "text": [
            "Saved 8 papers published on 2022/11/27.\n",
            "Number of papers published on  2022/11/28': 35\n",
            "File name: 2022/11/2022_11_28.csv\n"
          ]
        },
        {
          "output_type": "stream",
          "name": "stderr",
          "text": [
            " 40%|████      | 14/35 [00:05<00:07,  2.75it/s]"
          ]
        }
      ]
    },
    {
      "cell_type": "code",
      "execution_count": null,
      "metadata": {
        "id": "V41Wcwm-SlAi"
      },
      "outputs": [],
      "source": [
        "# from pathlib import Path\n",
        "\n",
        "# year = \"2022\"\n",
        "# month = '04'\n",
        "# day = '01'\n",
        "\n",
        "# date = ymd2date(year, month, day)\n",
        "# file_name = Path(date2filename)\n",
        "# if file_name.is_file():\n",
        "#     df = pd.read_csv(file_name, header=None, names=['id', 'xml'])\n",
        "#     ids_done = df.id.to_list()\n",
        "#     ids = \n"
      ]
    }
  ],
  "metadata": {
    "kernelspec": {
      "display_name": "rl",
      "language": "python",
      "name": "python3"
    },
    "language_info": {
      "codemirror_mode": {
        "name": "ipython",
        "version": 3
      },
      "file_extension": ".py",
      "mimetype": "text/x-python",
      "name": "python",
      "nbconvert_exporter": "python",
      "pygments_lexer": "ipython3",
      "version": "3.10.6"
    },
    "orig_nbformat": 4,
    "colab": {
      "provenance": [],
      "include_colab_link": true
    }
  },
  "nbformat": 4,
  "nbformat_minor": 0
}