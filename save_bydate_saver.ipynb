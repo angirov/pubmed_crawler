{
  "cells": [
    {
      "cell_type": "markdown",
      "metadata": {
        "id": "view-in-github",
        "colab_type": "text"
      },
      "source": [
        "<a href=\"https://colab.research.google.com/github/angirov/pubmed_crawler/blob/main/save_bydate_saver.ipynb\" target=\"_parent\"><img src=\"https://colab.research.google.com/assets/colab-badge.svg\" alt=\"Open In Colab\"/></a>"
      ]
    },
    {
      "cell_type": "code",
      "source": [
        "!python3 --version\n",
        "!pip install Bio"
      ],
      "metadata": {
        "id": "wlPm4ht3Snae"
      },
      "execution_count": null,
      "outputs": []
    },
    {
      "cell_type": "code",
      "source": [
        "from google.colab import drive\n",
        "drive.mount('/drive')"
      ],
      "metadata": {
        "colab": {
          "base_uri": "https://localhost:8080/"
        },
        "id": "kbyN33DrTpNY",
        "outputId": "7e324081-17ea-4c91-f1b0-773dd1daa305"
      },
      "execution_count": 2,
      "outputs": [
        {
          "output_type": "stream",
          "name": "stdout",
          "text": [
            "Mounted at /drive\n"
          ]
        }
      ]
    },
    {
      "cell_type": "code",
      "source": [
        "import os\n",
        "\n",
        "dir = \"/drive/MyDrive/dsr/pubmed_data/\"\n",
        "os.chdir(dir)\n",
        "os.getcwd()"
      ],
      "metadata": {
        "colab": {
          "base_uri": "https://localhost:8080/",
          "height": 35
        },
        "id": "QpzgFsBKUyQ5",
        "outputId": "ea76ea10-c032-43bd-c98a-61ef806a5a04"
      },
      "execution_count": 3,
      "outputs": [
        {
          "output_type": "execute_result",
          "data": {
            "text/plain": [
              "'/drive/MyDrive/dsr/pubmed_data'"
            ],
            "application/vnd.google.colaboratory.intrinsic+json": {
              "type": "string"
            }
          },
          "metadata": {},
          "execution_count": 3
        }
      ]
    },
    {
      "cell_type": "code",
      "execution_count": 4,
      "metadata": {
        "id": "PvXoYTrlSlAe"
      },
      "outputs": [],
      "source": [
        "import os\n",
        "from tqdm import tqdm\n",
        "import pandas as pd\n",
        "from Bio import Entrez\n",
        "Entrez.email = \"example@example.com\"\n",
        "from urllib.error import HTTPError\n",
        "from pathlib import Path"
      ]
    },
    {
      "cell_type": "code",
      "execution_count": 5,
      "metadata": {
        "id": "aEsrjiIUSlAg"
      },
      "outputs": [],
      "source": [
        "def get_pmids_from_one_day(topic, date):\n",
        "    handle = Entrez.esearch(db=\"pubmed\", \n",
        "                            term= topic + \"[MeSH Terms]\", \n",
        "                            retmax=10000,\n",
        "                            datetype=\"pdat\", \n",
        "                            mindate=date, \n",
        "                            maxdate=date, )\n",
        "    record = Entrez.read(handle)\n",
        "    ids = record[\"IdList\"]\n",
        "    return ids\n",
        "\n",
        "\n",
        "class color:\n",
        "   PURPLE = '\\033[95m'\n",
        "   CYAN = '\\033[96m'\n",
        "   DARKCYAN = '\\033[36m'\n",
        "   BLUE = '\\033[94m'\n",
        "   GREEN = '\\033[92m'\n",
        "   YELLOW = '\\033[93m'\n",
        "   RED = '\\033[91m'\n",
        "   BOLD = '\\033[1m'\n",
        "   UNDERLINE = '\\033[4m'\n",
        "   END = '\\033[0m'\n",
        "# print(color.BOLD + 'Hello, World!' + color.END)\n",
        "\n",
        "\n",
        "def print_err(text):\n",
        "    err_text = color.BOLD + color.RED + text + color.END\n",
        "    print(err_text)\n",
        "    return err_text\n",
        "\n",
        "\n",
        "def get_pmids_from_period(topic, span):\n",
        "    handle = Entrez.esearch(db=\"pubmed\", \n",
        "                            term= topic + \"[MeSH Terms]\",\n",
        "                            retmax=1000,\n",
        "                            datetype=\"pdat\",\n",
        "                            mindate=span[0],\n",
        "                            maxdate=span[1], )\n",
        "    record = Entrez.read(handle)\n",
        "    ids = record[\"IdList\"]\n",
        "    return ids\n",
        "\n",
        "\n",
        "import time\n",
        "def get_xml(id):\n",
        "    attempt = 1\n",
        "    while attempt <= 5:\n",
        "        try:\n",
        "            handle = Entrez.efetch(db=\"pubmed\", \n",
        "                            id=id, \n",
        "                            retmode=\"xml\", \n",
        "                            rettype=\"abstract\")\n",
        "            xml = handle.read()\n",
        "            return xml\n",
        "        except HTTPError as err:\n",
        "            if 500 <= err.code <= 599:\n",
        "                print_err(f\">>>>> Attempt {attempt}: Received error from server {err}\")\n",
        "                attempt += 1\n",
        "                time.sleep(15)\n",
        "            else:\n",
        "                attempt += 1\n",
        "                time.sleep(15)\n",
        "    print_err(f\">>>>> Failed to download {id}. Error: {err}\")\n",
        "    return \"\"\n",
        "\n",
        "    # pp = pprint.PrettyPrinter(indent=4)\n",
        "    # pp.pprint(json.dumps(xmltodict.parse(xml)))\n",
        "\n",
        "\n",
        "def get_xmls_ids(ids):\n",
        "    pairs = []\n",
        "    for id in tqdm(ids):\n",
        "        xml = get_xml(id)\n",
        "        pairs += [(id, xml)]\n",
        "    return pairs\n",
        "\n",
        "\n",
        "def save_pair(csv_writer, id, xml):\n",
        "    row = id, xml\n",
        "    csv_writer.writerow(row)\n",
        "    # print(f\"Saved paper {id}.\")\n",
        "\n",
        "\n",
        "def save_xmls_ids(file_name, date, ids):\n",
        "    with open(file_name,'a+') as out:\n",
        "        csv_writer=csv.writer(out, dialect='unix')\n",
        "        for id in tqdm(ids):\n",
        "            xml = get_xml(id)\n",
        "            save_pair(csv_writer, id, xml)\n",
        "    print(f\"Saved {len(ids)} papers published on {date}.\")\n",
        "    return file_name\n",
        "\n",
        "\n",
        "import csv\n",
        "def save_span(span, list_of_pairs):\n",
        "    file_name = span[0].replace(\"/\", \"_\") + \"__\" + span[1].replace(\"/\", \"_\") + \".csv\"\n",
        "    with open(file_name,'a+') as out:\n",
        "        csv_out=csv.writer(out, dialect='unix')\n",
        "        # csv_out.writerow(['name','num'])\n",
        "        # for row in list_of_pairs:\n",
        "        #     csv_out.writerow(row)\n",
        "        csv_out.writerows(list_of_pairs)\n",
        "    return file_name\n",
        "\n",
        "\n",
        "def save_date(date, list_of_pairs):\n",
        "    file_name = date2filename(date)\n",
        "    with open(file_name,'a+') as out:\n",
        "        csv_out=csv.writer(out, dialect='unix')\n",
        "        # csv_out.writerow(['name','num'])\n",
        "        # for row in list_of_pairs:\n",
        "        #     csv_out.writerow(row)\n",
        "        csv_out.writerows(list_of_pairs)\n",
        "        # print(f\"Saved {len(list_of_pairs)} papers published on {date}.\")\n",
        "    return file_name\n",
        "\n",
        "\n",
        "def ymd2date(year, month, day):\n",
        "    return f'{year}/{month:02}/{day:02}'\n",
        "\n",
        "\n",
        "def date2ymd(date):\n",
        "    year, month, day = str.split(date, sep=\"/\")\n",
        "    return year, month, day\n",
        "\n",
        "\n",
        "def date2filename(dir, date):\n",
        "    year, month, _ = date2ymd(date)\n",
        "    filename = year + \"/\" + month + \"/\" + date.replace(\"/\", \"_\") + \".csv\"\n",
        "    print(f\"File name: {filename}\")\n",
        "    return filename\n"
      ]
    },
    {
      "cell_type": "code",
      "execution_count": null,
      "metadata": {
        "colab": {
          "base_uri": "https://localhost:8080/"
        },
        "id": "dY6K3vdVSlAh",
        "outputId": "3bd2dece-e903-4440-8842-34890b4ca6f8"
      },
      "outputs": [
        {
          "output_type": "stream",
          "name": "stdout",
          "text": [
            "Number of papers published on  2022/12/01': 826\n",
            "File name: 2022/12/2022_12_01.csv\n"
          ]
        },
        {
          "output_type": "stream",
          "name": "stderr",
          "text": [
            " 27%|██▋       | 220/826 [01:39<03:47,  2.66it/s]"
          ]
        }
      ],
      "source": [
        "year = 2022\n",
        "month = 12\n",
        "\n",
        "# for month in range(10, 13):\n",
        "\n",
        "for day in range(1, 32):\n",
        "    date = ymd2date(year, month, day)\n",
        "\n",
        "    ids = get_pmids_from_one_day(\"breast cancer\", date)\n",
        "    print(f\"Number of papers published on  {date}': {len(ids)}\")\n",
        "    if len(ids) == 0:\n",
        "        break\n",
        "\n",
        "    file_name = Path(date2filename(dir, date))\n",
        "    path = Path(dir + \"/\" + f\"{year}\" + \"/\" + f\"{month:02}\" + \"/\")\n",
        "    path.mkdir(parents=True, exist_ok=True)\n",
        "\n",
        "\n",
        "    if file_name.absolute().is_file():\n",
        "        print(f\"File {file_name} already exists.\")\n",
        "        df = pd.read_csv(file_name, header=None, names=['id', 'xml'])\n",
        "        ids_done = df.id.astype(int).astype(str).to_list()\n",
        "        ids = [id for id in ids if id not in ids_done]\n",
        "        print(f\"Number of papers already saved': {len(ids_done)}. To save: {len(ids)}\")\n",
        "\n",
        "    save_xmls_ids(file_name.absolute(), date, ids)\n"
      ]
    },
    {
      "cell_type": "code",
      "execution_count": null,
      "metadata": {
        "id": "V41Wcwm-SlAi"
      },
      "outputs": [],
      "source": [
        "# from pathlib import Path\n",
        "\n",
        "# year = \"2022\"\n",
        "# month = '04'\n",
        "# day = '01'\n",
        "\n",
        "# date = ymd2date(year, month, day)\n",
        "# file_name = Path(date2filename)\n",
        "# if file_name.is_file():\n",
        "#     df = pd.read_csv(file_name, header=None, names=['id', 'xml'])\n",
        "#     ids_done = df.id.to_list()\n",
        "#     ids = \n"
      ]
    }
  ],
  "metadata": {
    "kernelspec": {
      "display_name": "rl",
      "language": "python",
      "name": "python3"
    },
    "language_info": {
      "codemirror_mode": {
        "name": "ipython",
        "version": 3
      },
      "file_extension": ".py",
      "mimetype": "text/x-python",
      "name": "python",
      "nbconvert_exporter": "python",
      "pygments_lexer": "ipython3",
      "version": "3.10.6"
    },
    "orig_nbformat": 4,
    "colab": {
      "provenance": [],
      "include_colab_link": true
    }
  },
  "nbformat": 4,
  "nbformat_minor": 0
}