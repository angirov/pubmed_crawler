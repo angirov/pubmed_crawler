{
  "nbformat": 4,
  "nbformat_minor": 0,
  "metadata": {
    "colab": {
      "provenance": [],
      "authorship_tag": "ABX9TyPd3BLzr5+XS8KVMNEsTQeq",
      "include_colab_link": true
    },
    "kernelspec": {
      "name": "python3",
      "display_name": "Python 3"
    },
    "language_info": {
      "name": "python"
    }
  },
  "cells": [
    {
      "cell_type": "markdown",
      "metadata": {
        "id": "view-in-github",
        "colab_type": "text"
      },
      "source": [
        "<a href=\"https://colab.research.google.com/github/angirov/pubmed_crawler/blob/main/unpickle.ipynb\" target=\"_parent\"><img src=\"https://colab.research.google.com/assets/colab-badge.svg\" alt=\"Open In Colab\"/></a>"
      ]
    },
    {
      "cell_type": "code",
      "source": [
        "from google.colab import drive\n",
        "import os\n",
        "import pandas as pd\n",
        "\n",
        "drive.mount('/gdrive')"
      ],
      "metadata": {
        "id": "iklCqJn-5E4g",
        "outputId": "f605ea67-bdf2-4077-e731-535e442b4085",
        "colab": {
          "base_uri": "https://localhost:8080/"
        }
      },
      "execution_count": 2,
      "outputs": [
        {
          "output_type": "stream",
          "name": "stdout",
          "text": [
            "Drive already mounted at /gdrive; to attempt to forcibly remount, call drive.mount(\"/gdrive\", force_remount=True).\n"
          ]
        }
      ]
    },
    {
      "cell_type": "code",
      "source": [
        "proj_dir = \"/gdrive/MyDrive/dsr/pubmed_data\"\n",
        "os.chdir(proj_dir)\n",
        "os.getcwd()"
      ],
      "metadata": {
        "id": "S7WKUacAbt1U",
        "outputId": "82017d8b-7b80-404b-d258-a8399bdb4b39",
        "colab": {
          "base_uri": "https://localhost:8080/",
          "height": 35
        }
      },
      "execution_count": 3,
      "outputs": [
        {
          "output_type": "execute_result",
          "data": {
            "text/plain": [
              "'/gdrive/MyDrive/dsr/pubmed_data'"
            ],
            "application/vnd.google.colaboratory.intrinsic+json": {
              "type": "string"
            }
          },
          "metadata": {},
          "execution_count": 3
        }
      ]
    },
    {
      "cell_type": "code",
      "source": [
        "year = 2022\n",
        "pkl_name = os.path.join(proj_dir, str(year) + \"_all.pkl\")"
      ],
      "metadata": {
        "id": "tqoJx2Ka5RUI"
      },
      "execution_count": 4,
      "outputs": []
    },
    {
      "cell_type": "code",
      "execution_count": 5,
      "metadata": {
        "id": "OSGaJxzE4mIj",
        "outputId": "ee17525a-f180-4e58-ff43-b07cf251eb25",
        "colab": {
          "base_uri": "https://localhost:8080/",
          "height": 424
        }
      },
      "outputs": [
        {
          "output_type": "execute_result",
          "data": {
            "text/plain": [
              "             id       date                                              title  \\\n",
              "0      36942145 2022-01-01  BRCA1 gene polymorphism and finger dermatoglyp...   \n",
              "1      36942131 2022-01-01  [Idiopathic granulomatous mastitis associated ...   \n",
              "2      36908807 2022-01-01  Ninety-six-hour starved peripheral blood monon...   \n",
              "3      36743185 2022-01-01  Artificial intelligence breast ultrasound and ...   \n",
              "4      36734872 2022-01-01  Dopamine Receptors in Breast Cancer: Prevalenc...   \n",
              "...         ...        ...                                                ...   \n",
              "20846  36379285 2022-12-31  A new chitosan-based thermosensitive nanoplatf...   \n",
              "20847  36375253 2022-12-31  Integrative analysis of differentially express...   \n",
              "20848  36332175 2022-12-31  Prolylcarboxypeptidase promotes IGF1R/HER3 sig...   \n",
              "20849  36329030 2022-12-31  LncRNA DUXAP8 induces breast cancer radioresis...   \n",
              "20850  35389825 2022-12-31  Epigenetic drugs induce the potency of classic...   \n",
              "\n",
              "                                                 authors  \\\n",
              "0      [Nkansah Emmanuel Osei, Ahenkorah John, Adutwu...   \n",
              "1      [Conte Alpha Boubacar, Alaoui Fatima Zohra Fdi...   \n",
              "2      [Mehri Maryam, Gheitasi Reza, Pourbagher Rogha...   \n",
              "3      [Huang Xiaoxi, Qiu Youhui, Bao Fangfang, Wang ...   \n",
              "4      [Ben-Jonathan Nira, Borcherding Dana C, Hugo E...   \n",
              "...                                                  ...   \n",
              "20846  [Zhang Yanyan, Williams Gareth R, Lou Jiadong,...   \n",
              "20847  [Wang Li-Bin, Zhao Ju-Fen, Cao Jia, Tao Xiang,...   \n",
              "20848  [Duan Lei, Calhoun Sarah J, Perez Ricardo E, M...   \n",
              "20849  [Lei Changjiang, Li Shaoting, Fan Ying, Hua Li...   \n",
              "20850  [Zheng Andrew, Bilbao Michelle, Sookram Janhvi...   \n",
              "\n",
              "                                                keywords  \\\n",
              "0      [BRCA1 gene, Breast cancer, finger dermatoglyp...   \n",
              "1      [Idiopathic granulomatous mastitis, case repor...   \n",
              "2      [LA7, adaptive immunity, breast cancer stem ce...   \n",
              "3      [agreement, artificial intelligence, breast ca...   \n",
              "4                                                     []   \n",
              "...                                                  ...   \n",
              "20846  [Chitosan, Photothermal therapy, Thermosensiti...   \n",
              "20847  [Breast cancer, Integrative analysis, PGC-1β, ...   \n",
              "20848  [HER3, IGF1R, PRCP, endocrine therapy, prognosis]   \n",
              "20849  [AKT, EZH2, LncRNA DUXAP8, breast cancer, radi...   \n",
              "20850  [Triple negative breast cancer, adipose-derive...   \n",
              "\n",
              "                                                abstract  \n",
              "0      breast cancer development is linked to mutant ...  \n",
              "1      Idiopathic granulomatous mastitis (IMD) is a c...  \n",
              "2      The microenvironment of solid tumors such as b...  \n",
              "3      Artificial intelligence breast ultrasound diag...  \n",
              "4      Breast cancer (BC) is the most common malignan...  \n",
              "...                                                  ...  \n",
              "20846  Targeting the delivery of anti-cancer drugs to...  \n",
              "20847  Breast cancer is one of the most frequent mali...  \n",
              "20848  Prolylcarboxypeptidase (PRCP) is a lysosomal s...  \n",
              "20849  Radiation resistance poses a major clinical ch...  \n",
              "20850  Epigenetic therapy augments neoadjuvant chemot...  \n",
              "\n",
              "[20851 rows x 6 columns]"
            ],
            "text/html": [
              "\n",
              "  <div id=\"df-a88fff77-ad25-4afd-8fbf-2774c7772cf1\">\n",
              "    <div class=\"colab-df-container\">\n",
              "      <div>\n",
              "<style scoped>\n",
              "    .dataframe tbody tr th:only-of-type {\n",
              "        vertical-align: middle;\n",
              "    }\n",
              "\n",
              "    .dataframe tbody tr th {\n",
              "        vertical-align: top;\n",
              "    }\n",
              "\n",
              "    .dataframe thead th {\n",
              "        text-align: right;\n",
              "    }\n",
              "</style>\n",
              "<table border=\"1\" class=\"dataframe\">\n",
              "  <thead>\n",
              "    <tr style=\"text-align: right;\">\n",
              "      <th></th>\n",
              "      <th>id</th>\n",
              "      <th>date</th>\n",
              "      <th>title</th>\n",
              "      <th>authors</th>\n",
              "      <th>keywords</th>\n",
              "      <th>abstract</th>\n",
              "    </tr>\n",
              "  </thead>\n",
              "  <tbody>\n",
              "    <tr>\n",
              "      <th>0</th>\n",
              "      <td>36942145</td>\n",
              "      <td>2022-01-01</td>\n",
              "      <td>BRCA1 gene polymorphism and finger dermatoglyp...</td>\n",
              "      <td>[Nkansah Emmanuel Osei, Ahenkorah John, Adutwu...</td>\n",
              "      <td>[BRCA1 gene, Breast cancer, finger dermatoglyp...</td>\n",
              "      <td>breast cancer development is linked to mutant ...</td>\n",
              "    </tr>\n",
              "    <tr>\n",
              "      <th>1</th>\n",
              "      <td>36942131</td>\n",
              "      <td>2022-01-01</td>\n",
              "      <td>[Idiopathic granulomatous mastitis associated ...</td>\n",
              "      <td>[Conte Alpha Boubacar, Alaoui Fatima Zohra Fdi...</td>\n",
              "      <td>[Idiopathic granulomatous mastitis, case repor...</td>\n",
              "      <td>Idiopathic granulomatous mastitis (IMD) is a c...</td>\n",
              "    </tr>\n",
              "    <tr>\n",
              "      <th>2</th>\n",
              "      <td>36908807</td>\n",
              "      <td>2022-01-01</td>\n",
              "      <td>Ninety-six-hour starved peripheral blood monon...</td>\n",
              "      <td>[Mehri Maryam, Gheitasi Reza, Pourbagher Rogha...</td>\n",
              "      <td>[LA7, adaptive immunity, breast cancer stem ce...</td>\n",
              "      <td>The microenvironment of solid tumors such as b...</td>\n",
              "    </tr>\n",
              "    <tr>\n",
              "      <th>3</th>\n",
              "      <td>36743185</td>\n",
              "      <td>2022-01-01</td>\n",
              "      <td>Artificial intelligence breast ultrasound and ...</td>\n",
              "      <td>[Huang Xiaoxi, Qiu Youhui, Bao Fangfang, Wang ...</td>\n",
              "      <td>[agreement, artificial intelligence, breast ca...</td>\n",
              "      <td>Artificial intelligence breast ultrasound diag...</td>\n",
              "    </tr>\n",
              "    <tr>\n",
              "      <th>4</th>\n",
              "      <td>36734872</td>\n",
              "      <td>2022-01-01</td>\n",
              "      <td>Dopamine Receptors in Breast Cancer: Prevalenc...</td>\n",
              "      <td>[Ben-Jonathan Nira, Borcherding Dana C, Hugo E...</td>\n",
              "      <td>[]</td>\n",
              "      <td>Breast cancer (BC) is the most common malignan...</td>\n",
              "    </tr>\n",
              "    <tr>\n",
              "      <th>...</th>\n",
              "      <td>...</td>\n",
              "      <td>...</td>\n",
              "      <td>...</td>\n",
              "      <td>...</td>\n",
              "      <td>...</td>\n",
              "      <td>...</td>\n",
              "    </tr>\n",
              "    <tr>\n",
              "      <th>20846</th>\n",
              "      <td>36379285</td>\n",
              "      <td>2022-12-31</td>\n",
              "      <td>A new chitosan-based thermosensitive nanoplatf...</td>\n",
              "      <td>[Zhang Yanyan, Williams Gareth R, Lou Jiadong,...</td>\n",
              "      <td>[Chitosan, Photothermal therapy, Thermosensiti...</td>\n",
              "      <td>Targeting the delivery of anti-cancer drugs to...</td>\n",
              "    </tr>\n",
              "    <tr>\n",
              "      <th>20847</th>\n",
              "      <td>36375253</td>\n",
              "      <td>2022-12-31</td>\n",
              "      <td>Integrative analysis of differentially express...</td>\n",
              "      <td>[Wang Li-Bin, Zhao Ju-Fen, Cao Jia, Tao Xiang,...</td>\n",
              "      <td>[Breast cancer, Integrative analysis, PGC-1β, ...</td>\n",
              "      <td>Breast cancer is one of the most frequent mali...</td>\n",
              "    </tr>\n",
              "    <tr>\n",
              "      <th>20848</th>\n",
              "      <td>36332175</td>\n",
              "      <td>2022-12-31</td>\n",
              "      <td>Prolylcarboxypeptidase promotes IGF1R/HER3 sig...</td>\n",
              "      <td>[Duan Lei, Calhoun Sarah J, Perez Ricardo E, M...</td>\n",
              "      <td>[HER3, IGF1R, PRCP, endocrine therapy, prognosis]</td>\n",
              "      <td>Prolylcarboxypeptidase (PRCP) is a lysosomal s...</td>\n",
              "    </tr>\n",
              "    <tr>\n",
              "      <th>20849</th>\n",
              "      <td>36329030</td>\n",
              "      <td>2022-12-31</td>\n",
              "      <td>LncRNA DUXAP8 induces breast cancer radioresis...</td>\n",
              "      <td>[Lei Changjiang, Li Shaoting, Fan Ying, Hua Li...</td>\n",
              "      <td>[AKT, EZH2, LncRNA DUXAP8, breast cancer, radi...</td>\n",
              "      <td>Radiation resistance poses a major clinical ch...</td>\n",
              "    </tr>\n",
              "    <tr>\n",
              "      <th>20850</th>\n",
              "      <td>35389825</td>\n",
              "      <td>2022-12-31</td>\n",
              "      <td>Epigenetic drugs induce the potency of classic...</td>\n",
              "      <td>[Zheng Andrew, Bilbao Michelle, Sookram Janhvi...</td>\n",
              "      <td>[Triple negative breast cancer, adipose-derive...</td>\n",
              "      <td>Epigenetic therapy augments neoadjuvant chemot...</td>\n",
              "    </tr>\n",
              "  </tbody>\n",
              "</table>\n",
              "<p>20851 rows × 6 columns</p>\n",
              "</div>\n",
              "      <button class=\"colab-df-convert\" onclick=\"convertToInteractive('df-a88fff77-ad25-4afd-8fbf-2774c7772cf1')\"\n",
              "              title=\"Convert this dataframe to an interactive table.\"\n",
              "              style=\"display:none;\">\n",
              "        \n",
              "  <svg xmlns=\"http://www.w3.org/2000/svg\" height=\"24px\"viewBox=\"0 0 24 24\"\n",
              "       width=\"24px\">\n",
              "    <path d=\"M0 0h24v24H0V0z\" fill=\"none\"/>\n",
              "    <path d=\"M18.56 5.44l.94 2.06.94-2.06 2.06-.94-2.06-.94-.94-2.06-.94 2.06-2.06.94zm-11 1L8.5 8.5l.94-2.06 2.06-.94-2.06-.94L8.5 2.5l-.94 2.06-2.06.94zm10 10l.94 2.06.94-2.06 2.06-.94-2.06-.94-.94-2.06-.94 2.06-2.06.94z\"/><path d=\"M17.41 7.96l-1.37-1.37c-.4-.4-.92-.59-1.43-.59-.52 0-1.04.2-1.43.59L10.3 9.45l-7.72 7.72c-.78.78-.78 2.05 0 2.83L4 21.41c.39.39.9.59 1.41.59.51 0 1.02-.2 1.41-.59l7.78-7.78 2.81-2.81c.8-.78.8-2.07 0-2.86zM5.41 20L4 18.59l7.72-7.72 1.47 1.35L5.41 20z\"/>\n",
              "  </svg>\n",
              "      </button>\n",
              "      \n",
              "  <style>\n",
              "    .colab-df-container {\n",
              "      display:flex;\n",
              "      flex-wrap:wrap;\n",
              "      gap: 12px;\n",
              "    }\n",
              "\n",
              "    .colab-df-convert {\n",
              "      background-color: #E8F0FE;\n",
              "      border: none;\n",
              "      border-radius: 50%;\n",
              "      cursor: pointer;\n",
              "      display: none;\n",
              "      fill: #1967D2;\n",
              "      height: 32px;\n",
              "      padding: 0 0 0 0;\n",
              "      width: 32px;\n",
              "    }\n",
              "\n",
              "    .colab-df-convert:hover {\n",
              "      background-color: #E2EBFA;\n",
              "      box-shadow: 0px 1px 2px rgba(60, 64, 67, 0.3), 0px 1px 3px 1px rgba(60, 64, 67, 0.15);\n",
              "      fill: #174EA6;\n",
              "    }\n",
              "\n",
              "    [theme=dark] .colab-df-convert {\n",
              "      background-color: #3B4455;\n",
              "      fill: #D2E3FC;\n",
              "    }\n",
              "\n",
              "    [theme=dark] .colab-df-convert:hover {\n",
              "      background-color: #434B5C;\n",
              "      box-shadow: 0px 1px 3px 1px rgba(0, 0, 0, 0.15);\n",
              "      filter: drop-shadow(0px 1px 2px rgba(0, 0, 0, 0.3));\n",
              "      fill: #FFFFFF;\n",
              "    }\n",
              "  </style>\n",
              "\n",
              "      <script>\n",
              "        const buttonEl =\n",
              "          document.querySelector('#df-a88fff77-ad25-4afd-8fbf-2774c7772cf1 button.colab-df-convert');\n",
              "        buttonEl.style.display =\n",
              "          google.colab.kernel.accessAllowed ? 'block' : 'none';\n",
              "\n",
              "        async function convertToInteractive(key) {\n",
              "          const element = document.querySelector('#df-a88fff77-ad25-4afd-8fbf-2774c7772cf1');\n",
              "          const dataTable =\n",
              "            await google.colab.kernel.invokeFunction('convertToInteractive',\n",
              "                                                     [key], {});\n",
              "          if (!dataTable) return;\n",
              "\n",
              "          const docLinkHtml = 'Like what you see? Visit the ' +\n",
              "            '<a target=\"_blank\" href=https://colab.research.google.com/notebooks/data_table.ipynb>data table notebook</a>'\n",
              "            + ' to learn more about interactive tables.';\n",
              "          element.innerHTML = '';\n",
              "          dataTable['output_type'] = 'display_data';\n",
              "          await google.colab.output.renderOutput(dataTable, element);\n",
              "          const docLink = document.createElement('div');\n",
              "          docLink.innerHTML = docLinkHtml;\n",
              "          element.appendChild(docLink);\n",
              "        }\n",
              "      </script>\n",
              "    </div>\n",
              "  </div>\n",
              "  "
            ]
          },
          "metadata": {},
          "execution_count": 5
        }
      ],
      "source": [
        "df = pd.read_pickle(pkl_name)\n",
        "df"
      ]
    },
    {
      "cell_type": "code",
      "source": [
        "def is_str_lst(lst):\n",
        "  return isinstance(lst, list) and all(isinstance(elem, str) for elem in lst)\n",
        "  \n",
        "print(df['title'][df['title'].notnull()].apply(lambda x: isinstance(x, str)).mean())\n",
        "print(df['authors'][df['authors'].notnull()].apply(is_str_lst).mean())\n",
        "print(df['keywords'][df['keywords'].notnull()].apply(is_str_lst).mean())"
      ],
      "metadata": {
        "id": "81SvArUm5gtf"
      },
      "execution_count": null,
      "outputs": []
    }
  ]
}