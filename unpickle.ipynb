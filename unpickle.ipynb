{
  "nbformat": 4,
  "nbformat_minor": 0,
  "metadata": {
    "colab": {
      "provenance": [],
      "authorship_tag": "ABX9TyPzrrMWacec9+UeoPcfdXfv",
      "include_colab_link": true
    },
    "kernelspec": {
      "name": "python3",
      "display_name": "Python 3"
    },
    "language_info": {
      "name": "python"
    }
  },
  "cells": [
    {
      "cell_type": "markdown",
      "metadata": {
        "id": "view-in-github",
        "colab_type": "text"
      },
      "source": [
        "<a href=\"https://colab.research.google.com/github/angirov/pubmed_crawler/blob/main/unpickle.ipynb\" target=\"_parent\"><img src=\"https://colab.research.google.com/assets/colab-badge.svg\" alt=\"Open In Colab\"/></a>"
      ]
    },
    {
      "cell_type": "code",
      "source": [
        "from google.colab import drive\n",
        "import os\n",
        "import pandas as pd\n",
        "\n",
        "drive.mount('/gdrive')\n",
        "proj_dir = \"/gdrive/MyDrive/dsr/pubmed_data\"\n",
        "os.chdir(proj_dir)\n",
        "os.getcwd()"
      ],
      "metadata": {
        "id": "iklCqJn-5E4g"
      },
      "execution_count": null,
      "outputs": []
    },
    {
      "cell_type": "code",
      "source": [
        "year = 2022\n",
        "pkl_name = os.path.join(proj_dir, str(year) + \"_all.pkl\")"
      ],
      "metadata": {
        "id": "tqoJx2Ka5RUI"
      },
      "execution_count": 12,
      "outputs": []
    },
    {
      "cell_type": "code",
      "execution_count": null,
      "metadata": {
        "id": "OSGaJxzE4mIj"
      },
      "outputs": [],
      "source": [
        "df = pd.read_pickle(pkl_name)\n",
        "df"
      ]
    },
    {
      "cell_type": "code",
      "source": [
        "def is_str_lst(lst):\n",
        "  return isinstance(lst, list) and all(isinstance(elem, str) for elem in lst)\n",
        "  \n",
        "print(df['title'][df['title'].notnull()].apply(lambda x: isinstance(x, str)).mean())\n",
        "print(df['authors'][df['authors'].notnull()].apply(is_str_lst).mean())\n",
        "print(df['keywords'][df['keywords'].notnull()].apply(is_str_lst).mean())"
      ],
      "metadata": {
        "id": "81SvArUm5gtf"
      },
      "execution_count": null,
      "outputs": []
    }
  ]
}