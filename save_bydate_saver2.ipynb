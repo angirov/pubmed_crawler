{
  "cells": [
    {
      "cell_type": "markdown",
      "metadata": {
        "id": "view-in-github",
        "colab_type": "text"
      },
      "source": [
        "<a href=\"https://colab.research.google.com/github/angirov/pubmed_crawler/blob/main/save_bydate_saver2.ipynb\" target=\"_parent\"><img src=\"https://colab.research.google.com/assets/colab-badge.svg\" alt=\"Open In Colab\"/></a>"
      ]
    },
    {
      "cell_type": "code",
      "source": [
        "!python3 --version\n",
        "!pip install Bio"
      ],
      "metadata": {
        "id": "wlPm4ht3Snae"
      },
      "execution_count": null,
      "outputs": []
    },
    {
      "cell_type": "code",
      "source": [
        "from google.colab import drive\n",
        "drive.mount('/gdrive')"
      ],
      "metadata": {
        "id": "uj5wt1vDocYV",
        "outputId": "2f3de47d-0736-40d6-a689-fa14c9fb4f62",
        "colab": {
          "base_uri": "https://localhost:8080/"
        }
      },
      "execution_count": 1,
      "outputs": [
        {
          "output_type": "stream",
          "name": "stdout",
          "text": [
            "Mounted at /gdrive\n"
          ]
        }
      ]
    },
    {
      "cell_type": "code",
      "source": [
        "import os\n",
        "\n",
        "dir = \"/gdrive/MyDrive/dsr/pubmed_data/\"\n",
        "os.chdir(dir)\n",
        "os.getcwd()"
      ],
      "metadata": {
        "colab": {
          "base_uri": "https://localhost:8080/",
          "height": 35
        },
        "id": "QpzgFsBKUyQ5",
        "outputId": "94bf6ff1-363f-4b41-d90c-21bf21756e56"
      },
      "execution_count": 3,
      "outputs": [
        {
          "output_type": "execute_result",
          "data": {
            "text/plain": [
              "'/gdrive/MyDrive/dsr/pubmed_data'"
            ],
            "application/vnd.google.colaboratory.intrinsic+json": {
              "type": "string"
            }
          },
          "metadata": {},
          "execution_count": 3
        }
      ]
    },
    {
      "cell_type": "code",
      "execution_count": null,
      "metadata": {
        "id": "PvXoYTrlSlAe"
      },
      "outputs": [],
      "source": [
        "import os\n",
        "from tqdm import tqdm\n",
        "import pandas as pd\n",
        "from Bio import Entrez\n",
        "Entrez.email = \"example@example.com\"\n",
        "from urllib.error import HTTPError\n",
        "from pathlib import Path"
      ]
    },
    {
      "cell_type": "code",
      "execution_count": null,
      "metadata": {
        "id": "aEsrjiIUSlAg"
      },
      "outputs": [],
      "source": [
        "def get_pmids_from_one_day(topic, date):\n",
        "    handle = Entrez.esearch(db=\"pubmed\", \n",
        "                            term= topic + \"[MeSH Terms]\", \n",
        "                            retmax=10000,\n",
        "                            datetype=\"pdat\", \n",
        "                            mindate=date, \n",
        "                            maxdate=date, )\n",
        "    record = Entrez.read(handle)\n",
        "    ids = record[\"IdList\"]\n",
        "    return ids\n",
        "\n",
        "\n",
        "class color:\n",
        "   PURPLE = '\\033[95m'\n",
        "   CYAN = '\\033[96m'\n",
        "   DARKCYAN = '\\033[36m'\n",
        "   BLUE = '\\033[94m'\n",
        "   GREEN = '\\033[92m'\n",
        "   YELLOW = '\\033[93m'\n",
        "   RED = '\\033[91m'\n",
        "   BOLD = '\\033[1m'\n",
        "   UNDERLINE = '\\033[4m'\n",
        "   END = '\\033[0m'\n",
        "# print(color.BOLD + 'Hello, World!' + color.END)\n",
        "\n",
        "\n",
        "def print_err(text):\n",
        "    err_text = color.BOLD + color.RED + text + color.END\n",
        "    print(err_text)\n",
        "    return err_text\n",
        "\n",
        "\n",
        "def get_pmids_from_period(topic, span):\n",
        "    handle = Entrez.esearch(db=\"pubmed\", \n",
        "                            term= topic + \"[MeSH Terms]\",\n",
        "                            retmax=1000,\n",
        "                            datetype=\"pdat\",\n",
        "                            mindate=span[0],\n",
        "                            maxdate=span[1], )\n",
        "    record = Entrez.read(handle)\n",
        "    ids = record[\"IdList\"]\n",
        "    return ids\n",
        "\n",
        "\n",
        "import time\n",
        "def get_xml(id):\n",
        "    attempt = 1\n",
        "    while attempt <= 5:\n",
        "        try:\n",
        "            handle = Entrez.efetch(db=\"pubmed\", \n",
        "                            id=id, \n",
        "                            retmode=\"xml\", \n",
        "                            rettype=\"abstract\")\n",
        "            xml = handle.read()\n",
        "            return xml\n",
        "        except HTTPError as err:\n",
        "            if 500 <= err.code <= 599:\n",
        "                print_err(f\">>>>> Attempt {attempt}: Received error from server {err}\")\n",
        "                attempt += 1\n",
        "                time.sleep(15)\n",
        "            else:\n",
        "                attempt += 1\n",
        "                time.sleep(15)\n",
        "    print_err(f\">>>>> Failed to download {id}. Error: {err}\")\n",
        "    return \"\"\n",
        "\n",
        "    # pp = pprint.PrettyPrinter(indent=4)\n",
        "    # pp.pprint(json.dumps(xmltodict.parse(xml)))\n",
        "\n",
        "\n",
        "def get_xmls_ids(ids):\n",
        "    pairs = []\n",
        "    for id in tqdm(ids):\n",
        "        xml = get_xml(id)\n",
        "        pairs += [(id, xml)]\n",
        "    return pairs\n",
        "\n",
        "\n",
        "def save_pair(csv_writer, id, xml):\n",
        "    row = id, xml\n",
        "    csv_writer.writerow(row)\n",
        "    # print(f\"Saved paper {id}.\")\n",
        "\n",
        "\n",
        "def save_xmls_ids(file_name, date, ids):\n",
        "    with open(file_name,'a+') as out:\n",
        "        csv_writer=csv.writer(out, dialect='unix')\n",
        "        for id in tqdm(ids):\n",
        "            xml = get_xml(id)\n",
        "            save_pair(csv_writer, id, xml)\n",
        "    print(f\"Saved {len(ids)} papers published on {date}.\")\n",
        "    return file_name\n",
        "\n",
        "\n",
        "import csv\n",
        "def save_span(span, list_of_pairs):\n",
        "    file_name = span[0].replace(\"/\", \"_\") + \"__\" + span[1].replace(\"/\", \"_\") + \".csv\"\n",
        "    with open(file_name,'a+') as out:\n",
        "        csv_out=csv.writer(out, dialect='unix')\n",
        "        # csv_out.writerow(['name','num'])\n",
        "        # for row in list_of_pairs:\n",
        "        #     csv_out.writerow(row)\n",
        "        csv_out.writerows(list_of_pairs)\n",
        "    return file_name\n",
        "\n",
        "\n",
        "def save_date(date, list_of_pairs):\n",
        "    file_name = date2filename(date)\n",
        "    with open(file_name,'a+') as out:\n",
        "        csv_out=csv.writer(out, dialect='unix')\n",
        "        # csv_out.writerow(['name','num'])\n",
        "        # for row in list_of_pairs:\n",
        "        #     csv_out.writerow(row)\n",
        "        csv_out.writerows(list_of_pairs)\n",
        "        # print(f\"Saved {len(list_of_pairs)} papers published on {date}.\")\n",
        "    return file_name\n",
        "\n",
        "\n",
        "def ymd2date(year, month, day):\n",
        "    return f'{year}/{month:02}/{day:02}'\n",
        "\n",
        "\n",
        "def date2ymd(date):\n",
        "    year, month, day = str.split(date, sep=\"/\")\n",
        "    return year, month, day\n",
        "\n",
        "\n",
        "def date2filename(dir, date):\n",
        "    year, month, _ = date2ymd(date)\n",
        "    filename = year + \"/\" + month + \"/\" + date.replace(\"/\", \"_\") + \".csv\"\n",
        "    print(f\"File name: {filename}\")\n",
        "    return filename\n"
      ]
    },
    {
      "cell_type": "code",
      "execution_count": null,
      "metadata": {
        "colab": {
          "base_uri": "https://localhost:8080/"
        },
        "id": "dY6K3vdVSlAh",
        "outputId": "3bd2dece-e903-4440-8842-34890b4ca6f8"
      },
      "outputs": [
        {
          "output_type": "stream",
          "name": "stdout",
          "text": [
            "Number of papers published on  2022/12/01': 826\n",
            "File name: 2022/12/2022_12_01.csv\n"
          ]
        },
        {
          "output_type": "stream",
          "name": "stderr",
          "text": [
            " 27%|██▋       | 220/826 [01:39<03:47,  2.66it/s]"
          ]
        }
      ],
      "source": [
        "year = 2022\n",
        "month = 12\n",
        "\n",
        "# for month in range(10, 13):\n",
        "\n",
        "for day in range(1, 32):\n",
        "    date = ymd2date(year, month, day)\n",
        "\n",
        "    ids = get_pmids_from_one_day(\"breast cancer\", date)\n",
        "    print(f\"Number of papers published on  {date}': {len(ids)}\")\n",
        "    if len(ids) == 0:\n",
        "        break\n",
        "\n",
        "    file_name = Path(date2filename(dir, date))\n",
        "    path = Path(dir + \"/\" + f\"{year}\" + \"/\" + f\"{month:02}\" + \"/\")\n",
        "    path.mkdir(parents=True, exist_ok=True)\n",
        "\n",
        "\n",
        "    if file_name.absolute().is_file():\n",
        "        print(f\"File {file_name} already exists.\")\n",
        "        df = pd.read_csv(file_name, header=None, names=['id', 'xml'])\n",
        "        ids_done = df.id.astype(int).astype(str).to_list()\n",
        "        ids = [id for id in ids if id not in ids_done]\n",
        "        print(f\"Number of papers already saved': {len(ids_done)}. To save: {len(ids)}\")\n",
        "\n",
        "    save_xmls_ids(file_name.absolute(), date, ids)\n"
      ]
    },
    {
      "cell_type": "code",
      "execution_count": null,
      "metadata": {
        "id": "V41Wcwm-SlAi"
      },
      "outputs": [],
      "source": [
        "# from pathlib import Path\n",
        "\n",
        "# year = \"2022\"\n",
        "# month = '04'\n",
        "# day = '01'\n",
        "\n",
        "# date = ymd2date(year, month, day)\n",
        "# file_name = Path(date2filename)\n",
        "# if file_name.is_file():\n",
        "#     df = pd.read_csv(file_name, header=None, names=['id', 'xml'])\n",
        "#     ids_done = df.id.to_list()\n",
        "#     ids = \n"
      ]
    },
    {
      "cell_type": "code",
      "source": [
        "file_name = \"/gdrive/MyDrive/dsr/pubmed_data/2021/12/2021_12_01.csv\"\n",
        "df = pd.read_csv(file_name, header=None, names=['id', 'xml'])"
      ],
      "metadata": {
        "id": "X7v30ttuo__d"
      },
      "execution_count": 6,
      "outputs": []
    },
    {
      "cell_type": "code",
      "source": [
        "! pip install xmltodict\n",
        "import xmltodict"
      ],
      "metadata": {
        "id": "Z_SKlbDopfVl"
      },
      "execution_count": null,
      "outputs": []
    },
    {
      "cell_type": "code",
      "source": [
        "def get_authors(dict):\n",
        "  return [el['LastName'] + \" \" + el['ForeName'] for el in dict['PubmedArticleSet']['PubmedArticle']['MedlineCitation']['Article']['AuthorList']['Author']]\n",
        "\n",
        "get_authors(dict)"
      ],
      "metadata": {
        "id": "M5i78Ipfy70y",
        "outputId": "740dbf4e-c140-4f55-863e-2a0abe8805d3",
        "colab": {
          "base_uri": "https://localhost:8080/"
        }
      },
      "execution_count": 61,
      "outputs": [
        {
          "output_type": "execute_result",
          "data": {
            "text/plain": [
              "['Punda Marija',\n",
              " 'Petranović Ovčariček Petra',\n",
              " 'Tabain Anita',\n",
              " 'Koopmans Klaas Pieter',\n",
              " 'Alfier Gabriela',\n",
              " 'Jukić Tomislav',\n",
              " 'Fröbe Ana']"
            ]
          },
          "metadata": {},
          "execution_count": 61
        }
      ]
    },
    {
      "cell_type": "code",
      "source": [
        "def get_title(dict):\n",
        "  return dict['PubmedArticleSet']['PubmedArticle']['MedlineCitation']['Article']['ArticleTitle']\n",
        "\n",
        "get_title(dict)"
      ],
      "metadata": {
        "id": "aaWpzQR4zWzd",
        "outputId": "c9cb505c-ff49-4211-8726-41d60716cdcc",
        "colab": {
          "base_uri": "https://localhost:8080/",
          "height": 35
        }
      },
      "execution_count": 64,
      "outputs": [
        {
          "output_type": "execute_result",
          "data": {
            "text/plain": [
              "'PRIMARY HYPERPARATHYROIDISM AND SERUM CALCIUM IN BREAST CANCER PATIENTS EVALUATED FOR LOW BONE MASS - A SINGLE CENTER EXPERIENCE.'"
            ],
            "application/vnd.google.colaboratory.intrinsic+json": {
              "type": "string"
            }
          },
          "metadata": {},
          "execution_count": 64
        }
      ]
    },
    {
      "cell_type": "code",
      "source": [
        "from pathlib import Path\n",
        "from datetime import datetime\n",
        "\n",
        "def get_date(file_name, dict):\n",
        "  path = Path(file_name)\n",
        "  datetime_object = datetime.strptime(path.stem, '%Y_%m_%d')\n",
        "  return datetime_object\n",
        "\n",
        "str(get_date(file_name, dict))"
      ],
      "metadata": {
        "id": "pNGYpTwJ1DJr",
        "outputId": "7ca0d098-7512-4d00-e814-7131c5a15125",
        "colab": {
          "base_uri": "https://localhost:8080/",
          "height": 35
        }
      },
      "execution_count": 79,
      "outputs": [
        {
          "output_type": "execute_result",
          "data": {
            "text/plain": [
              "'2021-12-01 00:00:00'"
            ],
            "application/vnd.google.colaboratory.intrinsic+json": {
              "type": "string"
            }
          },
          "metadata": {},
          "execution_count": 79
        }
      ]
    },
    {
      "cell_type": "code",
      "source": [
        "def get_abstract(dict):\n",
        "  return dict['PubmedArticleSet']['PubmedArticle']['MedlineCitation']['Article']['Abstract']['AbstractText']\n",
        "\n",
        "get_abstract(dict)\n"
      ],
      "metadata": {
        "id": "X7-qhYHosFs1",
        "outputId": "b1bf4acd-3f7a-464b-d590-b42def24f393",
        "colab": {
          "base_uri": "https://localhost:8080/",
          "height": 140
        }
      },
      "execution_count": 65,
      "outputs": [
        {
          "output_type": "execute_result",
          "data": {
            "text/plain": [
              "'The bone health guidelines for breast cancer (BC) patients recommend bone mineral density (BMD) testing. Patients with low BMD and elevated serum calcium levels (SCLs) are further evaluated for primary hyperparathyroidism (PHPT). We aimed to determine the prevalence of PHPT in treated BC patients with low BMD and analyze the association of SCLs with histopathologic tumor features and cancer treatment. This retrospective study included postmenopausal BC patients examined at Osteoporosis Clinic between 2013 and 2020. Clinical and BMD data were collected from patient medical records. Patients with biochemical suspicion of PHPT underwent standard parathyroid imaging procedures. Nine out of 137 (6.6%) patients were diagnosed with PHPT; 8/9 patients underwent parathyroidectomy and one patient was advised to follow-up. Among the rest of 128 non-PHPT patients, higher SCLs showed a trend of positive association with higher tumor grade and axillary lymph node involvement, and received immunotherapy, although without statistical significance. We found a higher prevalence of PHPT in treated BC patients compared to the general population. Higher SCLs show a trend of positive correlation with some more aggressive histopathologic tumor features and with immunotherapy. The results of this study suggest that assessment of SCLs should be routinely performed to rule out PHPT in treated BC patients with low BMD.'"
            ],
            "application/vnd.google.colaboratory.intrinsic+json": {
              "type": "string"
            }
          },
          "metadata": {},
          "execution_count": 65
        }
      ]
    },
    {
      "cell_type": "code",
      "source": [
        "[el['#text'] for el in dict['PubmedArticleSet']['PubmedArticle']['MedlineCitation']['KeywordList']['Keyword']]"
      ],
      "metadata": {
        "id": "OllcW2twtQKB",
        "outputId": "8ae216ca-eb45-4229-a81a-2fe3e1735568",
        "colab": {
          "base_uri": "https://localhost:8080/"
        }
      },
      "execution_count": 52,
      "outputs": [
        {
          "output_type": "execute_result",
          "data": {
            "text/plain": [
              "['Bone mineral density',\n",
              " 'Breast cancer',\n",
              " 'Cancer treatment',\n",
              " 'Primary hyperparathyroidism',\n",
              " 'Serum calcium']"
            ]
          },
          "metadata": {},
          "execution_count": 52
        }
      ]
    },
    {
      "cell_type": "code",
      "source": [
        "from collections.abc import Mapping\n",
        "\n",
        "def get_cites(dict):\n",
        "  cites = []\n",
        "  for el in dict['PubmedArticleSet']['PubmedArticle']['PubmedData']['ReferenceList']['Reference']:\n",
        "    try:\n",
        "      for id in el['ArticleIdList'][\"ArticleId\"]:\n",
        "        if isinstance(id, Mapping) and id['@IdType'] == \"pubmed\":\n",
        "          cites += [id['#text']]\n",
        "        else:\n",
        "          print(id)\n",
        "    except KeyError as e:\n",
        "      continue\n",
        "\n",
        "  return cites\n",
        "\n",
        "get_cites(dict)"
      ],
      "metadata": {
        "id": "r3B39ffh4tn6",
        "outputId": "d429ffd0-12b8-42c8-b0c1-93382a4784e0",
        "colab": {
          "base_uri": "https://localhost:8080/"
        }
      },
      "execution_count": 118,
      "outputs": [
        {
          "output_type": "stream",
          "name": "stdout",
          "text": [
            "{'@IdType': 'doi', '#text': '10.1016/j.jbo.2017.03.001'}\n",
            "{'@IdType': 'pmc', '#text': 'PMC5384888'}\n",
            "{'@IdType': 'doi', '#text': '10.6004/jnccn.2020.0016'}\n",
            "{'@IdType': 'doi', '#text': '10.1007/BF03343867'}\n",
            "{'@IdType': 'doi', '#text': '10.1200/JCO.2008.20.2549'}\n",
            "{'@IdType': 'doi', '#text': '10.1007/s12282-009-0158-0'}\n",
            "{'@IdType': 'doi', '#text': '10.1503/cmaj.150638'}\n",
            "{'@IdType': 'pmc', '#text': 'PMC4786403'}\n",
            "{'@IdType': 'doi', '#text': '10.1056/NEJMcp042806'}\n",
            "{'@IdType': 'doi', '#text': '10.1007/s12282-011-0253-x'}\n",
            "{'@IdType': 'doi', '#text': '10.1155/2014/608585'}\n",
            "{'@IdType': 'pmc', '#text': 'PMC4052557'}\n",
            "{'@IdType': 'doi', '#text': '10.1200/JCO.2008.17.7451'}\n",
            "{'@IdType': 'doi', '#text': '10.1200/JCO.2008.17.7451'}\n",
            "{'@IdType': 'doi', '#text': '10.3275/8580'}\n",
            "{'@IdType': 'doi', '#text': '10.1007/s10552-009-9456-2'}\n",
            "{'@IdType': 'doi', '#text': '10.1002/1097-0142(19871001)60:7%3C1620:AID-CNCR2820600733%3E3.0.CO;2-3'}\n",
            "{'@IdType': 'doi', '#text': '10.1002/1097-0142(19871001)60:7<1620::AID-CNCR2820600733>3.0.CO;2-3'}\n",
            "{'@IdType': 'doi', '#text': '10.4161/cbt.19606'}\n",
            "{'@IdType': 'doi', '#text': '10.1097/CEJ.0b013e32832c386f'}\n",
            "{'@IdType': 'doi', '#text': '10.3275/8580'}\n",
            "@IdType\n",
            "#text\n",
            "{'@IdType': 'doi', '#text': '10.1016/S0140-6736(09)60507-9'}\n",
            "{'@IdType': 'doi', '#text': '10.1007/s00268-011-1394-y'}\n",
            "@IdType\n",
            "#text\n",
            "{'@IdType': 'doi', '#text': '10.1016/j.maturitas.2017.08.008'}\n",
            "@IdType\n",
            "#text\n",
            "{'@IdType': 'doi', '#text': '10.3322/caac.21489'}\n",
            "{'@IdType': 'doi', '#text': '10.1038/366575a0'}\n",
            "{'@IdType': 'doi', '#text': '10.1002/ijc.28965'}\n",
            "{'@IdType': 'doi', '#text': '10.7314/APJCP.2012.13.9.4373'}\n"
          ]
        },
        {
          "output_type": "execute_result",
          "data": {
            "text/plain": [
              "['28413771',\n",
              " '32259783',\n",
              " '11407650',\n",
              " '19546403',\n",
              " '19657710',\n",
              " '26504099',\n",
              " '15673803',\n",
              " '21290264',\n",
              " '24959365',\n",
              " '18955450',\n",
              " '22931931',\n",
              " '19856117',\n",
              " '3621132',\n",
              " '22406994',\n",
              " '19593149',\n",
              " '22931931',\n",
              " '19595349',\n",
              " '22207495',\n",
              " '28838807',\n",
              " '30240520',\n",
              " '8255296',\n",
              " '24824552',\n",
              " '23167346']"
            ]
          },
          "metadata": {},
          "execution_count": 118
        }
      ]
    },
    {
      "cell_type": "code",
      "source": [
        "dict = xmltodict.parse(df[\"xml\"][0])\n",
        "dict"
      ],
      "metadata": {
        "id": "SPAMMCb9pAzM",
        "outputId": "a4c9b5ac-c18b-4f45-fff7-ff8b0c6b3dba",
        "colab": {
          "base_uri": "https://localhost:8080/"
        }
      },
      "execution_count": 11,
      "outputs": [
        {
          "output_type": "execute_result",
          "data": {
            "text/plain": [
              "{'PubmedArticleSet': {'PubmedArticle': {'MedlineCitation': {'@Status': 'MEDLINE',\n",
              "    '@Owner': 'NLM',\n",
              "    '@IndexingMethod': 'Automated',\n",
              "    'PMID': {'@Version': '1', '#text': '35734499'},\n",
              "    'DateCompleted': {'Year': '2022', 'Month': '06', 'Day': '24'},\n",
              "    'DateRevised': {'Year': '2022', 'Month': '07', 'Day': '16'},\n",
              "    'Article': {'@PubModel': 'Print',\n",
              "     'Journal': {'ISSN': {'@IssnType': 'Electronic', '#text': '1333-9451'},\n",
              "      'JournalIssue': {'@CitedMedium': 'Internet',\n",
              "       'Volume': '60',\n",
              "       'Issue': '4',\n",
              "       'PubDate': {'Year': '2021', 'Month': 'Dec'}},\n",
              "      'Title': 'Acta clinica Croatica',\n",
              "      'ISOAbbreviation': 'Acta Clin Croat'},\n",
              "     'ArticleTitle': 'PRIMARY HYPERPARATHYROIDISM AND SERUM CALCIUM IN BREAST CANCER PATIENTS EVALUATED FOR LOW BONE MASS - A SINGLE CENTER EXPERIENCE.',\n",
              "     'Pagination': {'StartPage': '617',\n",
              "      'EndPage': '626',\n",
              "      'MedlinePgn': '617-626'},\n",
              "     'ELocationID': {'@EIdType': 'doi',\n",
              "      '@ValidYN': 'Y',\n",
              "      '#text': '10.20471/acc.2021.60.04.08'},\n",
              "     'Abstract': {'AbstractText': 'The bone health guidelines for breast cancer (BC) patients recommend bone mineral density (BMD) testing. Patients with low BMD and elevated serum calcium levels (SCLs) are further evaluated for primary hyperparathyroidism (PHPT). We aimed to determine the prevalence of PHPT in treated BC patients with low BMD and analyze the association of SCLs with histopathologic tumor features and cancer treatment. This retrospective study included postmenopausal BC patients examined at Osteoporosis Clinic between 2013 and 2020. Clinical and BMD data were collected from patient medical records. Patients with biochemical suspicion of PHPT underwent standard parathyroid imaging procedures. Nine out of 137 (6.6%) patients were diagnosed with PHPT; 8/9 patients underwent parathyroidectomy and one patient was advised to follow-up. Among the rest of 128 non-PHPT patients, higher SCLs showed a trend of positive association with higher tumor grade and axillary lymph node involvement, and received immunotherapy, although without statistical significance. We found a higher prevalence of PHPT in treated BC patients compared to the general population. Higher SCLs show a trend of positive correlation with some more aggressive histopathologic tumor features and with immunotherapy. The results of this study suggest that assessment of SCLs should be routinely performed to rule out PHPT in treated BC patients with low BMD.'},\n",
              "     'AuthorList': {'@CompleteYN': 'Y',\n",
              "      'Author': [{'@ValidYN': 'Y',\n",
              "        'LastName': 'Punda',\n",
              "        'ForeName': 'Marija',\n",
              "        'Initials': 'M',\n",
              "        'AffiliationInfo': {'Affiliation': '1Department of Oncology and Nuclear Medicine, Sestre milosrdnice University Hospital Center, Zagreb, Croatia; 2University of Applied Health Sciences, Zagreb, Croatia; 3Department of Radiology and Nuclear Medicine, PET/CT Center, Medikol Polyclinic, Zagreb, Croatia; 4Department of Nuclear Medicine and Radiology, Martini Hospital, Groningen, The Netherlands; 5Department of Surgery, University Hospital for Tumors, Sestre milosrdnice University Hospital Center, Zagreb, Croatia; 6School of Dental Medicine, University of Zagreb, Zagreb, Croatia.'}},\n",
              "       {'@ValidYN': 'Y',\n",
              "        'LastName': 'Petranović Ovčariček',\n",
              "        'ForeName': 'Petra',\n",
              "        'Initials': 'P',\n",
              "        'AffiliationInfo': {'Affiliation': '1Department of Oncology and Nuclear Medicine, Sestre milosrdnice University Hospital Center, Zagreb, Croatia; 2University of Applied Health Sciences, Zagreb, Croatia; 3Department of Radiology and Nuclear Medicine, PET/CT Center, Medikol Polyclinic, Zagreb, Croatia; 4Department of Nuclear Medicine and Radiology, Martini Hospital, Groningen, The Netherlands; 5Department of Surgery, University Hospital for Tumors, Sestre milosrdnice University Hospital Center, Zagreb, Croatia; 6School of Dental Medicine, University of Zagreb, Zagreb, Croatia.'}},\n",
              "       {'@ValidYN': 'Y',\n",
              "        'LastName': 'Tabain',\n",
              "        'ForeName': 'Anita',\n",
              "        'Initials': 'A',\n",
              "        'AffiliationInfo': {'Affiliation': '1Department of Oncology and Nuclear Medicine, Sestre milosrdnice University Hospital Center, Zagreb, Croatia; 2University of Applied Health Sciences, Zagreb, Croatia; 3Department of Radiology and Nuclear Medicine, PET/CT Center, Medikol Polyclinic, Zagreb, Croatia; 4Department of Nuclear Medicine and Radiology, Martini Hospital, Groningen, The Netherlands; 5Department of Surgery, University Hospital for Tumors, Sestre milosrdnice University Hospital Center, Zagreb, Croatia; 6School of Dental Medicine, University of Zagreb, Zagreb, Croatia.'}},\n",
              "       {'@ValidYN': 'Y',\n",
              "        'LastName': 'Koopmans',\n",
              "        'ForeName': 'Klaas Pieter',\n",
              "        'Initials': 'KP',\n",
              "        'AffiliationInfo': {'Affiliation': '1Department of Oncology and Nuclear Medicine, Sestre milosrdnice University Hospital Center, Zagreb, Croatia; 2University of Applied Health Sciences, Zagreb, Croatia; 3Department of Radiology and Nuclear Medicine, PET/CT Center, Medikol Polyclinic, Zagreb, Croatia; 4Department of Nuclear Medicine and Radiology, Martini Hospital, Groningen, The Netherlands; 5Department of Surgery, University Hospital for Tumors, Sestre milosrdnice University Hospital Center, Zagreb, Croatia; 6School of Dental Medicine, University of Zagreb, Zagreb, Croatia.'}},\n",
              "       {'@ValidYN': 'Y',\n",
              "        'LastName': 'Alfier',\n",
              "        'ForeName': 'Gabriela',\n",
              "        'Initials': 'G',\n",
              "        'AffiliationInfo': {'Affiliation': '1Department of Oncology and Nuclear Medicine, Sestre milosrdnice University Hospital Center, Zagreb, Croatia; 2University of Applied Health Sciences, Zagreb, Croatia; 3Department of Radiology and Nuclear Medicine, PET/CT Center, Medikol Polyclinic, Zagreb, Croatia; 4Department of Nuclear Medicine and Radiology, Martini Hospital, Groningen, The Netherlands; 5Department of Surgery, University Hospital for Tumors, Sestre milosrdnice University Hospital Center, Zagreb, Croatia; 6School of Dental Medicine, University of Zagreb, Zagreb, Croatia.'}},\n",
              "       {'@ValidYN': 'Y',\n",
              "        'LastName': 'Jukić',\n",
              "        'ForeName': 'Tomislav',\n",
              "        'Initials': 'T',\n",
              "        'AffiliationInfo': {'Affiliation': '1Department of Oncology and Nuclear Medicine, Sestre milosrdnice University Hospital Center, Zagreb, Croatia; 2University of Applied Health Sciences, Zagreb, Croatia; 3Department of Radiology and Nuclear Medicine, PET/CT Center, Medikol Polyclinic, Zagreb, Croatia; 4Department of Nuclear Medicine and Radiology, Martini Hospital, Groningen, The Netherlands; 5Department of Surgery, University Hospital for Tumors, Sestre milosrdnice University Hospital Center, Zagreb, Croatia; 6School of Dental Medicine, University of Zagreb, Zagreb, Croatia.'}},\n",
              "       {'@ValidYN': 'Y',\n",
              "        'LastName': 'Fröbe',\n",
              "        'ForeName': 'Ana',\n",
              "        'Initials': 'A',\n",
              "        'AffiliationInfo': {'Affiliation': '1Department of Oncology and Nuclear Medicine, Sestre milosrdnice University Hospital Center, Zagreb, Croatia; 2University of Applied Health Sciences, Zagreb, Croatia; 3Department of Radiology and Nuclear Medicine, PET/CT Center, Medikol Polyclinic, Zagreb, Croatia; 4Department of Nuclear Medicine and Radiology, Martini Hospital, Groningen, The Netherlands; 5Department of Surgery, University Hospital for Tumors, Sestre milosrdnice University Hospital Center, Zagreb, Croatia; 6School of Dental Medicine, University of Zagreb, Zagreb, Croatia.'}}]},\n",
              "     'Language': 'eng',\n",
              "     'PublicationTypeList': {'PublicationType': {'@UI': 'D016428',\n",
              "       '#text': 'Journal Article'}}},\n",
              "    'MedlineJournalInfo': {'Country': 'Croatia',\n",
              "     'MedlineTA': 'Acta Clin Croat',\n",
              "     'NlmUniqueID': '9425483',\n",
              "     'ISSNLinking': '0353-9466'},\n",
              "    'ChemicalList': {'Chemical': {'RegistryNumber': 'SY7Q814VUP',\n",
              "      'NameOfSubstance': {'@UI': 'D002118', '#text': 'Calcium'}}},\n",
              "    'CitationSubset': 'IM',\n",
              "    'MeshHeadingList': {'MeshHeading': [{'DescriptorName': {'@UI': 'D001851',\n",
              "        '@MajorTopicYN': 'Y',\n",
              "        '#text': 'Bone Diseases, Metabolic'}},\n",
              "      {'DescriptorName': {'@UI': 'D001943',\n",
              "        '@MajorTopicYN': 'Y',\n",
              "        '#text': 'Breast Neoplasms'},\n",
              "       'QualifierName': {'@UI': 'Q000150',\n",
              "        '@MajorTopicYN': 'N',\n",
              "        '#text': 'complications'}},\n",
              "      {'DescriptorName': {'@UI': 'D002118',\n",
              "        '@MajorTopicYN': 'N',\n",
              "        '#text': 'Calcium'}},\n",
              "      {'DescriptorName': {'@UI': 'D005260',\n",
              "        '@MajorTopicYN': 'N',\n",
              "        '#text': 'Female'}},\n",
              "      {'DescriptorName': {'@UI': 'D006801',\n",
              "        '@MajorTopicYN': 'N',\n",
              "        '#text': 'Humans'}},\n",
              "      {'DescriptorName': {'@UI': 'D049950',\n",
              "        '@MajorTopicYN': 'Y',\n",
              "        '#text': 'Hyperparathyroidism, Primary'},\n",
              "       'QualifierName': [{'@UI': 'Q000150',\n",
              "         '@MajorTopicYN': 'N',\n",
              "         '#text': 'complications'},\n",
              "        {'@UI': 'Q000175', '@MajorTopicYN': 'N', '#text': 'diagnosis'}]},\n",
              "      {'DescriptorName': {'@UI': 'D010024',\n",
              "        '@MajorTopicYN': 'Y',\n",
              "        '#text': 'Osteoporosis'}},\n",
              "      {'DescriptorName': {'@UI': 'D012189',\n",
              "        '@MajorTopicYN': 'N',\n",
              "        '#text': 'Retrospective Studies'}}]},\n",
              "    'KeywordList': {'@Owner': 'NOTNLM',\n",
              "     'Keyword': [{'@MajorTopicYN': 'N', '#text': 'Bone mineral density'},\n",
              "      {'@MajorTopicYN': 'N', '#text': 'Breast cancer'},\n",
              "      {'@MajorTopicYN': 'N', '#text': 'Cancer treatment'},\n",
              "      {'@MajorTopicYN': 'N', '#text': 'Primary hyperparathyroidism'},\n",
              "      {'@MajorTopicYN': 'N', '#text': 'Serum calcium'}]}},\n",
              "   'PubmedData': {'History': {'PubMedPubDate': [{'@PubStatus': 'received',\n",
              "       'Year': '2021',\n",
              "       'Month': '8',\n",
              "       'Day': '16'},\n",
              "      {'@PubStatus': 'accepted', 'Year': '2021', 'Month': '9', 'Day': '14'},\n",
              "      {'@PubStatus': 'entrez',\n",
              "       'Year': '2022',\n",
              "       'Month': '6',\n",
              "       'Day': '23',\n",
              "       'Hour': '2',\n",
              "       'Minute': '43'},\n",
              "      {'@PubStatus': 'pubmed',\n",
              "       'Year': '2022',\n",
              "       'Month': '6',\n",
              "       'Day': '24',\n",
              "       'Hour': '6',\n",
              "       'Minute': '0'},\n",
              "      {'@PubStatus': 'medline',\n",
              "       'Year': '2022',\n",
              "       'Month': '6',\n",
              "       'Day': '25',\n",
              "       'Hour': '6',\n",
              "       'Minute': '0'}]},\n",
              "    'PublicationStatus': 'ppublish',\n",
              "    'ArticleIdList': {'ArticleId': [{'@IdType': 'pubmed', '#text': '35734499'},\n",
              "      {'@IdType': 'pmc', '#text': 'PMC9196214'},\n",
              "      {'@IdType': 'doi', '#text': '10.20471/acc.2021.60.04.08'},\n",
              "      {'@IdType': 'pii', '#text': 'acc-60-617'}]},\n",
              "    'ReferenceList': {'Reference': [{'Citation': 'Hadji P, Aapro MS, Body J-J, Gnant M, Brandi ML, Reginster JY, et al. \\nManagement of Aromatase Inhibitor-Associated Bone Loss (AIBL) in postmenopausal women with hormone sensitive breast cancer: Joint position statement of the IOF, CABS, ECTS, IEG, ESCEO IMS, and SIOG.\\nJ Bone Oncol. 2017.  June;7:1–12. [cited 2021 January 29] Available from http://www.ncbi.nlm.nih.gov/pubmed/28413771\\n[Internet]10.1016/j.jbo.2017.03.001',\n",
              "       'ArticleIdList': {'ArticleId': [{'@IdType': 'doi',\n",
              "          '#text': '10.1016/j.jbo.2017.03.001'},\n",
              "         {'@IdType': 'pmc', '#text': 'PMC5384888'},\n",
              "         {'@IdType': 'pubmed', '#text': '28413771'}]}},\n",
              "      {'Citation': 'Gradishar WJ, Anderson BO, Abraham J, Aft R, Agnese D, Allison KH, et al. \\nBreast Cancer, Version 3.2020, NCCN Clinical Practice Guidelines in Oncology.\\nJ Natl Compr Canc Netw. 2020.  January 29;18(4):452–78. [cited 2021] Available from http://www.ncbi.nlm.nih.gov/pubmed/32259783\\n[Internet]10.6004/jnccn.2020.0016',\n",
              "       'ArticleIdList': {'ArticleId': [{'@IdType': 'doi',\n",
              "          '#text': '10.6004/jnccn.2020.0016'},\n",
              "         {'@IdType': 'pubmed', '#text': '32259783'}]}},\n",
              "      {'Citation': 'Fierabracci P, Pinchera A, Miccoli P, Conte PF, Vignali E, Zaccagnini M, et al. \\nIncreased prevalence of primary hyperparathyroidism in treated breast cancer.\\nJ Endocrinol Invest. 2001.  May;24(5):315–20. [cited 2021 January 29] Available from http://www.ncbi.nlm.nih.gov/pubmed/11407650\\n[Internet]10.1007/BF03343867',\n",
              "       'ArticleIdList': {'ArticleId': [{'@IdType': 'doi',\n",
              "          '#text': '10.1007/BF03343867'},\n",
              "         {'@IdType': 'pubmed', '#text': '11407650'}]}},\n",
              "      {'Citation': 'Mann GB, Kang YC, Brand C, Ebeling PR, Miller JA. Secondary causes of low bone mass in patients with breast cancer: a need for greater vigilance.\\nJ Clin Oncol. 2009.  August 1;27(22):3605–10. [cited 2021 January 29] Available from http://www.ncbi.nlm.nih.gov/pubmed/19546403\\n[Internet]10.1200/JCO.2008.20.2549',\n",
              "       'ArticleIdList': {'ArticleId': [{'@IdType': 'doi',\n",
              "          '#text': '10.1200/JCO.2008.20.2549'},\n",
              "         {'@IdType': 'pubmed', '#text': '19546403'}]}},\n",
              "      {'Citation': 'Tanaka Y. Primary hyperparathyroidism with breast carcinoma.\\nBreast Cancer. 2010.  October;17(4):265–8. [cited 2021 January 29] Available from http://www.ncbi.nlm.nih.gov/pubmed/19657710\\n[Internet]10.1007/s12282-009-0158-0',\n",
              "       'ArticleIdList': {'ArticleId': [{'@IdType': 'doi',\n",
              "          '#text': '10.1007/s12282-009-0158-0'},\n",
              "         {'@IdType': 'pubmed', '#text': '19657710'}]}},\n",
              "      {'Citation': 'Sigvaldason H, Obayan A, von Kuster K, Pathak KA. Hypercalcemia in metastatic breast cancer unrelated to skeletal metastasis.\\nCMAJ. 2016.  March 15;188(5):E91–4. [cited 2021 January 29] Available from http://www.ncbi.nlm.nih.gov/pubmed/26504099\\n[Internet]10.1503/cmaj.150638',\n",
              "       'ArticleIdList': {'ArticleId': [{'@IdType': 'doi',\n",
              "          '#text': '10.1503/cmaj.150638'},\n",
              "         {'@IdType': 'pmc', '#text': 'PMC4786403'},\n",
              "         {'@IdType': 'pubmed', '#text': '26504099'}]}},\n",
              "      {'Citation': 'Stewart AF. Clinical practice. Hypercalcemia associated with cancer.\\nN Engl J Med. 2005.  January 27;352(4):373–9. [cited 2021 March 25] Available from http://www.ncbi.nlm.nih.gov/pubmed/15673803\\n[Internet]10.1056/NEJMcp042806',\n",
              "       'ArticleIdList': {'ArticleId': [{'@IdType': 'doi',\n",
              "          '#text': '10.1056/NEJMcp042806'},\n",
              "         {'@IdType': 'pubmed', '#text': '15673803'}]}},\n",
              "      {'Citation': 'Järhult J. Anastrozole can cause severe hypercalcaemia mimicking primary hyperparathyroidism.\\nBreast Cancer. 2014.  May;21(3):379–81. [cited 2021 January 29] Available from http://www.ncbi.nlm.nih.gov/pubmed/21290264\\n[Internet]10.1007/s12282-011-0253-x',\n",
              "       'ArticleIdList': {'ArticleId': [{'@IdType': 'doi',\n",
              "          '#text': '10.1007/s12282-011-0253-x'},\n",
              "         {'@IdType': 'pubmed', '#text': '21290264'}]}},\n",
              "      {'Citation': 'Ipekci SH, Baldane S, Ozturk E, Araz M, Korkmaz H, Colkesen F, et al. \\nLetrozole induced hypercalcemia in a patient with breast cancer.\\nCase Rep Oncol Med. 2014;2014:608585. [cited 2021 January 29] Available from http://www.ncbi.nlm.nih.gov/pubmed/24959365\\n[Internet]10.1155/2014/608585',\n",
              "       'ArticleIdList': {'ArticleId': [{'@IdType': 'doi',\n",
              "          '#text': '10.1155/2014/608585'},\n",
              "         {'@IdType': 'pmc', '#text': 'PMC4052557'},\n",
              "         {'@IdType': 'pubmed', '#text': '24959365'}]}},\n",
              "      {'Citation': 'Camacho PM, Dayal AS, Diaz JL, Nabhan FA, Agarwal M, Norton JG, et al. \\nPrevalence of secondary causes of bone loss among breast cancer patients with osteopenia and osteoporosis.\\nJ Clin Oncol. 2008.  November 20;26(33):5380–5. [cited 2021 January 29] Available from http://ascopubs.org/doi/10.1200/JCO.2008.17.7451\\n[Internet]\\n10.1200/JCO.2008.17.7451',\n",
              "       'ArticleIdList': {'ArticleId': [{'@IdType': 'doi',\n",
              "          '#text': '10.1200/JCO.2008.17.7451'},\n",
              "         {'@IdType': 'doi', '#text': '10.1200/JCO.2008.17.7451'},\n",
              "         {'@IdType': 'pubmed', '#text': '18955450'}]}},\n",
              "      {'Citation': 'Belardi V, Fiore E, Giustarini E, Muller I, Sabatini S, Rosellini V, et al. \\nIs the risk of primary hyperparathyroidism increased in patients with untreated breast cancer?\\nJ Endocrinol Invest. 2013.  May;36(5):321–5. [cited 2021 January 29] Available from http://www.ncbi.nlm.nih.gov/pubmed/22931931\\n[Internet]10.3275/8580',\n",
              "       'ArticleIdList': {'ArticleId': [{'@IdType': 'doi',\n",
              "          '#text': '10.3275/8580'},\n",
              "         {'@IdType': 'pubmed', '#text': '22931931'}]}},\n",
              "      {'Citation': 'Martin E, Miller M, Krebsbach L, Beal JR, Schwartz GG, Sahmoun AE. Serum calcium levels are elevated among women with untreated postmenopausal breast cancer. Cancer Causes Control. 2010. February;21(2):251–7. [cited 2021 January 29] [Internet]10.1007/s10552-009-9456-2',\n",
              "       'ArticleIdList': {'ArticleId': [{'@IdType': 'doi',\n",
              "          '#text': '10.1007/s10552-009-9456-2'},\n",
              "         {'@IdType': 'pubmed', '#text': '19856117'}]}},\n",
              "      {'Citation': 'Axelrod DM, Bockman RS, Wong GY, Osborne MP, Kinne DW, Brennan MF. Distinguishing features of primary hyperparathyroidism in patients with breast cancer.\\nCancer. 1987.  October 1;60(7):1620–4. [cited 2021 March 24] Available from https://onlinelibrary.wiley.com/doi/10.1002/1097-0142(19871001)60:7%3C1620:AID-CNCR2820600733%3E3.0.CO;2-3\\n[Internet]\\n10.1002/1097-0142(19871001)60:7<1620::AID-CNCR2820600733>3.0.CO;2-3',\n",
              "       'ArticleIdList': {'ArticleId': [{'@IdType': 'doi',\n",
              "          '#text': '10.1002/1097-0142(19871001)60:7%3C1620:AID-CNCR2820600733%3E3.0.CO;2-3'},\n",
              "         {'@IdType': 'doi',\n",
              "          '#text': '10.1002/1097-0142(19871001)60:7<1620::AID-CNCR2820600733>3.0.CO;2-3'},\n",
              "         {'@IdType': 'pubmed', '#text': '3621132'}]}},\n",
              "      {'Citation': 'Thaw SSH, Sahmoun A, Schwartz GG. Serum calcium, tumor size, and hormone receptor status in women with untreated breast cancer.\\nCancer Biol Ther. 2012.  May;13(7):467–71. [cited 2021 January 29] Available from http://www.ncbi.nlm.nih.gov/pubmed/22406994\\n[Internet]10.4161/cbt.19606',\n",
              "       'ArticleIdList': {'ArticleId': [{'@IdType': 'doi',\n",
              "          '#text': '10.4161/cbt.19606'},\n",
              "         {'@IdType': 'pubmed', '#text': '22406994'}]}},\n",
              "      {'Citation': 'Almquist M, Anagnostaki L, Bondeson L, Bondeson A-G, Borgquist S, Landberg G, et al. \\nSerum calcium and tumour aggressiveness in breast cancer: a prospective study of 7847 women.\\nEur J Cancer Prev. 2009.  September;18(5):354–60. [cited 2021 January 29] Available from http://www.ncbi.nlm.nih.gov/pubmed/19593149\\n[Internet]10.1097/CEJ.0b013e32832c386f',\n",
              "       'ArticleIdList': {'ArticleId': [{'@IdType': 'doi',\n",
              "          '#text': '10.1097/CEJ.0b013e32832c386f'},\n",
              "         {'@IdType': 'pubmed', '#text': '19593149'}]}},\n",
              "      {'Citation': 'Belardi V, Fiore E, Giustarini E, Muller I, Sabatini S, Rosellini V, et al. \\nIs the risk of primary hyperparathyroidism increased in patients with untreated breast cancer?\\nJ Endocrinol Invest. 2013.  May;36(5):321–5. [cited 2021 January 29] Available from http://www.ncbi.nlm.nih.gov/pubmed/22931931\\n[Internet]10.3275/8580',\n",
              "       'ArticleIdList': {'ArticleId': [{'@IdType': 'doi',\n",
              "          '#text': '10.3275/8580'},\n",
              "         {'@IdType': 'pubmed', '#text': '22931931'}]}},\n",
              "      {'Citation': 'The WHO Study Group . Assessment of fracture risk and its application to screening for postmenopausal osteoporosis. World Health Organ Tech Rep Ser. 1994;843:1–129.',\n",
              "       'ArticleIdList': {'ArticleId': {'@IdType': 'pubmed',\n",
              "         '#text': '7941614'}}},\n",
              "      {'Citation': 'Amin MB, Edge SB, Greene F, Byrd DR, Brookland R., Washington MK, et al. AJCC Cancer Staging Manual [Internet]. 8th edn. New York: Springer, 2017; p. 1024. [cited 2021 Mar 25]. Available from: https://www.springer.com/gp/book/9783319406176#aboutBook'},\n",
              "      {'Citation': 'Fraser WD. Hyperparathyroidism. Lancet. 2009. July 11;374(9684):145–58. 10.1016/S0140-6736(09)60507-9',\n",
              "       'ArticleIdList': {'ArticleId': [{'@IdType': 'doi',\n",
              "          '#text': '10.1016/S0140-6736(09)60507-9'},\n",
              "         {'@IdType': 'pubmed', '#text': '19595349'}]}},\n",
              "      {'Citation': 'Woll ML, Mazeh H, Anderson BM, Chen H, Sippel RS. Breast radiation correlates with side of parathyroid adenoma.\\nWorld J Surg. 2012.  March;36(3):607–11. [cited 2021 March 24] Available from http://www.ncbi.nlm.nih.gov/pubmed/22207495\\n[Internet]10.1007/s00268-011-1394-y',\n",
              "       'ArticleIdList': {'ArticleId': [{'@IdType': 'doi',\n",
              "          '#text': '10.1007/s00268-011-1394-y'},\n",
              "         {'@IdType': 'pubmed', '#text': '22207495'}]}},\n",
              "      {'Citation': 'Beard CM, Heath H, O’Fallon WM, Anderson JA, Earle JD, Melton LJ. Therapeutic radiation and hyperparathyroidism. A case-control study in Rochester, Minn. Arch Intern Med [Internet]. 1989 Aug 1;149(8):1887. [cited 2021 Mar 25] Available from: http://archinte.jamanetwork.com/article.aspx?doi=10.1001/archinte.1989.00390080135030',\n",
              "       'ArticleIdList': {'ArticleId': {'@IdType': 'pubmed',\n",
              "         '#text': '2764660'}}},\n",
              "      {'Citation': 'Bruyère O, Bergmann P, Cavalier E, Gielen E, Goemaere S, Kaufman J-M, et al. Skeletal health in breast cancer survivors. Maturitas. 2017. November;105:78–82. Epub 2017 Aug 18.10.1016/j.maturitas.2017.08.008',\n",
              "       'ArticleIdList': {'ArticleId': [{'@IdType': 'doi',\n",
              "          '#text': '10.1016/j.maturitas.2017.08.008'},\n",
              "         {'@IdType': 'pubmed', '#text': '28838807'}]}},\n",
              "      {'Citation': 'Šeparović R, Ban M, Silovska T, Beketić Oresković L, Soldić Ž, Podolski P, et al. Clinical guidelines for diagnosis, treatment and monitoring of patients with invasive breast cancer – Croatian Oncology Society. Lijec Vjesn. 2015. May-June;137(5-6):143–9.',\n",
              "       'ArticleIdList': {'ArticleId': {'@IdType': 'pubmed',\n",
              "         '#text': '26380471'}}},\n",
              "      {'Citation': 'Zagzag J, Hu MI, Fisher SB, Perrier ND. Hypercalcemia and cancer: differential diagnosis and treatment. CA Cancer J Clin. 2018. September;68(5):377–86. Epub 2018 Sep 21.10.3322/caac.21489',\n",
              "       'ArticleIdList': {'ArticleId': [{'@IdType': 'doi',\n",
              "          '#text': '10.3322/caac.21489'},\n",
              "         {'@IdType': 'pubmed', '#text': '30240520'}]}},\n",
              "      {'Citation': 'Brown EM, Gamba G, Riccardi D, Lombardi M, Butters R, Kifor O, et al. Cloning and characterization of an extracellular Ca(2+)-sensing receptor from bovine parathyroid. Nature. 1993;366(6455):575–80. 10.1038/366575a0',\n",
              "       'ArticleIdList': {'ArticleId': [{'@IdType': 'doi',\n",
              "          '#text': '10.1038/366575a0'},\n",
              "         {'@IdType': 'pubmed', '#text': '8255296'}]}},\n",
              "      {'Citation': 'Mathew A, Brufsky A. Bisphosphonates in breast cancer.\\nInt J Cancer. 2015.  August 15;137(4):753–64. [cited 2021 March 29] Available from http://www.ncbi.nlm.nih.gov/pubmed/24824552\\n[Internet]10.1002/ijc.28965',\n",
              "       'ArticleIdList': {'ArticleId': [{'@IdType': 'doi',\n",
              "          '#text': '10.1002/ijc.28965'},\n",
              "         {'@IdType': 'pubmed', '#text': '24824552'}]}},\n",
              "      {'Citation': 'Hassan BAR, Yusoff ZBM, Hassali MA, Othman SB, Weiderpass E. Impact of chemotherapy on hypercalcemia in breast and lung cancer patients.\\nAsian Pac J Cancer Prev. 2012;13(9):4373–8. [cited 2021 January 29] Available from http://www.ncbi.nlm.nih.gov/pubmed/23167346\\n[Internet]10.7314/APJCP.2012.13.9.4373',\n",
              "       'ArticleIdList': {'ArticleId': [{'@IdType': 'doi',\n",
              "          '#text': '10.7314/APJCP.2012.13.9.4373'},\n",
              "         {'@IdType': 'pubmed', '#text': '23167346'}]}}]}}}}}"
            ]
          },
          "metadata": {},
          "execution_count": 11
        }
      ]
    },
    {
      "cell_type": "code",
      "source": [],
      "metadata": {
        "id": "m0McdWRLpIjm"
      },
      "execution_count": null,
      "outputs": []
    }
  ],
  "metadata": {
    "kernelspec": {
      "display_name": "rl",
      "language": "python",
      "name": "python3"
    },
    "language_info": {
      "codemirror_mode": {
        "name": "ipython",
        "version": 3
      },
      "file_extension": ".py",
      "mimetype": "text/x-python",
      "name": "python",
      "nbconvert_exporter": "python",
      "pygments_lexer": "ipython3",
      "version": "3.10.6"
    },
    "orig_nbformat": 4,
    "colab": {
      "provenance": [],
      "include_colab_link": true
    }
  },
  "nbformat": 4,
  "nbformat_minor": 0
}